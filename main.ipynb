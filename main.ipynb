{
 "cells": [
  {
   "cell_type": "code",
   "execution_count": 1,
   "outputs": [],
   "source": [
    "import pandas as pd\n",
    "from scipy import stats\n",
    "import seaborn as sb\n",
    "sb.set(style='whitegrid', palette=\"deep\", font_scale=1.1, rc={\"figure.figsize\": [11.7, 8.27]})"
   ],
   "metadata": {
    "collapsed": false,
    "pycharm": {
     "name": "#%%\n"
    }
   }
  },
  {
   "cell_type": "code",
   "execution_count": 2,
   "outputs": [],
   "source": [
    "df = pd.read_excel('./Grupo 01.xlsx')"
   ],
   "metadata": {
    "collapsed": false,
    "pycharm": {
     "name": "#%%\n"
    }
   }
  },
  {
   "cell_type": "markdown",
   "source": [
    "# Functions"
   ],
   "metadata": {
    "collapsed": false,
    "pycharm": {
     "name": "#%% md\n"
    }
   }
  },
  {
   "cell_type": "code",
   "execution_count": 19,
   "outputs": [],
   "source": [
    "def fill_dataframes (names: list,val: dict):\n",
    "    \"\"\"Generate a dataframe using value list instead single values.\n",
    "\n",
    "    Args:\n",
    "        names(str): name of variable or columns\n",
    "        val(int): values for each column, should be a dict to use its\n",
    "        key to make match with name string id and insert in df.\n",
    "\n",
    "    Return:\n",
    "        Pandas dataframe\n",
    "    \"\"\"\n",
    "\n",
    "    df_output = pd.DataFrame()\n",
    "    for i in names:\n",
    "        df_output[i] = val[i]\n",
    "    return df_output"
   ],
   "metadata": {
    "collapsed": false,
    "pycharm": {
     "name": "#%%\n"
    }
   }
  },
  {
   "cell_type": "code",
   "execution_count": 24,
   "outputs": [],
   "source": [
    "def acum_freq (dataframe, option):\n",
    "    \"\"\"Generate frequency table including accumulates.\n",
    "\n",
    "    Args:\n",
    "        dataframe(pd.Dataframe): df with rel and abs requencies. The sum of them are the acums.\n",
    "        option(int): to choise frequency's type to calculate.\n",
    "    \"\"\"\n",
    "\n",
    "    indexer = 0\n",
    "    accumulated = []\n",
    "\n",
    "    if option == 1: #opcion para obtener la frecuencia absoluta\n",
    "       values = dataframe['Frecuencia_absoluta'].values\n",
    "\n",
    "       for i in values:\n",
    "            indexer = indexer + i\n",
    "            accumulated.append(indexer)\n",
    "\n",
    "       dataframe['Frec_absoluta_acumulada'] = accumulated\n",
    "\n",
    "    elif option == 2: #opcion para obtener la frecuencia relativa\n",
    "        values = dataframe['Frecuencia_relativa'].values\n",
    "\n",
    "        for i in values:\n",
    "            indexer = indexer + i\n",
    "            accumulated.append(indexer)\n",
    "\n",
    "        dataframe['Frec_relativa_acumulada'] = accumulated\n",
    "\n",
    "def abs_freq (values):\n",
    "    \"\"\"Get absolute frequency given values to count.\n",
    "\n",
    "    Args:\n",
    "        values(pd.Dataframe): structure with values to count frequency.\n",
    "\n",
    "    Return:\n",
    "        New dataframe with abs freq.\n",
    "    \"\"\"\n",
    "\n",
    "    frec_ab = values.value_counts() #this pd.function only gives absolute freq.\n",
    "    frec_df = pd.DataFrame(frec_ab)\n",
    "    frec_df.columns = ['Frecuencia_absoluta']\n",
    "    return frec_df\n",
    "\n",
    "def rel_freq (dataframe, source):\n",
    "    \"\"\"Add new column in df with relative frequencies given abs before.\n",
    "\n",
    "    Args:\n",
    "        dataframe(pd.DataFrame): df with absolute values.\n",
    "        source(np.array): list of values to know the length.\n",
    "    \"\"\"\n",
    "\n",
    "    dataframe['Frecuencia_relativa'] = round(dataframe['Frecuencia_absoluta'] * 100 / len(source),3)\n"
   ],
   "metadata": {
    "collapsed": false,
    "pycharm": {
     "name": "#%%\n"
    }
   }
  },
  {
   "cell_type": "code",
   "execution_count": 31,
   "outputs": [],
   "source": [
    "def central_m (datasource, num_variable, qul_variable):\n",
    "    \"\"\"Generate df with central measures regarding dichotomy variable.\n",
    "\n",
    "    Args:\n",
    "        datasource(pd.Dataframe): source to get values.\n",
    "        num_variable(str): name of column in datasource to get numeric values.\n",
    "        qul_variable(str): name of column in datasource to get dichotomy values.\n",
    "\n",
    "    Return:\n",
    "        A dataframe with central measures regarding dichotomy variable.\n",
    "    \"\"\"\n",
    "\n",
    "    try:\n",
    "        var_filter = datasource[num_variable]\n",
    "        df = pd.DataFrame()\n",
    "        df['media'] = var_filter\n",
    "        df['qualitative_index'] = datasource[qul_variable]\n",
    "        gb_gateway = round(df.groupby(['qualitative_index']).mean(),2)\n",
    "        gb_gateway['mediana'] = df.groupby(['qualitative_index']).median().values\n",
    "        gb_gateway['mode'] = df.groupby(['qualitative_index']).agg(pd.Series.mode).values # due mode is a serie with numeric and string, we just take numeric values and use pd.agg() to apply nested function.\n",
    "        return gb_gateway\n",
    "\n",
    "    except Exception:\n",
    "        print(f\"Something was wrong while function, {type(Exception.__name__)}\")\n"
   ],
   "metadata": {
    "collapsed": false,
    "pycharm": {
     "name": "#%%\n"
    }
   }
  },
  {
   "cell_type": "markdown",
   "source": [
    "# Center measures 🧷"
   ],
   "metadata": {
    "collapsed": false,
    "pycharm": {
     "name": "#%% md\n"
    }
   }
  },
  {
   "cell_type": "code",
   "execution_count": 46,
   "outputs": [
    {
     "name": "stderr",
     "output_type": "stream",
     "text": [
      "C:\\Users\\kevin\\miniconda3\\envs\\Laboratorio-practico-2\\lib\\site-packages\\scipy\\stats\\stats.py:275: RuntimeWarning: divide by zero encountered in log\n",
      "  log_a = np.log(np.array(a, dtype=dtype))\n"
     ]
    },
    {
     "data": {
      "text/plain": "    Media  Mediana                           Moda  Media_geometrica  \\\n0  317.04   245.00                        [220.0]            253.47   \n1  120.01    96.00                         [60.0]            103.67   \n2    4.65     5.00                            [6]              4.48   \n3    2.89     3.00                            [3]              2.81   \n4    2.29     2.00                            [2]              2.16   \n5    0.26     0.19                          [0.0]              0.00   \n6  185.33   133.69  [28.08274, 74.0, 95.0, 159.0]            125.95   \n\n   Media_armonica  \n0          206.39  \n1           91.74  \n2            4.30  \n3            2.71  \n4            2.03  \n5            0.00  \n6           25.06  ",
      "text/html": "<div>\n<style scoped>\n    .dataframe tbody tr th:only-of-type {\n        vertical-align: middle;\n    }\n\n    .dataframe tbody tr th {\n        vertical-align: top;\n    }\n\n    .dataframe thead th {\n        text-align: right;\n    }\n</style>\n<table border=\"1\" class=\"dataframe\">\n  <thead>\n    <tr style=\"text-align: right;\">\n      <th></th>\n      <th>Media</th>\n      <th>Mediana</th>\n      <th>Moda</th>\n      <th>Media_geometrica</th>\n      <th>Media_armonica</th>\n    </tr>\n  </thead>\n  <tbody>\n    <tr>\n      <th>0</th>\n      <td>317.04</td>\n      <td>245.00</td>\n      <td>[220.0]</td>\n      <td>253.47</td>\n      <td>206.39</td>\n    </tr>\n    <tr>\n      <th>1</th>\n      <td>120.01</td>\n      <td>96.00</td>\n      <td>[60.0]</td>\n      <td>103.67</td>\n      <td>91.74</td>\n    </tr>\n    <tr>\n      <th>2</th>\n      <td>4.65</td>\n      <td>5.00</td>\n      <td>[6]</td>\n      <td>4.48</td>\n      <td>4.30</td>\n    </tr>\n    <tr>\n      <th>3</th>\n      <td>2.89</td>\n      <td>3.00</td>\n      <td>[3]</td>\n      <td>2.81</td>\n      <td>2.71</td>\n    </tr>\n    <tr>\n      <th>4</th>\n      <td>2.29</td>\n      <td>2.00</td>\n      <td>[2]</td>\n      <td>2.16</td>\n      <td>2.03</td>\n    </tr>\n    <tr>\n      <th>5</th>\n      <td>0.26</td>\n      <td>0.19</td>\n      <td>[0.0]</td>\n      <td>0.00</td>\n      <td>0.00</td>\n    </tr>\n    <tr>\n      <th>6</th>\n      <td>185.33</td>\n      <td>133.69</td>\n      <td>[28.08274, 74.0, 95.0, 159.0]</td>\n      <td>125.95</td>\n      <td>25.06</td>\n    </tr>\n  </tbody>\n</table>\n</div>"
     },
     "execution_count": 46,
     "metadata": {},
     "output_type": "execute_result"
    }
   ],
   "source": [
    "variables = ['precio','mt2','estrato','alcobas','banos','administracion','avaluo']\n",
    "\n",
    "var_media = [round(df[i].mean(),2) for i in variables]\n",
    "var_mediana = [round(df[i].median(),2) for i in variables]\n",
    "var_mode  = [df[i].mode().values for i in variables]\n",
    "var_media_geo = [round(stats.gmean(df[i]),2) for i in variables]\n",
    "var_media_arm = [round(stats.hmean(df[i]),2) for i in variables]\n",
    "\n",
    "df_variables = pd.DataFrame(var_media)\n",
    "df_variables.columns = ['Media']\n",
    "df_variables['Mediana'] = var_mediana\n",
    "df_variables['Moda'] = var_mode\n",
    "df_variables['Media_geometrica'] = var_media_geo\n",
    "df_variables['Media_armonica'] = var_media_arm\n",
    "df_variables"
   ],
   "metadata": {
    "collapsed": false,
    "pycharm": {
     "name": "#%%\n"
    }
   }
  },
  {
   "cell_type": "markdown",
   "source": [
    "# Scatter measures"
   ],
   "metadata": {
    "collapsed": false,
    "pycharm": {
     "name": "#%% md\n"
    }
   }
  },
  {
   "cell_type": "code",
   "execution_count": 25,
   "outputs": [
    {
     "data": {
      "text/plain": "      std     min      max      q1      q3       var   asi    kur     range\n0  247.87  25.000  1700.00  160.00  380.00  61439.09  2.39   7.04  1675.000\n1   74.00  26.000   500.00   72.00  140.00   5475.51  1.89   3.98   474.000\n2    1.19   2.000     6.00    4.00    6.00      1.43 -0.25  -1.33     4.000\n3    0.64   1.000     5.00    3.00    3.00      0.41 -0.10   1.55     4.000\n4    0.78   1.000     5.00    2.00    3.00      0.61  0.76   0.83     4.000\n5    0.26   0.000     2.28    0.09    0.36      0.07  2.21  10.48     2.280\n6  176.53   0.149  1518.14   73.11  231.76  31164.46  2.79  12.96  1517.991",
      "text/html": "<div>\n<style scoped>\n    .dataframe tbody tr th:only-of-type {\n        vertical-align: middle;\n    }\n\n    .dataframe tbody tr th {\n        vertical-align: top;\n    }\n\n    .dataframe thead th {\n        text-align: right;\n    }\n</style>\n<table border=\"1\" class=\"dataframe\">\n  <thead>\n    <tr style=\"text-align: right;\">\n      <th></th>\n      <th>std</th>\n      <th>min</th>\n      <th>max</th>\n      <th>q1</th>\n      <th>q3</th>\n      <th>var</th>\n      <th>asi</th>\n      <th>kur</th>\n      <th>range</th>\n    </tr>\n  </thead>\n  <tbody>\n    <tr>\n      <th>0</th>\n      <td>247.87</td>\n      <td>25.000</td>\n      <td>1700.00</td>\n      <td>160.00</td>\n      <td>380.00</td>\n      <td>61439.09</td>\n      <td>2.39</td>\n      <td>7.04</td>\n      <td>1675.000</td>\n    </tr>\n    <tr>\n      <th>1</th>\n      <td>74.00</td>\n      <td>26.000</td>\n      <td>500.00</td>\n      <td>72.00</td>\n      <td>140.00</td>\n      <td>5475.51</td>\n      <td>1.89</td>\n      <td>3.98</td>\n      <td>474.000</td>\n    </tr>\n    <tr>\n      <th>2</th>\n      <td>1.19</td>\n      <td>2.000</td>\n      <td>6.00</td>\n      <td>4.00</td>\n      <td>6.00</td>\n      <td>1.43</td>\n      <td>-0.25</td>\n      <td>-1.33</td>\n      <td>4.000</td>\n    </tr>\n    <tr>\n      <th>3</th>\n      <td>0.64</td>\n      <td>1.000</td>\n      <td>5.00</td>\n      <td>3.00</td>\n      <td>3.00</td>\n      <td>0.41</td>\n      <td>-0.10</td>\n      <td>1.55</td>\n      <td>4.000</td>\n    </tr>\n    <tr>\n      <th>4</th>\n      <td>0.78</td>\n      <td>1.000</td>\n      <td>5.00</td>\n      <td>2.00</td>\n      <td>3.00</td>\n      <td>0.61</td>\n      <td>0.76</td>\n      <td>0.83</td>\n      <td>4.000</td>\n    </tr>\n    <tr>\n      <th>5</th>\n      <td>0.26</td>\n      <td>0.000</td>\n      <td>2.28</td>\n      <td>0.09</td>\n      <td>0.36</td>\n      <td>0.07</td>\n      <td>2.21</td>\n      <td>10.48</td>\n      <td>2.280</td>\n    </tr>\n    <tr>\n      <th>6</th>\n      <td>176.53</td>\n      <td>0.149</td>\n      <td>1518.14</td>\n      <td>73.11</td>\n      <td>231.76</td>\n      <td>31164.46</td>\n      <td>2.79</td>\n      <td>12.96</td>\n      <td>1517.991</td>\n    </tr>\n  </tbody>\n</table>\n</div>"
     },
     "execution_count": 25,
     "metadata": {},
     "output_type": "execute_result"
    }
   ],
   "source": [
    "var_std = [round(df[i].std(),2) for i in variables]\n",
    "var_min = [df[i].min() for i in variables]\n",
    "var_max = [df[i].max() for i in variables]\n",
    "var_q1 = [round(df[i].quantile(q=0.25),2) for i in variables]\n",
    "var_q3 = [round(df[i].quantile(q=0.75),2) for i in variables]\n",
    "var_var = [round(df[i].var(),2) for i in variables]\n",
    "var_asi = [round(df[i].skew(),2) for i in variables]\n",
    "var_kur = [round(stats.kurtosis(df[i], fisher=True),2) for i in variables]\n",
    "var_range = [df[i].max() - df[i].min() for i in variables]\n",
    "\n",
    "values = {\n",
    "    'std': var_std,\n",
    "    'min': var_min,\n",
    "    'max': var_max,\n",
    "    'q1': var_q1,\n",
    "    'q3': var_q3,\n",
    "    'var': var_var,\n",
    "    'asi': var_asi,\n",
    "    'kur': var_kur,\n",
    "    'range': var_range,\n",
    "}\n",
    "\n",
    "name_col = ['std','min','max','q1','q3','var','asi','kur','range']\n",
    "\n",
    "df_sct = fill_dataframes(name_col, values)\n",
    "df_sct"
   ],
   "metadata": {
    "collapsed": false,
    "pycharm": {
     "name": "#%%\n"
    }
   }
  },
  {
   "cell_type": "markdown",
   "source": [
    "Functions to get absolutes and relatives frequencies"
   ],
   "metadata": {
    "collapsed": false,
    "pycharm": {
     "name": "#%% md\n"
    }
   }
  },
  {
   "cell_type": "code",
   "execution_count": 26,
   "outputs": [
    {
     "data": {
      "text/plain": "                Frecuencia_absoluta  Frecuencia_relativa  \\\npoblado                         134               38.617   \naburra sur                       84               24.207   \nlaureles                         36               10.375   \noccidente                        35               10.086   \nbelen guayabal                   34                9.798   \ncentro                           19                5.476   \nnorte                             5                1.441   \n\n                Frec_absoluta_acumulada  Frec_relativa_acumulada  \npoblado                             134                   38.617  \naburra sur                          218                   62.824  \nlaureles                            254                   73.199  \noccidente                           289                   83.285  \nbelen guayabal                      323                   93.083  \ncentro                              342                   98.559  \nnorte                               347                  100.000  ",
      "text/html": "<div>\n<style scoped>\n    .dataframe tbody tr th:only-of-type {\n        vertical-align: middle;\n    }\n\n    .dataframe tbody tr th {\n        vertical-align: top;\n    }\n\n    .dataframe thead th {\n        text-align: right;\n    }\n</style>\n<table border=\"1\" class=\"dataframe\">\n  <thead>\n    <tr style=\"text-align: right;\">\n      <th></th>\n      <th>Frecuencia_absoluta</th>\n      <th>Frecuencia_relativa</th>\n      <th>Frec_absoluta_acumulada</th>\n      <th>Frec_relativa_acumulada</th>\n    </tr>\n  </thead>\n  <tbody>\n    <tr>\n      <th>poblado</th>\n      <td>134</td>\n      <td>38.617</td>\n      <td>134</td>\n      <td>38.617</td>\n    </tr>\n    <tr>\n      <th>aburra sur</th>\n      <td>84</td>\n      <td>24.207</td>\n      <td>218</td>\n      <td>62.824</td>\n    </tr>\n    <tr>\n      <th>laureles</th>\n      <td>36</td>\n      <td>10.375</td>\n      <td>254</td>\n      <td>73.199</td>\n    </tr>\n    <tr>\n      <th>occidente</th>\n      <td>35</td>\n      <td>10.086</td>\n      <td>289</td>\n      <td>83.285</td>\n    </tr>\n    <tr>\n      <th>belen guayabal</th>\n      <td>34</td>\n      <td>9.798</td>\n      <td>323</td>\n      <td>93.083</td>\n    </tr>\n    <tr>\n      <th>centro</th>\n      <td>19</td>\n      <td>5.476</td>\n      <td>342</td>\n      <td>98.559</td>\n    </tr>\n    <tr>\n      <th>norte</th>\n      <td>5</td>\n      <td>1.441</td>\n      <td>347</td>\n      <td>100.000</td>\n    </tr>\n  </tbody>\n</table>\n</div>"
     },
     "execution_count": 26,
     "metadata": {},
     "output_type": "execute_result"
    }
   ],
   "source": [
    "var_ubicacion = df['ubicacion']\n",
    "\n",
    "'''Frecuencia absoluta'''\n",
    "\n",
    "frec_ubicacion = abs_freq(var_ubicacion)\n",
    "\n",
    "'''Frecuencia relativa'''\n",
    "\n",
    "rel_freq(frec_ubicacion, var_ubicacion)\n",
    "\n",
    "'''Frecuencia absoluta acumulada'''\n",
    "acum_freq(frec_ubicacion, 1)\n",
    "\n",
    "'''Frecuencia relativa acumulada'''\n",
    "\n",
    "acum_freq(frec_ubicacion, 2)\n",
    "frec_ubicacion"
   ],
   "metadata": {
    "collapsed": false,
    "pycharm": {
     "name": "#%%\n"
    }
   }
  },
  {
   "cell_type": "code",
   "execution_count": null,
   "outputs": [],
   "source": [
    "price_parking_cm = central_m(df, 'precio', 'parqueadero')"
   ],
   "metadata": {
    "collapsed": false,
    "pycharm": {
     "name": "#%%\n"
    }
   }
  },
  {
   "cell_type": "code",
   "execution_count": 32,
   "outputs": [
    {
     "data": {
      "text/plain": "                    media  mediana  mode\nqualitative_index                       \nno                  93.04     78.5  62.0\nsi                 124.98    100.0  60.0",
      "text/html": "<div>\n<style scoped>\n    .dataframe tbody tr th:only-of-type {\n        vertical-align: middle;\n    }\n\n    .dataframe tbody tr th {\n        vertical-align: top;\n    }\n\n    .dataframe thead th {\n        text-align: right;\n    }\n</style>\n<table border=\"1\" class=\"dataframe\">\n  <thead>\n    <tr style=\"text-align: right;\">\n      <th></th>\n      <th>media</th>\n      <th>mediana</th>\n      <th>mode</th>\n    </tr>\n    <tr>\n      <th>qualitative_index</th>\n      <th></th>\n      <th></th>\n      <th></th>\n    </tr>\n  </thead>\n  <tbody>\n    <tr>\n      <th>no</th>\n      <td>93.04</td>\n      <td>78.5</td>\n      <td>62.0</td>\n    </tr>\n    <tr>\n      <th>si</th>\n      <td>124.98</td>\n      <td>100.0</td>\n      <td>60.0</td>\n    </tr>\n  </tbody>\n</table>\n</div>"
     },
     "execution_count": 32,
     "metadata": {},
     "output_type": "execute_result"
    }
   ],
   "source": [
    "mt2_ended_cm = central_m(df, 'mt2', 'terminado')\n",
    "mt2_ended_cm"
   ],
   "metadata": {
    "collapsed": false,
    "pycharm": {
     "name": "#%%\n"
    }
   }
  },
  {
   "cell_type": "markdown",
   "source": [
    "Getting rel and abs frequencies with the past functions"
   ],
   "metadata": {
    "collapsed": false,
    "pycharm": {
     "name": "#%% md\n"
    }
   }
  },
  {
   "cell_type": "markdown",
   "source": [
    "# Charts"
   ],
   "metadata": {
    "collapsed": false,
    "pycharm": {
     "name": "#%% md\n"
    }
   }
  },
  {
   "cell_type": "code",
   "execution_count": null,
   "outputs": [],
   "source": [
    "sb.scatterplot(x='avaluo',y='precio',data=df,hue='estrato').set_title(\"Avaluo de los apartamentos vs sus precios de venta y estrato al que pertencen\")"
   ],
   "metadata": {
    "collapsed": false,
    "pycharm": {
     "name": "#%%\n"
    }
   }
  },
  {
   "cell_type": "code",
   "execution_count": null,
   "outputs": [],
   "source": [
    "sb.barplot(x='ubicacion',y='mt2',hue='terminado',data=df,ci=None).set_title(\"Ubicaciones con más apartamentos terminados\")"
   ],
   "metadata": {
    "collapsed": false,
    "pycharm": {
     "name": "#%%\n"
    }
   }
  },
  {
   "cell_type": "markdown",
   "source": [
    "Function to get central measures"
   ],
   "metadata": {
    "collapsed": false,
    "pycharm": {
     "name": "#%% md\n"
    }
   }
  },
  {
   "cell_type": "code",
   "execution_count": null,
   "outputs": [],
   "source": [
    "sb.boxplot(data=mt2_ended_cm, orient='h').set_title(\"Medidas de tendecia central de los mt2 segun estado de construccion\")"
   ],
   "metadata": {
    "collapsed": false,
    "pycharm": {
     "name": "#%%\n"
    }
   }
  }
 ],
 "metadata": {
  "kernelspec": {
   "display_name": "Python 3",
   "language": "python",
   "name": "python3"
  },
  "language_info": {
   "codemirror_mode": {
    "name": "ipython",
    "version": 2
   },
   "file_extension": ".py",
   "mimetype": "text/x-python",
   "name": "python",
   "nbconvert_exporter": "python",
   "pygments_lexer": "ipython2",
   "version": "2.7.6"
  }
 },
 "nbformat": 4,
 "nbformat_minor": 0
}