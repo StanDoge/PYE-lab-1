{
 "cells": [
  {
   "cell_type": "markdown",
   "source": [
    "# + Libraries needed"
   ],
   "metadata": {
    "collapsed": false
   }
  },
  {
   "cell_type": "code",
   "execution_count": 1,
   "outputs": [],
   "source": [
    "import pandas as pd\n",
    "from scipy import stats\n",
    "import seaborn as sb\n",
    "sb.set(style='whitegrid', palette=\"deep\", font_scale=1.1, rc={\"figure.figsize\": [11.7, 8.27]})"
   ],
   "metadata": {
    "collapsed": false,
    "pycharm": {
     "name": "#%%\n"
    }
   }
  },
  {
   "cell_type": "markdown",
   "source": [
    "# + Load dataframe"
   ],
   "metadata": {
    "collapsed": false
   }
  },
  {
   "cell_type": "code",
   "execution_count": 2,
   "outputs": [],
   "source": [
    "df = pd.read_excel('./Grupo 01.xlsx')"
   ],
   "metadata": {
    "collapsed": false,
    "pycharm": {
     "name": "#%%\n"
    }
   }
  },
  {
   "cell_type": "markdown",
   "source": [
    "# + Quantitative Measures"
   ],
   "metadata": {
    "collapsed": false
   }
  },
  {
   "cell_type": "markdown",
   "source": [
    "## - Center's measurement"
   ],
   "metadata": {
    "collapsed": false
   }
  },
  {
   "cell_type": "code",
   "execution_count": 3,
   "outputs": [
    {
     "name": "stderr",
     "output_type": "stream",
     "text": [
      "g:\\my drive\\universidad\\pye\\projects\\venv\\lib\\site-packages\\scipy\\stats\\_stats_py.py:279: RuntimeWarning: divide by zero encountered in log\n",
      "  log_a = np.log(np.array(a, dtype=dtype))\n"
     ]
    }
   ],
   "source": [
    "variables = ['precio','mt2','estrato','alcobas','banos','administracion','avaluo']\n",
    "\n",
    "var_media = [round(df[i].mean(),2) for i in variables]\n",
    "var_mediana = [round(df[i].median(),2) for i in variables]\n",
    "var_mode = [round(df[i].mode(),2) for i in variables]\n",
    "var_media_geo = [round(stats.gmean(df[i]),2) for i in variables]\n",
    "var_media_arm = [round(stats.hmean(df[i]),2) for i in variables]\n",
    "\n",
    "df_variables = pd.DataFrame(var_media)\n",
    "df_variables.columns = ['Media']\n",
    "df_variables['Mediana'] = var_mediana\n",
    "df_variables['Moda'] = var_mode\n",
    "df_variables['Media_geometrica'] = var_media_geo\n",
    "df_variables['Media_armonica'] = var_media_arm"
   ],
   "metadata": {
    "collapsed": false,
    "pycharm": {
     "name": "#%%\n"
    }
   }
  },
  {
   "cell_type": "markdown",
   "source": [
    "### Charts"
   ],
   "metadata": {
    "collapsed": false
   }
  },
  {
   "cell_type": "code",
   "execution_count": 4,
   "outputs": [],
   "source": [
    "# sb.histplot(data=df,x='precio',hue='parqueadero').set_title(\"Rangos de precios\")\n",
    "# sb.histplot(data=df,x='mt2').set_title(\"Metros cuadrados\")\n",
    "# sb.catplot(data=df,x='estrato',y='alcobas',kind='bar',ci=None).set(title=\"Numero de alcobas por estrato\")\n",
    "# sb.catplot(data=df,x='alcobas',y='precio',kind='bar',ci=None).set(title=\"Precios segun el numero de alcobas\")\n",
    "# sb.barplot(x='banos',y='estrato',data=df,ci=None).set_title(\"Número de baños  según el estrato socioeconómico \")\n",
    "# sb.histplot(data=df,x='administracion').set_title(\"Rango de precios por servicio de administración \")\n",
    "#sb.scatterplot(x='avaluo',y='precio',data=df,hue='estrato').set_title(\"Avaluo de los apartamentos vs sus precios de venta y estrato al que pertencen\")"
   ],
   "metadata": {
    "collapsed": false,
    "pycharm": {
     "name": "#%%\n"
    }
   }
  },
  {
   "cell_type": "markdown",
   "source": [
    "## - Scattering's Measurement"
   ],
   "metadata": {
    "collapsed": false
   }
  },
  {
   "cell_type": "code",
   "execution_count": 5,
   "outputs": [],
   "source": [
    "def fill_dataframes (string_names,dict_names):\n",
    "    df_output = pd.DataFrame()\n",
    "    for i in string_names:\n",
    "        df_output[i] = dict_names[i]\n",
    "    return df_output"
   ],
   "metadata": {
    "collapsed": false,
    "pycharm": {
     "name": "#%%\n"
    }
   }
  },
  {
   "cell_type": "markdown",
   "source": [
    "Function to fill dataframes using data-structures to stored."
   ],
   "metadata": {
    "collapsed": false
   }
  },
  {
   "cell_type": "code",
   "execution_count": 6,
   "outputs": [],
   "source": [
    "var_std = [round(df[i].std(),2) for i in variables]\n",
    "var_min = [df[i].min() for i in variables]\n",
    "var_max = [df[i].max() for i in variables]\n",
    "var_q1 = [round(df[i].quantile(q=0.25),2) for i in variables]\n",
    "var_q3 = [round(df[i].quantile(q=0.75),2) for i in variables]\n",
    "var_var = [round(df[i].var(),2) for i in variables]\n",
    "var_asi = [round(df[i].skew(),2) for i in variables]\n",
    "var_kur = [round(stats.kurtosis(df[i], fisher=False),2) for i in variables]\n",
    "var_range = [df[i].max() - df[i].min() for i in variables]\n",
    "\n",
    "scattering = {\n",
    "    'std': var_std,\n",
    "    'min': var_min,\n",
    "    'max': var_max,\n",
    "    'q1': var_q1,\n",
    "    'q3': var_q3,\n",
    "    'var': var_var,\n",
    "    'asi': var_asi,\n",
    "    'kur': var_kur,\n",
    "    'range': var_range,\n",
    "}\n",
    "scattering_columns = ['std','min','max','q1','q3','var','asi','kur','range']\n",
    "\n",
    "df_sct = fill_dataframes(scattering_columns, scattering)"
   ],
   "metadata": {
    "collapsed": false,
    "pycharm": {
     "name": "#%%\n"
    }
   }
  },
  {
   "cell_type": "markdown",
   "source": [
    "# + Qualitative Measures"
   ],
   "metadata": {
    "collapsed": false,
    "pycharm": {
     "name": "#%% md\n"
    }
   }
  },
  {
   "cell_type": "code",
   "execution_count": 7,
   "outputs": [],
   "source": [
    "def get_acum (dataframe,option):\n",
    "    \"\"\"Funcion que llena un arreglo <storaged> con los valores acumulados\n",
    "       de la suma de cada elemento dentro del <dataframe>\n",
    "    \"\"\"\n",
    "    acum = 0\n",
    "    storaged = []\n",
    "\n",
    "    if option == 1: #opcion para obtener la frecuncia absoluta\n",
    "       values = dataframe['Frecuencia_absoluta'].values\n",
    "\n",
    "       for i in values:\n",
    "            acum = acum + i\n",
    "            storaged.append(acum)\n",
    "\n",
    "       dataframe['Frec_absoluta_acumulada'] = storaged\n",
    "\n",
    "    elif option == 2: #opcion para obtener la frecuencia relativa\n",
    "        values = dataframe['Frecuencia_relativa'].values\n",
    "\n",
    "        for i in values:\n",
    "            acum = acum + i\n",
    "            storaged.append(acum)\n",
    "\n",
    "        dataframe['Frec_relativa_acumulada'] = storaged\n",
    "\n",
    "def get_frec_ab (values):\n",
    "    \"\"\"Funcion que retorna un dataframe.\n",
    "       Se obtiene la frec_ab y se conviente en dataframe.\n",
    "    \"\"\"\n",
    "    frec_ab = values.value_counts()\n",
    "    frec_df = pd.DataFrame(frec_ab)\n",
    "    frec_df.columns = ['Frecuencia_absoluta']\n",
    "    return frec_df\n",
    "\n",
    "def get_frec_rel (dataframe,source):\n",
    "    \"\"\"Funcion que actualiza el parametro <datagrame> anadiendo la columna\n",
    "       de frec_relativas.\n",
    "    \"\"\"\n",
    "    dataframe['Frecuencia_relativa'] = round(dataframe['Frecuencia_absoluta'] * 100 / len(source),3)\n"
   ],
   "metadata": {
    "collapsed": false,
    "pycharm": {
     "name": "#%%\n"
    }
   }
  },
  {
   "cell_type": "markdown",
   "source": [
    "Functions to get absolutes and relatives frequencies"
   ],
   "metadata": {
    "collapsed": false
   }
  },
  {
   "cell_type": "code",
   "execution_count": 8,
   "outputs": [],
   "source": [
    "var_ubicacion = df['ubicacion']\n",
    "\n",
    "'''Frecuencia absoluta'''\n",
    "\n",
    "frec_ubicacion = get_frec_ab(var_ubicacion)\n",
    "\n",
    "'''Frecuencia relativa'''\n",
    "\n",
    "get_frec_rel(frec_ubicacion,var_ubicacion)\n",
    "\n",
    "'''Frecuencia absoluta acumulada'''\n",
    "get_acum(frec_ubicacion,1)\n",
    "\n",
    "'''Frecuencia relativa acumulada'''\n",
    "\n",
    "get_acum(frec_ubicacion,2)"
   ],
   "metadata": {
    "collapsed": false,
    "pycharm": {
     "name": "#%%\n"
    }
   }
  },
  {
   "cell_type": "markdown",
   "source": [
    "Getting rel and abs frequencies with the past functions"
   ],
   "metadata": {
    "collapsed": false
   }
  },
  {
   "cell_type": "code",
   "execution_count": 9,
   "outputs": [],
   "source": [
    "# var_columna = df['nombre de la columna/variable de mi interes']\n",
    "#variables_categoricas_disponibles = ['ubicacion','balcon','parqueadero','terminado']"
   ],
   "metadata": {
    "collapsed": false,
    "pycharm": {
     "name": "#%%\n"
    }
   }
  },
  {
   "cell_type": "markdown",
   "source": [
    "### Charts"
   ],
   "metadata": {
    "collapsed": false
   }
  },
  {
   "cell_type": "code",
   "execution_count": 10,
   "outputs": [],
   "source": [
    "# sb.barplot(x='precio',y='ubicacion',data=df,ci=None).set_title(\"Precios de los departamentos según su ubicación \")\n",
    "# sb.barplot(x='balcon',y='precio',data=df,ci=None).set_title(\"Precios de apartamento según si tienen balcón o no.\")\n",
    "# sb.barplot(x='parqueadero',y='precio',data=df,ci=None).set_title(\"Precios de apartamento según si tiene lugar de parqueo\")\n",
    "# sb.barplot(x='ubicacion',y='mt2',hue='terminado',data=df,ci=None).set_title(\"Ubicaciones con más apartamentos terminados\")"
   ],
   "metadata": {
    "collapsed": false,
    "pycharm": {
     "name": "#%%\n"
    }
   }
  },
  {
   "cell_type": "markdown",
   "source": [
    "## - Price regarding of parqueadero"
   ],
   "metadata": {
    "collapsed": false,
    "pycharm": {
     "name": "#%% md\n"
    }
   }
  },
  {
   "cell_type": "code",
   "execution_count": 11,
   "outputs": [],
   "source": [
    "def get_cm (datasource,num_variable,qul_variable):\n",
    "    \"\"\"\n",
    "\n",
    "    :param datasource: dataframe from where will be extract it the columns\n",
    "    :param num_variable: numeric variables used to calculate the center's measurement\n",
    "    :param qul_variable: qualitative variable used to group the center's measurement\n",
    "    :return: a dataframe with pretty cm shorter\n",
    "    \"\"\"\n",
    "    try:\n",
    "        var_filter = datasource[num_variable]\n",
    "        df = pd.DataFrame()\n",
    "        df['media'] = var_filter\n",
    "        df['qualitative_index'] = datasource[qul_variable]\n",
    "        gb_gateway = round(df.groupby(['qualitative_index']).mean(),2)\n",
    "        gb_gateway['mediana'] = df.groupby(['qualitative_index']).median().values\n",
    "        gb_gateway['mode'] = df.groupby(['qualitative_index']).agg(pd.Series.mode).values\n",
    "        return gb_gateway\n",
    "    except Exception:\n",
    "        print(f\"Something was wrong while function, {type(Exception.__name__)}\")\n"
   ],
   "metadata": {
    "collapsed": false,
    "pycharm": {
     "name": "#%%\n"
    }
   }
  },
  {
   "cell_type": "markdown",
   "source": [
    "Function to get central measures"
   ],
   "metadata": {
    "collapsed": false
   }
  },
  {
   "cell_type": "code",
   "execution_count": 12,
   "outputs": [],
   "source": [
    "price_parking_cm = get_cm(df,'precio','parqueadero')"
   ],
   "metadata": {
    "collapsed": false,
    "pycharm": {
     "name": "#%%\n"
    }
   }
  },
  {
   "cell_type": "code",
   "execution_count": 13,
   "outputs": [],
   "source": [
    "# sb.boxplot(data=df_pp,orient='h').set_title(\"Medidas de tendencia central del precio segun disponibilidad de parqueadero\")"
   ],
   "metadata": {
    "collapsed": false,
    "pycharm": {
     "name": "#%%\n"
    }
   }
  },
  {
   "cell_type": "code",
   "execution_count": 14,
   "outputs": [],
   "source": [
    "# yes_median = round(df[(df['parqueadero'] == 'si')]['precio'].median(),2)\n",
    "# yes_mean = round(df[(df['parqueadero'] == 'si')]['precio'].mean(),2)\n",
    "# yes_mode = round(df[(df['parqueadero'] == 'si')]['precio'].mode(),2)\n",
    "# no_median = round(df[(df['parqueadero'] == 'no')]['precio'].median(),2)\n",
    "# no_mean = round(df[(df['parqueadero'] == 'no')]['precio'].mean(),2)\n",
    "# no_mode = round(df[(df['parqueadero'] == 'no')]['precio'].mode(),2)\n",
    "#\n",
    "# df_yn = pd.DataFrame()\n",
    "# df_yn['si'] = [yes_mean,yes_median,yes_mode]\n",
    "# df_yn['no'] = [no_mean,no_median,no_mode]\n",
    "# df_yn\n"
   ],
   "metadata": {
    "collapsed": false,
    "pycharm": {
     "name": "#%%\n"
    }
   }
  },
  {
   "cell_type": "markdown",
   "source": [
    "## - Mt2 regarding of terminado"
   ],
   "metadata": {
    "collapsed": false
   }
  },
  {
   "cell_type": "code",
   "execution_count": 15,
   "outputs": [],
   "source": [
    "mt2_ended_cm = get_cm(df,'mt2','terminado')"
   ],
   "metadata": {
    "collapsed": false,
    "pycharm": {
     "name": "#%%\n"
    }
   }
  },
  {
   "cell_type": "code",
   "execution_count": 16,
   "outputs": [],
   "source": [
    "# sb.boxplot(data=df_mt, orient='h').set_title(\"Medidas de tendecia central de los mt2 segun estado de construccion\")"
   ],
   "metadata": {
    "collapsed": false,
    "pycharm": {
     "name": "#%%\n"
    }
   }
  }
 ],
 "metadata": {
  "kernelspec": {
   "display_name": "Python 3",
   "language": "python",
   "name": "python3"
  },
  "language_info": {
   "codemirror_mode": {
    "name": "ipython",
    "version": 2
   },
   "file_extension": ".py",
   "mimetype": "text/x-python",
   "name": "python",
   "nbconvert_exporter": "python",
   "pygments_lexer": "ipython2",
   "version": "2.7.6"
  }
 },
 "nbformat": 4,
 "nbformat_minor": 0
}