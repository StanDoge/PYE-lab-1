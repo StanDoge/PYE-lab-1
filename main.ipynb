{
 "cells": [
  {
   "cell_type": "code",
   "execution_count": 42,
   "outputs": [],
   "source": [
    "import pandas as pd\n",
    "from scipy.stats import kurtosis\n",
    "import matplotlib.pyplot as plt\n",
    "import seaborn as sb\n",
    "sb.set_theme(style=\"whitegrid\")\n",
    "sb.set(rc={'figure.figsize':(11.7,8.27)})"
   ],
   "metadata": {
    "collapsed": false,
    "pycharm": {
     "name": "#%%\n"
    }
   }
  },
  {
   "cell_type": "code",
   "execution_count": 43,
   "outputs": [],
   "source": [
    "df = pd.read_excel('./Grupo 01.xlsx')\n",
    "#TODO: cuantitativas cosntruir un grafico\n",
    "#TODO: grafico para cualitativas\n",
    "#TODO: medidas de tendencia central para precio segun el parqueadero\n",
    "#TODO: medias de tendencia central para mt2 segun si esta terminaod o no\n",
    "#TODO: box-plot para las ultimas dos tareas"
   ],
   "metadata": {
    "collapsed": false,
    "pycharm": {
     "name": "#%%\n"
    }
   }
  },
  {
   "cell_type": "markdown",
   "source": [
    "## Center's Measurement"
   ],
   "metadata": {
    "collapsed": false
   }
  },
  {
   "cell_type": "code",
   "execution_count": 44,
   "outputs": [
    {
     "data": {
      "text/plain": "    Media  Mediana                                               Moda\n0  317.04   245.00            0    220.0\nName: precio, dtype: float64\n1  120.01    96.00                0    60.0\nName: mt2, dtype: float64\n2    4.65     5.00                 0    6\nName: estrato, dtype: int64\n3    2.89     3.00                 0    3\nName: alcobas, dtype: int64\n4    2.29     2.00                   0    2\nName: banos, dtype: int64\n5    0.26     0.19      0    0.0\nName: administracion, dtype: float64\n6  185.33   133.69  0     28.08\n1     74.00\n2     95.00\n3    159.0...",
      "text/html": "<div>\n<style scoped>\n    .dataframe tbody tr th:only-of-type {\n        vertical-align: middle;\n    }\n\n    .dataframe tbody tr th {\n        vertical-align: top;\n    }\n\n    .dataframe thead th {\n        text-align: right;\n    }\n</style>\n<table border=\"1\" class=\"dataframe\">\n  <thead>\n    <tr style=\"text-align: right;\">\n      <th></th>\n      <th>Media</th>\n      <th>Mediana</th>\n      <th>Moda</th>\n    </tr>\n  </thead>\n  <tbody>\n    <tr>\n      <th>0</th>\n      <td>317.04</td>\n      <td>245.00</td>\n      <td>0    220.0\nName: precio, dtype: float64</td>\n    </tr>\n    <tr>\n      <th>1</th>\n      <td>120.01</td>\n      <td>96.00</td>\n      <td>0    60.0\nName: mt2, dtype: float64</td>\n    </tr>\n    <tr>\n      <th>2</th>\n      <td>4.65</td>\n      <td>5.00</td>\n      <td>0    6\nName: estrato, dtype: int64</td>\n    </tr>\n    <tr>\n      <th>3</th>\n      <td>2.89</td>\n      <td>3.00</td>\n      <td>0    3\nName: alcobas, dtype: int64</td>\n    </tr>\n    <tr>\n      <th>4</th>\n      <td>2.29</td>\n      <td>2.00</td>\n      <td>0    2\nName: banos, dtype: int64</td>\n    </tr>\n    <tr>\n      <th>5</th>\n      <td>0.26</td>\n      <td>0.19</td>\n      <td>0    0.0\nName: administracion, dtype: float64</td>\n    </tr>\n    <tr>\n      <th>6</th>\n      <td>185.33</td>\n      <td>133.69</td>\n      <td>0     28.08\n1     74.00\n2     95.00\n3    159.0...</td>\n    </tr>\n  </tbody>\n</table>\n</div>"
     },
     "execution_count": 44,
     "metadata": {},
     "output_type": "execute_result"
    }
   ],
   "source": [
    "variables = ['precio','mt2','estrato','alcobas','banos','administracion','avaluo']\n",
    "\n",
    "var_media = [round(df[i].mean(),2) for i in variables]\n",
    "var_mediana = [round(df[i].median(),2) for i in variables]\n",
    "var_mode = [round(df[i].mode(),2) for i in variables]\n",
    "\n",
    "df_variables = pd.DataFrame(var_media)\n",
    "df_variables.columns = ['Media']\n",
    "df_variables['Mediana'] = var_mediana\n",
    "df_variables['Moda'] = var_mode\n",
    "df_variables"
   ],
   "metadata": {
    "collapsed": false,
    "pycharm": {
     "name": "#%%\n"
    }
   }
  },
  {
   "cell_type": "markdown",
   "source": [
    "## Scattering's Measurement"
   ],
   "metadata": {
    "collapsed": false
   }
  },
  {
   "cell_type": "code",
   "execution_count": 45,
   "outputs": [],
   "source": [
    "var_std = [round(df[i].std(),2) for i in variables]\n",
    "# var_std\n",
    "var_min = [df[i].min() for i in variables]\n",
    "# var_min\n",
    "var_max = [df[i].max() for i in variables]\n",
    "# var_max\n",
    "var_q1 = [round(df[i].quantile(q=0.25),2) for i in variables]\n",
    "# var_q1\n",
    "var_q3 = [round(df[i].quantile(q=0.75),2) for i in variables]\n",
    "# var_q3\n",
    "var_var = [round(df[i].var(),2) for i in variables]\n",
    "# var_var\n",
    "var_asi = [round(df[i].skew(),2) for i in variables]\n",
    "# var_asi\n",
    "var_kur = [round(kurtosis(df[i], fisher=False),2) for i in variables]\n",
    "# var_kur\n",
    "var_range = [df[i].max() - df[i].min() for i in variables]\n",
    "# var_range"
   ],
   "metadata": {
    "collapsed": false,
    "pycharm": {
     "name": "#%%\n"
    }
   }
  },
  {
   "cell_type": "markdown",
   "source": [
    "### Cualitative variable types"
   ],
   "metadata": {
    "collapsed": false,
    "pycharm": {
     "name": "#%% md\n"
    }
   }
  },
  {
   "cell_type": "code",
   "execution_count": 46,
   "outputs": [],
   "source": [
    "def get_acum (dataframe,option):\n",
    "    \"\"\"Funcion que llena un arreglo <storaged> con los valores acumulados\n",
    "       de la suma de cada elemento dentro del <dataframe>\n",
    "    \"\"\"\n",
    "    acum = 0\n",
    "    storaged = []\n",
    "\n",
    "    if option == 1: #opcion para obtener la frecuncia absoluta\n",
    "       values = dataframe['Frecuencia_absoluta'].values\n",
    "\n",
    "       for i in values:\n",
    "            acum = acum + i\n",
    "            storaged.append(acum)\n",
    "\n",
    "       dataframe['Frec_absoluta_acumulada'] = storaged\n",
    "\n",
    "    elif option == 2: #opcion para obtener la frecuencia relativa\n",
    "        values = dataframe['Frecuencia_relativa'].values\n",
    "\n",
    "        for i in values:\n",
    "            acum = acum + i\n",
    "            storaged.append(acum)\n",
    "\n",
    "        dataframe['Frec_relativa_acumulada'] = storaged\n",
    "\n",
    "def get_frec_ab (values):\n",
    "    \"\"\"Funcion que retorna un dataframe.\n",
    "       Se obtiene la frec_ab y se conviente en dataframe.\n",
    "    \"\"\"\n",
    "    frec_ab = values.value_counts()\n",
    "    frec_df = pd.DataFrame(frec_ab)\n",
    "    frec_df.columns = ['Frecuencia_absoluta']\n",
    "    return frec_df\n",
    "\n",
    "def get_frec_rel (dataframe,source):\n",
    "    \"\"\"Funcion que actualiza el parametro <datagrame> anadiendo la columna\n",
    "       de frec_relativas.\n",
    "    \"\"\"\n",
    "    dataframe['Frecuencia_relativa'] = round(dataframe['Frecuencia_absoluta'] * 100 / len(source),3)\n"
   ],
   "metadata": {
    "collapsed": false,
    "pycharm": {
     "name": "#%%\n"
    }
   }
  },
  {
   "cell_type": "code",
   "execution_count": 47,
   "outputs": [],
   "source": [
    "var_ubicacion = df['ubicacion']\n",
    "\n",
    "'''Frecuencia absoluta'''\n",
    "\n",
    "frec_ubicacion = get_frec_ab(var_ubicacion)\n",
    "\n",
    "'''Frecuencia relativa'''\n",
    "\n",
    "get_frec_rel(frec_ubicacion,var_ubicacion)\n",
    "\n",
    "'''Frecuencia absoluta acumulada'''\n",
    "get_acum(frec_ubicacion,1)\n",
    "\n",
    "'''Frecuencia relativa acumulada'''\n",
    "\n",
    "get_acum(frec_ubicacion,2)"
   ],
   "metadata": {
    "collapsed": false,
    "pycharm": {
     "name": "#%%\n"
    }
   }
  },
  {
   "cell_type": "code",
   "execution_count": 48,
   "outputs": [],
   "source": [
    "var_balcon = df['balcon']\n",
    "\n",
    "\n",
    "'''Frecuencia absoluta'''\n",
    "\n",
    "frec_balcon = get_frec_ab(var_balcon)\n",
    "\n",
    "'''Frecuencia relativa'''\n",
    "\n",
    "get_frec_rel(frec_balcon,var_balcon)\n",
    "\n",
    "'''Frecuencia absoluta acumulada'''\n",
    "get_acum(frec_balcon,1)\n",
    "\n",
    "'''Frecuencia relativa acumulada'''\n",
    "get_acum(frec_balcon,2)\n"
   ],
   "metadata": {
    "collapsed": false,
    "pycharm": {
     "name": "#%%\n"
    }
   }
  },
  {
   "cell_type": "code",
   "execution_count": 49,
   "outputs": [],
   "source": [
    "var_parqueadero = df['parqueadero']\n",
    "\n",
    "'''Frecuencia absoluta'''\n",
    "\n",
    "frec_parqueadero = get_frec_ab(var_parqueadero)\n",
    "\n",
    "'''Frecuencia relativa'''\n",
    "\n",
    "get_frec_rel(frec_parqueadero,var_parqueadero)\n",
    "\n",
    "'''Frecuencia absoluta acumulada'''\n",
    "get_acum(frec_parqueadero,1)\n",
    "\n",
    "'''Frecuencia relativa acumulada'''\n",
    "get_acum(frec_parqueadero,2)"
   ],
   "metadata": {
    "collapsed": false,
    "pycharm": {
     "name": "#%%\n"
    }
   }
  },
  {
   "cell_type": "code",
   "execution_count": 50,
   "outputs": [],
   "source": [
    "var_terminado = df['terminado']\n",
    "\n",
    "'''Frecuencia absoluta'''\n",
    "\n",
    "frec_terminado = get_frec_ab(var_terminado)\n",
    "\n",
    "'''Frecuencia relativa'''\n",
    "\n",
    "get_frec_rel(frec_terminado,var_terminado)\n",
    "\n",
    "'''Frecuencia absoluta acumulada'''\n",
    "get_acum(frec_terminado,1)\n",
    "\n",
    "'''Frecuencia relativa acumulada'''\n",
    "get_acum(frec_terminado,2)"
   ],
   "metadata": {
    "collapsed": false,
    "pycharm": {
     "name": "#%%\n"
    }
   }
  },
  {
   "cell_type": "code",
   "execution_count": 51,
   "outputs": [],
   "source": [
    "# var_columna = df['nombre de la columna/variable de mi interes']\n",
    "#variables_categoricas_disponibles = ['ubicacion','balcon','parqueadero','terminado']"
   ],
   "metadata": {
    "collapsed": false,
    "pycharm": {
     "name": "#%%\n"
    }
   }
  },
  {
   "cell_type": "markdown",
   "source": [
    "## Price regarding of parqueadero"
   ],
   "metadata": {
    "collapsed": false,
    "pycharm": {
     "name": "#%% md\n"
    }
   }
  },
  {
   "cell_type": "code",
   "execution_count": 52,
   "outputs": [],
   "source": [
    "# sb.barplot(x='parqueadero',y='precio',data=df).set_title(\"Precios segun si hay parqueo o no\")\n",
    "# plt.axhline(df['precio'].mean(), color =\"r\", linestyle = '--', linewidth = 5)\n",
    "# plt.axhline(df['precio'].median(), color =\"g\", linestyle = '--', linewidth = 5)\n",
    "# plt.axhline(df['precio'].mode().values, color =\"y\", linestyle = 'dashdot', linewidth = 5)"
   ],
   "metadata": {
    "collapsed": false,
    "pycharm": {
     "name": "#%%\n"
    }
   }
  },
  {
   "cell_type": "code",
   "execution_count": 53,
   "outputs": [
    {
     "data": {
      "text/plain": "                                                  si  \\\n0                                             361.68   \n1                                              285.0   \n2  0    220.0\n1    260.0\nName: precio, dtype: flo...   \n\n                                        no  \n0                                   137.17  \n1                                    130.0  \n2  0    130.0\nName: precio, dtype: float64  ",
      "text/html": "<div>\n<style scoped>\n    .dataframe tbody tr th:only-of-type {\n        vertical-align: middle;\n    }\n\n    .dataframe tbody tr th {\n        vertical-align: top;\n    }\n\n    .dataframe thead th {\n        text-align: right;\n    }\n</style>\n<table border=\"1\" class=\"dataframe\">\n  <thead>\n    <tr style=\"text-align: right;\">\n      <th></th>\n      <th>si</th>\n      <th>no</th>\n    </tr>\n  </thead>\n  <tbody>\n    <tr>\n      <th>0</th>\n      <td>361.68</td>\n      <td>137.17</td>\n    </tr>\n    <tr>\n      <th>1</th>\n      <td>285.0</td>\n      <td>130.0</td>\n    </tr>\n    <tr>\n      <th>2</th>\n      <td>0    220.0\n1    260.0\nName: precio, dtype: flo...</td>\n      <td>0    130.0\nName: precio, dtype: float64</td>\n    </tr>\n  </tbody>\n</table>\n</div>"
     },
     "execution_count": 53,
     "metadata": {},
     "output_type": "execute_result"
    }
   ],
   "source": [
    "# yes_median = round(df[(df['parqueadero'] == 'si')]['precio'].median(),2)\n",
    "# yes_mean = round(df[(df['parqueadero'] == 'si')]['precio'].mean(),2)\n",
    "# yes_mode = round(df[(df['parqueadero'] == 'si')]['precio'].mode(),2)\n",
    "# no_median = round(df[(df['parqueadero'] == 'no')]['precio'].median(),2)\n",
    "# no_mean = round(df[(df['parqueadero'] == 'no')]['precio'].mean(),2)\n",
    "# no_mode = round(df[(df['parqueadero'] == 'no')]['precio'].mode(),2)\n",
    "#\n",
    "# df_yn = pd.DataFrame()\n",
    "# df_yn['si'] = [yes_mean,yes_median,yes_mode]\n",
    "# df_yn['no'] = [no_mean,no_median,no_mode]\n",
    "# df_yn\n"
   ],
   "metadata": {
    "collapsed": false,
    "pycharm": {
     "name": "#%%\n"
    }
   }
  },
  {
   "cell_type": "code",
   "execution_count": 129,
   "outputs": [
    {
     "ename": "ValueError",
     "evalue": "Length of values (1) does not match length of index (2)",
     "output_type": "error",
     "traceback": [
      "\u001B[1;31m---------------------------------------------------------------------------\u001B[0m",
      "\u001B[1;31mValueError\u001B[0m                                Traceback (most recent call last)",
      "Input \u001B[1;32mIn [129]\u001B[0m, in \u001B[0;36m<cell line: 12>\u001B[1;34m()\u001B[0m\n\u001B[0;32m     10\u001B[0m yes_mode \u001B[38;5;241m=\u001B[39m \u001B[38;5;28mround\u001B[39m(df[(df[\u001B[38;5;124m'\u001B[39m\u001B[38;5;124mparqueadero\u001B[39m\u001B[38;5;124m'\u001B[39m] \u001B[38;5;241m==\u001B[39m \u001B[38;5;124m'\u001B[39m\u001B[38;5;124msi\u001B[39m\u001B[38;5;124m'\u001B[39m)][\u001B[38;5;124m'\u001B[39m\u001B[38;5;124mprecio\u001B[39m\u001B[38;5;124m'\u001B[39m]\u001B[38;5;241m.\u001B[39mmode(),\u001B[38;5;241m2\u001B[39m)\n\u001B[0;32m     11\u001B[0m yes_mode \u001B[38;5;241m=\u001B[39m yes_mode\u001B[38;5;241m.\u001B[39mvalues\n\u001B[1;32m---> 12\u001B[0m arto[\u001B[38;5;124m'\u001B[39m\u001B[38;5;124mmoda_$\u001B[39m\u001B[38;5;124m'\u001B[39m] \u001B[38;5;241m=\u001B[39m [yes_mode]\n\u001B[0;32m     13\u001B[0m arto\n",
      "File \u001B[1;32mg:\\my drive\\universidad\\pye\\projects\\venv\\lib\\site-packages\\pandas\\core\\frame.py:3655\u001B[0m, in \u001B[0;36mDataFrame.__setitem__\u001B[1;34m(self, key, value)\u001B[0m\n\u001B[0;32m   3652\u001B[0m     \u001B[38;5;28mself\u001B[39m\u001B[38;5;241m.\u001B[39m_setitem_array([key], value)\n\u001B[0;32m   3653\u001B[0m \u001B[38;5;28;01melse\u001B[39;00m:\n\u001B[0;32m   3654\u001B[0m     \u001B[38;5;66;03m# set column\u001B[39;00m\n\u001B[1;32m-> 3655\u001B[0m     \u001B[38;5;28;43mself\u001B[39;49m\u001B[38;5;241;43m.\u001B[39;49m\u001B[43m_set_item\u001B[49m\u001B[43m(\u001B[49m\u001B[43mkey\u001B[49m\u001B[43m,\u001B[49m\u001B[43m \u001B[49m\u001B[43mvalue\u001B[49m\u001B[43m)\u001B[49m\n",
      "File \u001B[1;32mg:\\my drive\\universidad\\pye\\projects\\venv\\lib\\site-packages\\pandas\\core\\frame.py:3832\u001B[0m, in \u001B[0;36mDataFrame._set_item\u001B[1;34m(self, key, value)\u001B[0m\n\u001B[0;32m   3822\u001B[0m \u001B[38;5;28;01mdef\u001B[39;00m \u001B[38;5;21m_set_item\u001B[39m(\u001B[38;5;28mself\u001B[39m, key, value) \u001B[38;5;241m-\u001B[39m\u001B[38;5;241m>\u001B[39m \u001B[38;5;28;01mNone\u001B[39;00m:\n\u001B[0;32m   3823\u001B[0m     \u001B[38;5;124;03m\"\"\"\u001B[39;00m\n\u001B[0;32m   3824\u001B[0m \u001B[38;5;124;03m    Add series to DataFrame in specified column.\u001B[39;00m\n\u001B[0;32m   3825\u001B[0m \n\u001B[1;32m   (...)\u001B[0m\n\u001B[0;32m   3830\u001B[0m \u001B[38;5;124;03m    ensure homogeneity.\u001B[39;00m\n\u001B[0;32m   3831\u001B[0m \u001B[38;5;124;03m    \"\"\"\u001B[39;00m\n\u001B[1;32m-> 3832\u001B[0m     value \u001B[38;5;241m=\u001B[39m \u001B[38;5;28;43mself\u001B[39;49m\u001B[38;5;241;43m.\u001B[39;49m\u001B[43m_sanitize_column\u001B[49m\u001B[43m(\u001B[49m\u001B[43mvalue\u001B[49m\u001B[43m)\u001B[49m\n\u001B[0;32m   3834\u001B[0m     \u001B[38;5;28;01mif\u001B[39;00m (\n\u001B[0;32m   3835\u001B[0m         key \u001B[38;5;129;01min\u001B[39;00m \u001B[38;5;28mself\u001B[39m\u001B[38;5;241m.\u001B[39mcolumns\n\u001B[0;32m   3836\u001B[0m         \u001B[38;5;129;01mand\u001B[39;00m value\u001B[38;5;241m.\u001B[39mndim \u001B[38;5;241m==\u001B[39m \u001B[38;5;241m1\u001B[39m\n\u001B[0;32m   3837\u001B[0m         \u001B[38;5;129;01mand\u001B[39;00m \u001B[38;5;129;01mnot\u001B[39;00m is_extension_array_dtype(value)\n\u001B[0;32m   3838\u001B[0m     ):\n\u001B[0;32m   3839\u001B[0m         \u001B[38;5;66;03m# broadcast across multiple columns if necessary\u001B[39;00m\n\u001B[0;32m   3840\u001B[0m         \u001B[38;5;28;01mif\u001B[39;00m \u001B[38;5;129;01mnot\u001B[39;00m \u001B[38;5;28mself\u001B[39m\u001B[38;5;241m.\u001B[39mcolumns\u001B[38;5;241m.\u001B[39mis_unique \u001B[38;5;129;01mor\u001B[39;00m \u001B[38;5;28misinstance\u001B[39m(\u001B[38;5;28mself\u001B[39m\u001B[38;5;241m.\u001B[39mcolumns, MultiIndex):\n",
      "File \u001B[1;32mg:\\my drive\\universidad\\pye\\projects\\venv\\lib\\site-packages\\pandas\\core\\frame.py:4529\u001B[0m, in \u001B[0;36mDataFrame._sanitize_column\u001B[1;34m(self, value)\u001B[0m\n\u001B[0;32m   4526\u001B[0m     \u001B[38;5;28;01mreturn\u001B[39;00m _reindex_for_setitem(value, \u001B[38;5;28mself\u001B[39m\u001B[38;5;241m.\u001B[39mindex)\n\u001B[0;32m   4528\u001B[0m \u001B[38;5;28;01mif\u001B[39;00m is_list_like(value):\n\u001B[1;32m-> 4529\u001B[0m     \u001B[43mcom\u001B[49m\u001B[38;5;241;43m.\u001B[39;49m\u001B[43mrequire_length_match\u001B[49m\u001B[43m(\u001B[49m\u001B[43mvalue\u001B[49m\u001B[43m,\u001B[49m\u001B[43m \u001B[49m\u001B[38;5;28;43mself\u001B[39;49m\u001B[38;5;241;43m.\u001B[39;49m\u001B[43mindex\u001B[49m\u001B[43m)\u001B[49m\n\u001B[0;32m   4530\u001B[0m \u001B[38;5;28;01mreturn\u001B[39;00m sanitize_array(value, \u001B[38;5;28mself\u001B[39m\u001B[38;5;241m.\u001B[39mindex, copy\u001B[38;5;241m=\u001B[39m\u001B[38;5;28;01mTrue\u001B[39;00m, allow_2d\u001B[38;5;241m=\u001B[39m\u001B[38;5;28;01mTrue\u001B[39;00m)\n",
      "File \u001B[1;32mg:\\my drive\\universidad\\pye\\projects\\venv\\lib\\site-packages\\pandas\\core\\common.py:557\u001B[0m, in \u001B[0;36mrequire_length_match\u001B[1;34m(data, index)\u001B[0m\n\u001B[0;32m    553\u001B[0m \u001B[38;5;124;03m\"\"\"\u001B[39;00m\n\u001B[0;32m    554\u001B[0m \u001B[38;5;124;03mCheck the length of data matches the length of the index.\u001B[39;00m\n\u001B[0;32m    555\u001B[0m \u001B[38;5;124;03m\"\"\"\u001B[39;00m\n\u001B[0;32m    556\u001B[0m \u001B[38;5;28;01mif\u001B[39;00m \u001B[38;5;28mlen\u001B[39m(data) \u001B[38;5;241m!=\u001B[39m \u001B[38;5;28mlen\u001B[39m(index):\n\u001B[1;32m--> 557\u001B[0m     \u001B[38;5;28;01mraise\u001B[39;00m \u001B[38;5;167;01mValueError\u001B[39;00m(\n\u001B[0;32m    558\u001B[0m         \u001B[38;5;124m\"\u001B[39m\u001B[38;5;124mLength of values \u001B[39m\u001B[38;5;124m\"\u001B[39m\n\u001B[0;32m    559\u001B[0m         \u001B[38;5;124mf\u001B[39m\u001B[38;5;124m\"\u001B[39m\u001B[38;5;124m(\u001B[39m\u001B[38;5;132;01m{\u001B[39;00m\u001B[38;5;28mlen\u001B[39m(data)\u001B[38;5;132;01m}\u001B[39;00m\u001B[38;5;124m) \u001B[39m\u001B[38;5;124m\"\u001B[39m\n\u001B[0;32m    560\u001B[0m         \u001B[38;5;124m\"\u001B[39m\u001B[38;5;124mdoes not match length of index \u001B[39m\u001B[38;5;124m\"\u001B[39m\n\u001B[0;32m    561\u001B[0m         \u001B[38;5;124mf\u001B[39m\u001B[38;5;124m\"\u001B[39m\u001B[38;5;124m(\u001B[39m\u001B[38;5;132;01m{\u001B[39;00m\u001B[38;5;28mlen\u001B[39m(index)\u001B[38;5;132;01m}\u001B[39;00m\u001B[38;5;124m)\u001B[39m\u001B[38;5;124m\"\u001B[39m\n\u001B[0;32m    562\u001B[0m     )\n",
      "\u001B[1;31mValueError\u001B[0m: Length of values (1) does not match length of index (2)"
     ]
    }
   ],
   "source": [
    "var_precio = df['precio']\n",
    "df_pp = pd.DataFrame()\n",
    "df_pp['media_$'] = var_precio\n",
    "df_pp['parqueadero'] = var_parqueadero\n",
    "arto = df_pp.groupby(['parqueadero']).mean()\n",
    "mediana = df_pp.groupby(['parqueadero']).median()\n",
    "mediana = mediana['media_$'].values\n",
    "mediana\n",
    "arto['mediana_$'] = mediana\n",
    "yes_mode = round(df[(df['parqueadero'] == 'si')]['precio'].mode(),2)\n",
    "yes_mode = yes_mode.values\n",
    "arto['moda_$'] = [yes_mode]\n",
    "arto\n"
   ],
   "metadata": {
    "collapsed": false,
    "pycharm": {
     "name": "#%%\n"
    }
   }
  },
  {
   "cell_type": "markdown",
   "source": [
    "## Mt2 regarding of terminado"
   ],
   "metadata": {
    "collapsed": false
   }
  },
  {
   "cell_type": "code",
   "execution_count": 54,
   "outputs": [
    {
     "data": {
      "text/plain": "                                    si                                   no\n0                               124.98                                93.04\n1                                100.0                                 78.5\n2  0    60.0\nName: mt2, dtype: float64  0    62.0\nName: mt2, dtype: float64",
      "text/html": "<div>\n<style scoped>\n    .dataframe tbody tr th:only-of-type {\n        vertical-align: middle;\n    }\n\n    .dataframe tbody tr th {\n        vertical-align: top;\n    }\n\n    .dataframe thead th {\n        text-align: right;\n    }\n</style>\n<table border=\"1\" class=\"dataframe\">\n  <thead>\n    <tr style=\"text-align: right;\">\n      <th></th>\n      <th>si</th>\n      <th>no</th>\n    </tr>\n  </thead>\n  <tbody>\n    <tr>\n      <th>0</th>\n      <td>124.98</td>\n      <td>93.04</td>\n    </tr>\n    <tr>\n      <th>1</th>\n      <td>100.0</td>\n      <td>78.5</td>\n    </tr>\n    <tr>\n      <th>2</th>\n      <td>0    60.0\nName: mt2, dtype: float64</td>\n      <td>0    62.0\nName: mt2, dtype: float64</td>\n    </tr>\n  </tbody>\n</table>\n</div>"
     },
     "execution_count": 54,
     "metadata": {},
     "output_type": "execute_result"
    }
   ],
   "source": [
    "# yes_median = round(df[(df['terminado'] == 'si')]['mt2'].median(),2)\n",
    "# yes_mean = round(df[(df['terminado'] == 'si')]['mt2'].mean(),2)\n",
    "# yes_mode = round(df[(df['terminado'] == 'si')]['mt2'].mode(),2)\n",
    "# no_median = round(df[(df['terminado'] == 'no')]['mt2'].median(),2)\n",
    "# no_mean = round(df[(df['terminado'] == 'no')]['mt2'].mean(),2)\n",
    "# no_mode = round(df[(df['terminado'] == 'no')]['mt2'].mode(),2)\n",
    "#\n",
    "# df_yn = pd.DataFrame()\n",
    "# df_yn['si'] = [yes_mean,yes_median,yes_mode]\n",
    "# df_yn['no'] = [no_mean,no_median,no_mode]\n",
    "# df_yn\n"
   ],
   "metadata": {
    "collapsed": false,
    "pycharm": {
     "name": "#%%\n"
    }
   }
  },
  {
   "cell_type": "code",
   "execution_count": 60,
   "outputs": [
    {
     "data": {
      "text/plain": "<matplotlib.lines.Line2D at 0x179cd72faf0>"
     },
     "execution_count": 60,
     "metadata": {},
     "output_type": "execute_result"
    },
    {
     "data": {
      "text/plain": "<Figure size 842.4x595.44 with 1 Axes>",
      "image/png": "[encoded data removed]"
     },
     "metadata": {},
     "output_type": "display_data"
    }
   ],
   "source": [
    "sb.boxplot(x='parqueadero',y='precio',data=df)\n",
    "plt.axhline(yes_mean, color =\"r\", linestyle = '--', linewidth = 5)\n",
    "plt.axhline(yes_median, color =\"g\", linestyle = '--', linewidth = 5)\n",
    "plt.axhline(yes_mode.values, color =\"y\", linestyle = 'dashdot', linewidth = 5)"
   ],
   "metadata": {
    "collapsed": false,
    "pycharm": {
     "name": "#%%\n"
    }
   }
  },
  {
   "cell_type": "code",
   "execution_count": 55,
   "outputs": [],
   "source": [
    "# sb.barplot(x='terminado',y='mt2',data=df).set_title(\"mt2 segun estado de activo inmueble\")\n",
    "# plt.axhline(df['mt2'].mean(), color =\"r\", linestyle = '--', linewidth = 5)\n",
    "# plt.axhline(df['mt2'].median(), color =\"g\", linestyle = '--', linewidth = 5)\n",
    "# plt.axhline(df['mt2'].mode().values, color =\"y\", linestyle = 'dashdot', linewidth = 5)"
   ],
   "metadata": {
    "collapsed": false,
    "pycharm": {
     "name": "#%%\n"
    }
   }
  },
  {
   "cell_type": "code",
   "execution_count": 56,
   "outputs": [],
   "source": [
    "# sb.boxplot(x='terminado',y='mt2',data=df)\n",
    "# plt.axhline(df['mt2'].mean(), color =\"r\", linestyle = '--', linewidth = 5)\n",
    "# plt.axhline(df['mt2'].median(), color =\"g\", linestyle = '--', linewidth = 5)\n",
    "# plt.axhline(df['mt2'].mode().values, color =\"y\", linestyle = 'dashdot', linewidth = 5)"
   ],
   "metadata": {
    "collapsed": false,
    "pycharm": {
     "name": "#%%\n"
    }
   }
  },
  {
   "cell_type": "code",
   "execution_count": 57,
   "outputs": [],
   "source": [
    "# sb.boxenplot(x='parqueadero',y='precio',data=df)\n",
    "# plt.axhline(df['precio'].mean(), color =\"r\", linestyle = '--', linewidth = 5)\n",
    "# plt.axhline(df['precio'].median(), color =\"g\", linestyle = '--', linewidth = 5)\n",
    "# plt.axhline(df['precio'].mode().values, color =\"y\", linestyle = 'dashdot', linewidth = 5)\n"
   ],
   "metadata": {
    "collapsed": false,
    "pycharm": {
     "name": "#%%\n"
    }
   }
  }
 ],
 "metadata": {
  "kernelspec": {
   "display_name": "Python 3",
   "language": "python",
   "name": "python3"
  },
  "language_info": {
   "codemirror_mode": {
    "name": "ipython",
    "version": 2
   },
   "file_extension": ".py",
   "mimetype": "text/x-python",
   "name": "python",
   "nbconvert_exporter": "python",
   "pygments_lexer": "ipython2",
   "version": "2.7.6"
  }
 },
 "nbformat": 4,
 "nbformat_minor": 0
}