{
 "cells": [
  {
   "cell_type": "code",
   "execution_count": 10,
   "outputs": [],
   "source": [
    "import pandas as pd\n",
    "from scipy.stats import kurtosis\n",
    "import matplotlib.pyplot\n",
    "import numpy as np\n",
    "import seaborn as sb"
   ],
   "metadata": {
    "collapsed": false,
    "pycharm": {
     "name": "#%%\n"
    }
   }
  },
  {
   "cell_type": "code",
   "execution_count": 11,
   "outputs": [
    {
     "data": {
      "text/plain": "     precio     mt2 ubicacion  estrato  alcobas  banos balcon parqueadero  \\\n0      79.0   43.16     norte        3        3      1     si          si   \n1     100.0   66.40     norte        3        2      2     no          no   \n2     135.0   89.80     norte        4        3      2     si          no   \n3     145.0   54.83     norte        3        2      2     si          si   \n4     160.0   93.00     norte        4        4      2     si          no   \n..      ...     ...       ...      ...      ...    ...    ...         ...   \n342   410.0  141.00  laureles        5        3      3     si          si   \n343   450.0  123.00  laureles        5        4      3     si          si   \n344   470.0  248.00  laureles        5        3      2     no          si   \n345   508.0  209.00  laureles        6        4      3     si          si   \n346   630.0  179.00  laureles        5        3      3     si          si   \n\n     administracion      avaluo terminado  \n0            0.0500   14.923002        no  \n1            0.0000   15.738427        no  \n2            0.0000   39.567000        si  \n3            0.1400   27.000000        si  \n4            0.0000   28.956220        si  \n..              ...         ...       ...  \n342          0.5300  190.000000        si  \n343          0.5170  190.000000        si  \n344          0.4809  345.376000        si  \n345          0.4500  258.850000        si  \n346          0.3400  324.114000        si  \n\n[347 rows x 11 columns]",
      "text/html": "<div>\n<style scoped>\n    .dataframe tbody tr th:only-of-type {\n        vertical-align: middle;\n    }\n\n    .dataframe tbody tr th {\n        vertical-align: top;\n    }\n\n    .dataframe thead th {\n        text-align: right;\n    }\n</style>\n<table border=\"1\" class=\"dataframe\">\n  <thead>\n    <tr style=\"text-align: right;\">\n      <th></th>\n      <th>precio</th>\n      <th>mt2</th>\n      <th>ubicacion</th>\n      <th>estrato</th>\n      <th>alcobas</th>\n      <th>banos</th>\n      <th>balcon</th>\n      <th>parqueadero</th>\n      <th>administracion</th>\n      <th>avaluo</th>\n      <th>terminado</th>\n    </tr>\n  </thead>\n  <tbody>\n    <tr>\n      <th>0</th>\n      <td>79.0</td>\n      <td>43.16</td>\n      <td>norte</td>\n      <td>3</td>\n      <td>3</td>\n      <td>1</td>\n      <td>si</td>\n      <td>si</td>\n      <td>0.0500</td>\n      <td>14.923002</td>\n      <td>no</td>\n    </tr>\n    <tr>\n      <th>1</th>\n      <td>100.0</td>\n      <td>66.40</td>\n      <td>norte</td>\n      <td>3</td>\n      <td>2</td>\n      <td>2</td>\n      <td>no</td>\n      <td>no</td>\n      <td>0.0000</td>\n      <td>15.738427</td>\n      <td>no</td>\n    </tr>\n    <tr>\n      <th>2</th>\n      <td>135.0</td>\n      <td>89.80</td>\n      <td>norte</td>\n      <td>4</td>\n      <td>3</td>\n      <td>2</td>\n      <td>si</td>\n      <td>no</td>\n      <td>0.0000</td>\n      <td>39.567000</td>\n      <td>si</td>\n    </tr>\n    <tr>\n      <th>3</th>\n      <td>145.0</td>\n      <td>54.83</td>\n      <td>norte</td>\n      <td>3</td>\n      <td>2</td>\n      <td>2</td>\n      <td>si</td>\n      <td>si</td>\n      <td>0.1400</td>\n      <td>27.000000</td>\n      <td>si</td>\n    </tr>\n    <tr>\n      <th>4</th>\n      <td>160.0</td>\n      <td>93.00</td>\n      <td>norte</td>\n      <td>4</td>\n      <td>4</td>\n      <td>2</td>\n      <td>si</td>\n      <td>no</td>\n      <td>0.0000</td>\n      <td>28.956220</td>\n      <td>si</td>\n    </tr>\n    <tr>\n      <th>...</th>\n      <td>...</td>\n      <td>...</td>\n      <td>...</td>\n      <td>...</td>\n      <td>...</td>\n      <td>...</td>\n      <td>...</td>\n      <td>...</td>\n      <td>...</td>\n      <td>...</td>\n      <td>...</td>\n    </tr>\n    <tr>\n      <th>342</th>\n      <td>410.0</td>\n      <td>141.00</td>\n      <td>laureles</td>\n      <td>5</td>\n      <td>3</td>\n      <td>3</td>\n      <td>si</td>\n      <td>si</td>\n      <td>0.5300</td>\n      <td>190.000000</td>\n      <td>si</td>\n    </tr>\n    <tr>\n      <th>343</th>\n      <td>450.0</td>\n      <td>123.00</td>\n      <td>laureles</td>\n      <td>5</td>\n      <td>4</td>\n      <td>3</td>\n      <td>si</td>\n      <td>si</td>\n      <td>0.5170</td>\n      <td>190.000000</td>\n      <td>si</td>\n    </tr>\n    <tr>\n      <th>344</th>\n      <td>470.0</td>\n      <td>248.00</td>\n      <td>laureles</td>\n      <td>5</td>\n      <td>3</td>\n      <td>2</td>\n      <td>no</td>\n      <td>si</td>\n      <td>0.4809</td>\n      <td>345.376000</td>\n      <td>si</td>\n    </tr>\n    <tr>\n      <th>345</th>\n      <td>508.0</td>\n      <td>209.00</td>\n      <td>laureles</td>\n      <td>6</td>\n      <td>4</td>\n      <td>3</td>\n      <td>si</td>\n      <td>si</td>\n      <td>0.4500</td>\n      <td>258.850000</td>\n      <td>si</td>\n    </tr>\n    <tr>\n      <th>346</th>\n      <td>630.0</td>\n      <td>179.00</td>\n      <td>laureles</td>\n      <td>5</td>\n      <td>3</td>\n      <td>3</td>\n      <td>si</td>\n      <td>si</td>\n      <td>0.3400</td>\n      <td>324.114000</td>\n      <td>si</td>\n    </tr>\n  </tbody>\n</table>\n<p>347 rows × 11 columns</p>\n</div>"
     },
     "execution_count": 11,
     "metadata": {},
     "output_type": "execute_result"
    }
   ],
   "source": [
    "df = pd.read_excel('./Grupo 01.xlsx')\n",
    "#TODO: medidas de tendencia central\n",
    "#TODO: medidas de variacion\n",
    "#TODO: cuantitativas cosntruir un grafico\n",
    "#TODO: tabla de frecuencia para las cualitativas\n",
    "#TODO: grafico para cualitativas\n",
    "#TODO: medidas de tendencia central para precio segun el parqueadero\n",
    "#TODO: medias de tendencia central para mt2 segun si esta terminaod o no\n",
    "#TODO: box-plot para las ultimas dos tareas\n",
    "df"
   ],
   "metadata": {
    "collapsed": false,
    "pycharm": {
     "name": "#%%\n"
    }
   }
  },
  {
   "cell_type": "code",
   "execution_count": 12,
   "outputs": [],
   "source": [
    "var_precio = df['precio']\n",
    "\n",
    "'''Medidas de tendencia central'''\n",
    "precio_mean = var_precio.mean() #317.03\n",
    "precio_median = var_precio.median() #245\n",
    "precio_mode = var_precio.mode() #220\n",
    "\n",
    "'''Medidas de dispersion'''\n",
    "var_precio.describe()  # min = 25 ; max = 1700 ; 25% = 160 ; 50% = 245 ; 75% = 380 ; count=347\n",
    "precio_std = var_precio.std(ddof = 0) #247.51, valor poblacional no muestral\n",
    "precio_varianza = var_precio.var(ddof = 0) #61262.03, valor poblacional no muestral\n",
    "precio_asimetria = var_precio.skew() #2.39\n",
    "precio_curtosis = kurtosis(var_precio, fisher= False) #10.04\n",
    "precio_range = (var_precio.max() - var_precio.min()) #1675"
   ],
   "metadata": {
    "collapsed": false,
    "pycharm": {
     "name": "#%%var_precio = df['precio']\n"
    }
   }
  },
  {
   "cell_type": "code",
   "execution_count": 13,
   "outputs": [],
   "source": [
    "var_mt2 = df['mt2']\n",
    "\n",
    "'''Medidas de tendencia central'''\n",
    "mt2_mean = var_mt2.mean() #120.01\n",
    "mt2_median = var_mt2.median() #96\n",
    "mt2_mode = var_mt2.mode() #60\n",
    "\n",
    "'''Medidas de dispersion'''\n",
    "var_mt2.describe()  # min = 26 ; max = 500 ; 25% = 72 ; 50% = 96 ; 75% = 140 ; count = 347;\n",
    "mt2_std = var_mt2.std(ddof = 0) #73.89, valor poblacional no muestral\n",
    "mt2_varianza = var_mt2.var(ddof = 0) #5459.73 ,valor poblacional no muestral\n",
    "mt2_simetria = var_mt2.skew() #1.88\n",
    "mt2_curtosis = kurtosis(var_mt2, fisher= False) #6.97\n",
    "mt2_rango = (var_mt2.max() - var_mt2.min()) #474"
   ],
   "metadata": {
    "collapsed": false,
    "pycharm": {
     "name": "#%%\n"
    }
   }
  },
  {
   "cell_type": "code",
   "execution_count": 14,
   "outputs": [],
   "source": [
    "var_estrato = df['estrato']\n",
    "\n",
    "'''Medidas de tendencia central'''\n",
    "estrato_mean = var_estrato.mean() #4.64\n",
    "estrato_median = var_estrato.median() #5\n",
    "estrato_mode = var_estrato.mode() #6\n",
    "\n",
    "'''Medidas de dispersion'''\n",
    "var_estrato.describe()  # min = 2 ; max = 6; 25% = 4 ; 50% = 5 ; 75% = 6 ; count = 347;\n",
    "estrato_std = var_estrato.std(ddof = 0) #1.19, valor poblacional no muestral. Muestral : ddof = 1\n",
    "estrato_varianza = var_estrato.var(ddof = 0) #1.421 ,valor poblacional no muestral. Muestral : ddof = 1\n",
    "estrato_asimetria = var_estrato.skew() #-0.247\n",
    "estrato_curtosis = kurtosis(var_estrato, fisher= False) #1.674\n",
    "estrato_rango = (var_estrato.max() - var_estrato.min()) #4"
   ],
   "metadata": {
    "collapsed": false,
    "pycharm": {
     "name": "#%%\n"
    }
   }
  },
  {
   "cell_type": "code",
   "execution_count": 15,
   "outputs": [],
   "source": [
    "var_alcobas = df['alcobas']\n",
    "\n",
    "'''Medidas de tendencia central'''\n",
    "alcobas_mean = var_alcobas.mean() #2.89\n",
    "alcobas_median = var_alcobas.median() #3\n",
    "alcobas_mode = var_alcobas.mode() #3\n",
    "\n",
    "'''Medidas de dispersion'''\n",
    "var_alcobas.describe()  # min = 1 ; max = 5; 25% = 3 ; 50% = 3 ; 75% = 3 ; count = 347;\n",
    "alcobas_std = var_alcobas.std(ddof = 0) #0.639, valor poblacional no muestral. Muestral : ddof = 1\n",
    "alcobas_varianza = var_alcobas.var(ddof = 0) #0.4087 ,valor poblacional no muestral. Muestral : ddof = 1\n",
    "alcobas_asimetria = var_alcobas.skew() #-0.099\n",
    "alcobas_curtosis = kurtosis(var_alcobas, fisher= False) #4.55\n",
    "alcobas_rango = (var_alcobas.max() - var_alcobas.min()) #4"
   ],
   "metadata": {
    "collapsed": false,
    "pycharm": {
     "name": "#%%\n"
    }
   }
  },
  {
   "cell_type": "code",
   "execution_count": 16,
   "outputs": [],
   "source": [
    "var_banos = df['banos']\n",
    "\n",
    "'''Medidas de tendencia central'''\n",
    "banos_mean =   var_banos.mean()#2.29\n",
    "banos_median = var_banos.median() #2\n",
    "banos_mode = var_banos.mode() #2\n",
    "\n",
    "'''Medidas de dispersion'''\n",
    "var_banos.describe()  # min = 1 ; max = 5; 25% = 2 ; 50% = 2 ; 75% = 3 ; count = 347;\n",
    "banos_std = var_banos.std(ddof = 0) #0.777, valor poblacional no muestral. Muestral : ddof = 1\n",
    "banos_varianza = var_banos.var(ddof = 0) #0.605 ,valor poblacional no muestral. Muestral : ddof = 1\n",
    "banos_asimetria = var_banos.skew() #0.762\n",
    "banos_curtosis = kurtosis(var_banos, fisher= False) #3.82\n",
    "banos_rango = (var_banos.max() - var_banos.min()) #4"
   ],
   "metadata": {
    "collapsed": false,
    "pycharm": {
     "name": "#%%\n"
    }
   }
  },
  {
   "cell_type": "markdown",
   "source": [
    "### Start using aproximation's rules for two decimals"
   ],
   "metadata": {
    "collapsed": false
   }
  },
  {
   "cell_type": "code",
   "execution_count": 17,
   "outputs": [],
   "source": [
    "var_administracion = df['administracion']\n",
    "\n",
    "'''Medidas de tendencia central'''\n",
    "administracion_mean =   var_administracion.mean()#0.26\n",
    "administracion_median = var_administracion.median() #0.19\n",
    "administracion_mode = var_administracion.mode() #0\n",
    "\n",
    "'''Medidas de dispersion'''\n",
    "var_administracion.describe()  # min = 0 ; max = 2.3; 25% = 0.09 ; 50% = 0.19 ; 75% = 0.36 ; count = 347;\n",
    "adminstracion_std = var_administracion.std(ddof = 0) #0.26, valor poblacional no muestral. Muestral : ddof = 1\n",
    "administracion_varianza = var_administracion.var(ddof = 0) #0.41 ,valor poblacional no muestral. Muestral : ddof = 1\n",
    "administracion_asimetria = var_administracion.skew() #2.2\n",
    "administracion_curtosis = kurtosis(var_administracion, fisher= False) #13.5\n",
    "administracion_rango = (var_administracion.max() - var_administracion.min()) #2.3"
   ],
   "metadata": {
    "collapsed": false,
    "pycharm": {
     "name": "#%%\n"
    }
   }
  },
  {
   "cell_type": "code",
   "execution_count": 22,
   "outputs": [
    {
     "data": {
      "text/plain": "1517.9910000000002"
     },
     "execution_count": 22,
     "metadata": {},
     "output_type": "execute_result"
    }
   ],
   "source": [
    "var_avaluo = df['avaluo']\n",
    "\n",
    "'''Medidas de tendencia central'''\n",
    "avaluo_mean = var_avaluo.mean() #185.32\n",
    "avaluo_median = var_avaluo.median() #133.7\n",
    "avaluo_mode = var_avaluo.mode() #28.1 ; 74 ; 95 ; 159\n",
    "\n",
    "'''Medidas de dispersion'''\n",
    "var_avaluo.describe()  # min = 0.15 ; max = 1518.14 ; 25% = 73 ; 50% = 133.7 ; 75% = 231.75 ; count = 347;\n",
    "avaluo_std = var_avaluo.std(ddof = 0) #176.3, valor poblacional no muestral\n",
    "avaluo_varianza = var_avaluo.var(ddof = 0) #31074.6 ,valor poblacional no muestral\n",
    "avaluo_simetria = var_avaluo.skew() #2.8\n",
    "avaluo_curtosis = kurtosis(var_avaluo, fisher= False) #16\n",
    "avaluo_rango = (var_avaluo.max() - var_avaluo.min()) #1517.9"
   ],
   "metadata": {
    "collapsed": false,
    "pycharm": {
     "name": "#%%\n"
    }
   }
  },
  {
   "cell_type": "markdown",
   "source": [
    "### Cualitative variable types"
   ],
   "metadata": {
    "collapsed": false,
    "pycharm": {
     "name": "#%% md\n"
    }
   }
  },
  {
   "cell_type": "code",
   "execution_count": 44,
   "outputs": [
    {
     "data": {
      "text/plain": "                Frecuencia_absoluta  Frecuencia_relativa  \\\npoblado                         134                38.62   \naburra sur                       84                24.21   \nlaureles                         36                10.37   \noccidente                        35                10.09   \nbelen guayabal                   34                 9.80   \ncentro                           19                 5.48   \nnorte                             5                 1.44   \n\n                Frec_absoluta_acumulada  Frec_relativa_acumulada  \npoblado                             134                    38.62  \naburra sur                          218                    62.83  \nlaureles                            254                    73.20  \noccidente                           289                    83.29  \nbelen guayabal                      323                    93.09  \ncentro                              342                    98.57  \nnorte                               347                   100.01  ",
      "text/html": "<div>\n<style scoped>\n    .dataframe tbody tr th:only-of-type {\n        vertical-align: middle;\n    }\n\n    .dataframe tbody tr th {\n        vertical-align: top;\n    }\n\n    .dataframe thead th {\n        text-align: right;\n    }\n</style>\n<table border=\"1\" class=\"dataframe\">\n  <thead>\n    <tr style=\"text-align: right;\">\n      <th></th>\n      <th>Frecuencia_absoluta</th>\n      <th>Frecuencia_relativa</th>\n      <th>Frec_absoluta_acumulada</th>\n      <th>Frec_relativa_acumulada</th>\n    </tr>\n  </thead>\n  <tbody>\n    <tr>\n      <th>poblado</th>\n      <td>134</td>\n      <td>38.62</td>\n      <td>134</td>\n      <td>38.62</td>\n    </tr>\n    <tr>\n      <th>aburra sur</th>\n      <td>84</td>\n      <td>24.21</td>\n      <td>218</td>\n      <td>62.83</td>\n    </tr>\n    <tr>\n      <th>laureles</th>\n      <td>36</td>\n      <td>10.37</td>\n      <td>254</td>\n      <td>73.20</td>\n    </tr>\n    <tr>\n      <th>occidente</th>\n      <td>35</td>\n      <td>10.09</td>\n      <td>289</td>\n      <td>83.29</td>\n    </tr>\n    <tr>\n      <th>belen guayabal</th>\n      <td>34</td>\n      <td>9.80</td>\n      <td>323</td>\n      <td>93.09</td>\n    </tr>\n    <tr>\n      <th>centro</th>\n      <td>19</td>\n      <td>5.48</td>\n      <td>342</td>\n      <td>98.57</td>\n    </tr>\n    <tr>\n      <th>norte</th>\n      <td>5</td>\n      <td>1.44</td>\n      <td>347</td>\n      <td>100.01</td>\n    </tr>\n  </tbody>\n</table>\n</div>"
     },
     "execution_count": 44,
     "metadata": {},
     "output_type": "execute_result"
    }
   ],
   "source": [
    "var_ubicacion = df['ubicacion']\n",
    "\n",
    "'''Frecuencia absoluta'''\n",
    "frec_ab = var_ubicacion.value_counts()\n",
    "frec_df = pd.DataFrame(frec_ab)\n",
    "frec_df.columns = ['Frecuencia_absoluta']\n",
    "\n",
    "'''Frecuencia relativa'''\n",
    "frec_df['Frecuencia_relativa'] = round(frec_df['Frecuencia_absoluta'] * 100 / len(var_ubicacion),2)\n",
    "\n",
    "'''Frecuencia absoluta acumulada'''\n",
    "acumulado_ab = 0\n",
    "valores_frec_ab = frec_ab.values\n",
    "frec_ab_acum = []\n",
    "\n",
    "def get_acum (values,acum,storaged):\n",
    "    for i in values:\n",
    "        acum = acum + i\n",
    "        storaged.append(acum)\n",
    "\n",
    "get_acum(valores_frec_ab,acumulado_ab,frec_ab_acum)\n",
    "\n",
    "frec_df['Frec_absoluta_acumulada'] = frec_ab_acum\n",
    "\n",
    "'''Frecuencia relativa acumulada'''\n",
    "acumulado_rel = 0\n",
    "valores_frec_rel = frec_df['Frecuencia_relativa'].values\n",
    "frec_rel_acum = []\n",
    "\n",
    "get_acum(valores_frec_rel,acumulado_rel,frec_rel_acum)\n",
    "\n",
    "frec_df['Frec_relativa_acumulada'] = frec_rel_acum\n",
    "frec_df"
   ],
   "metadata": {
    "collapsed": false,
    "pycharm": {
     "name": "#%%\n"
    }
   }
  }
 ],
 "metadata": {
  "kernelspec": {
   "display_name": "Python 3",
   "language": "python",
   "name": "python3"
  },
  "language_info": {
   "codemirror_mode": {
    "name": "ipython",
    "version": 2
   },
   "file_extension": ".py",
   "mimetype": "text/x-python",
   "name": "python",
   "nbconvert_exporter": "python",
   "pygments_lexer": "ipython2",
   "version": "2.7.6"
  }
 },
 "nbformat": 4,
 "nbformat_minor": 0
}