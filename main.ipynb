{
 "cells": [
  {
   "cell_type": "code",
   "execution_count": 82,
   "outputs": [],
   "source": [
    "import pandas as pd\n",
    "from scipy.stats import kurtosis\n",
    "import matplotlib.pyplot\n",
    "import seaborn as sb"
   ],
   "metadata": {
    "collapsed": false,
    "pycharm": {
     "name": "#%%\n"
    }
   }
  },
  {
   "cell_type": "code",
   "execution_count": 83,
   "outputs": [],
   "source": [
    "df = pd.read_excel('./Grupo 01.xlsx')\n",
    "#TODO: cuantitativas cosntruir un grafico\n",
    "#TODO: grafico para cualitativas\n",
    "#TODO: medidas de tendencia central para precio segun el parqueadero\n",
    "#TODO: medias de tendencia central para mt2 segun si esta terminaod o no\n",
    "#TODO: box-plot para las ultimas dos tareas"
   ],
   "metadata": {
    "collapsed": false,
    "pycharm": {
     "name": "#%%\n"
    }
   }
  },
  {
   "cell_type": "markdown",
   "source": [
    "## Center's Measurement"
   ],
   "metadata": {
    "collapsed": false
   }
  },
  {
   "cell_type": "code",
   "execution_count": 84,
   "outputs": [],
   "source": [
    "variables = ['precio','mt2','estrato','alcobas','banos','administracion','avaluo']\n",
    "\n",
    "var_media = [round(df[i].mean(),2) for i in variables]\n",
    "var_mediana = [round(df[i].median(),2) for i in variables]\n",
    "var_mode = [round(df[i].mode(),2) for i in variables]\n",
    "\n",
    "df_variables = pd.DataFrame(var_media)\n",
    "df_variables.columns = ['Media']\n",
    "df_variables['Mediana'] = var_mediana\n",
    "df_variables['Moda'] = var_mode"
   ],
   "metadata": {
    "collapsed": false,
    "pycharm": {
     "name": "#%%\n"
    }
   }
  },
  {
   "cell_type": "markdown",
   "source": [
    "## Scattering's Measurement"
   ],
   "metadata": {
    "collapsed": false
   }
  },
  {
   "cell_type": "code",
   "execution_count": 85,
   "outputs": [],
   "source": [
    "var_std = [round(df[i].std(),2) for i in variables]\n",
    "# var_std\n",
    "var_min = [df[i].min() for i in variables]\n",
    "# var_min\n",
    "var_max = [df[i].max() for i in variables]\n",
    "# var_max\n",
    "var_q1 = [round(df[i].quantile(q=0.25),2) for i in variables]\n",
    "# var_q1\n",
    "var_q3 = [round(df[i].quantile(q=0.75),2) for i in variables]\n",
    "# var_q3\n",
    "var_var = [round(df[i].var(),2) for i in variables]\n",
    "# var_var\n",
    "var_asi = [round(df[i].skew(),2) for i in variables]\n",
    "# var_asi\n",
    "var_kur = [round(kurtosis(df[i], fisher=False),2) for i in variables]\n",
    "# var_kur\n",
    "var_range = [df[i].max() - df[i].min() for i in variables]\n",
    "# var_range"
   ],
   "metadata": {
    "collapsed": false,
    "pycharm": {
     "name": "#%%\n"
    }
   }
  },
  {
   "cell_type": "markdown",
   "source": [
    "### Cualitative variable types"
   ],
   "metadata": {
    "collapsed": false,
    "pycharm": {
     "name": "#%% md\n"
    }
   }
  },
  {
   "cell_type": "code",
   "execution_count": 86,
   "outputs": [],
   "source": [
    "def get_acum (dataframe,option):\n",
    "    \"\"\"Funcion que llena un arreglo <storaged> con los valores acumulados\n",
    "       de la suma de cada elemento dentro del <dataframe>\n",
    "    \"\"\"\n",
    "    acum = 0\n",
    "    storaged = []\n",
    "\n",
    "    if option == 1: #opcion para obtener la frecuncia absoluta\n",
    "       values = dataframe['Frecuencia_absoluta'].values\n",
    "\n",
    "       for i in values:\n",
    "            acum = acum + i\n",
    "            storaged.append(acum)\n",
    "\n",
    "       dataframe['Frec_absoluta_acumulada'] = storaged\n",
    "\n",
    "    elif option == 2: #opcion para obtener la frecuencia relativa\n",
    "        values = dataframe['Frecuencia_relativa'].values\n",
    "\n",
    "        for i in values:\n",
    "            acum = acum + i\n",
    "            storaged.append(acum)\n",
    "\n",
    "        dataframe['Frec_relativa_acumulada'] = storaged\n",
    "\n",
    "def get_frec_ab (values):\n",
    "    \"\"\"Funcion que retorna un dataframe.\n",
    "       Se obtiene la frec_ab y se conviente en dataframe.\n",
    "    \"\"\"\n",
    "    frec_ab = values.value_counts()\n",
    "    frec_df = pd.DataFrame(frec_ab)\n",
    "    frec_df.columns = ['Frecuencia_absoluta']\n",
    "    return frec_df\n",
    "\n",
    "def get_frec_rel (dataframe,source):\n",
    "    \"\"\"Funcion que actualiza el parametro <datagrame> anadiendo la columna\n",
    "       de frec_relativas.\n",
    "    \"\"\"\n",
    "    dataframe['Frecuencia_relativa'] = round(dataframe['Frecuencia_absoluta'] * 100 / len(source),3)\n"
   ],
   "metadata": {
    "collapsed": false,
    "pycharm": {
     "name": "#%%\n"
    }
   }
  },
  {
   "cell_type": "code",
   "execution_count": 87,
   "outputs": [
    {
     "data": {
      "text/plain": "                Frecuencia_absoluta  Frecuencia_relativa  \\\npoblado                         134               38.617   \naburra sur                       84               24.207   \nlaureles                         36               10.375   \noccidente                        35               10.086   \nbelen guayabal                   34                9.798   \ncentro                           19                5.476   \nnorte                             5                1.441   \n\n                Frec_absoluta_acumulada  Frec_relativa_acumulada  \npoblado                             134                   38.617  \naburra sur                          218                   62.824  \nlaureles                            254                   73.199  \noccidente                           289                   83.285  \nbelen guayabal                      323                   93.083  \ncentro                              342                   98.559  \nnorte                               347                  100.000  ",
      "text/html": "<div>\n<style scoped>\n    .dataframe tbody tr th:only-of-type {\n        vertical-align: middle;\n    }\n\n    .dataframe tbody tr th {\n        vertical-align: top;\n    }\n\n    .dataframe thead th {\n        text-align: right;\n    }\n</style>\n<table border=\"1\" class=\"dataframe\">\n  <thead>\n    <tr style=\"text-align: right;\">\n      <th></th>\n      <th>Frecuencia_absoluta</th>\n      <th>Frecuencia_relativa</th>\n      <th>Frec_absoluta_acumulada</th>\n      <th>Frec_relativa_acumulada</th>\n    </tr>\n  </thead>\n  <tbody>\n    <tr>\n      <th>poblado</th>\n      <td>134</td>\n      <td>38.617</td>\n      <td>134</td>\n      <td>38.617</td>\n    </tr>\n    <tr>\n      <th>aburra sur</th>\n      <td>84</td>\n      <td>24.207</td>\n      <td>218</td>\n      <td>62.824</td>\n    </tr>\n    <tr>\n      <th>laureles</th>\n      <td>36</td>\n      <td>10.375</td>\n      <td>254</td>\n      <td>73.199</td>\n    </tr>\n    <tr>\n      <th>occidente</th>\n      <td>35</td>\n      <td>10.086</td>\n      <td>289</td>\n      <td>83.285</td>\n    </tr>\n    <tr>\n      <th>belen guayabal</th>\n      <td>34</td>\n      <td>9.798</td>\n      <td>323</td>\n      <td>93.083</td>\n    </tr>\n    <tr>\n      <th>centro</th>\n      <td>19</td>\n      <td>5.476</td>\n      <td>342</td>\n      <td>98.559</td>\n    </tr>\n    <tr>\n      <th>norte</th>\n      <td>5</td>\n      <td>1.441</td>\n      <td>347</td>\n      <td>100.000</td>\n    </tr>\n  </tbody>\n</table>\n</div>"
     },
     "execution_count": 87,
     "metadata": {},
     "output_type": "execute_result"
    }
   ],
   "source": [
    "var_ubicacion = df['ubicacion']\n",
    "\n",
    "'''Frecuencia absoluta'''\n",
    "\n",
    "frec_ubicacion = get_frec_ab(var_ubicacion)\n",
    "\n",
    "'''Frecuencia relativa'''\n",
    "\n",
    "get_frec_rel(frec_ubicacion,var_ubicacion)\n",
    "\n",
    "'''Frecuencia absoluta acumulada'''\n",
    "get_acum(frec_ubicacion,1)\n",
    "\n",
    "'''Frecuencia relativa acumulada'''\n",
    "\n",
    "get_acum(frec_ubicacion,2)\n",
    "frec_ubicacion"
   ],
   "metadata": {
    "collapsed": false,
    "pycharm": {
     "name": "#%%\n"
    }
   }
  },
  {
   "cell_type": "code",
   "execution_count": 88,
   "outputs": [
    {
     "data": {
      "text/plain": "    Frecuencia_absoluta  Frecuencia_relativa  Frec_absoluta_acumulada  \\\nsi                  256               73.775                      256   \nno                   91               26.225                      347   \n\n    Frec_relativa_acumulada  \nsi                   73.775  \nno                  100.000  ",
      "text/html": "<div>\n<style scoped>\n    .dataframe tbody tr th:only-of-type {\n        vertical-align: middle;\n    }\n\n    .dataframe tbody tr th {\n        vertical-align: top;\n    }\n\n    .dataframe thead th {\n        text-align: right;\n    }\n</style>\n<table border=\"1\" class=\"dataframe\">\n  <thead>\n    <tr style=\"text-align: right;\">\n      <th></th>\n      <th>Frecuencia_absoluta</th>\n      <th>Frecuencia_relativa</th>\n      <th>Frec_absoluta_acumulada</th>\n      <th>Frec_relativa_acumulada</th>\n    </tr>\n  </thead>\n  <tbody>\n    <tr>\n      <th>si</th>\n      <td>256</td>\n      <td>73.775</td>\n      <td>256</td>\n      <td>73.775</td>\n    </tr>\n    <tr>\n      <th>no</th>\n      <td>91</td>\n      <td>26.225</td>\n      <td>347</td>\n      <td>100.000</td>\n    </tr>\n  </tbody>\n</table>\n</div>"
     },
     "execution_count": 88,
     "metadata": {},
     "output_type": "execute_result"
    }
   ],
   "source": [
    "var_balcon = df['balcon']\n",
    "\n",
    "\n",
    "'''Frecuencia absoluta'''\n",
    "\n",
    "frec_balcon = get_frec_ab(var_balcon)\n",
    "\n",
    "'''Frecuencia relativa'''\n",
    "\n",
    "get_frec_rel(frec_balcon,var_balcon)\n",
    "\n",
    "'''Frecuencia absoluta acumulada'''\n",
    "get_acum(frec_balcon,1)\n",
    "\n",
    "'''Frecuencia relativa acumulada'''\n",
    "get_acum(frec_balcon,2)\n",
    "frec_balcon\n"
   ],
   "metadata": {
    "collapsed": false,
    "pycharm": {
     "name": "#%%\n"
    }
   }
  },
  {
   "cell_type": "code",
   "execution_count": 89,
   "outputs": [
    {
     "data": {
      "text/plain": "    Frecuencia_absoluta  Frecuencia_relativa  Frec_absoluta_acumulada  \\\nsi                  278               80.115                      278   \nno                   69               19.885                      347   \n\n    Frec_relativa_acumulada  \nsi                   80.115  \nno                  100.000  ",
      "text/html": "<div>\n<style scoped>\n    .dataframe tbody tr th:only-of-type {\n        vertical-align: middle;\n    }\n\n    .dataframe tbody tr th {\n        vertical-align: top;\n    }\n\n    .dataframe thead th {\n        text-align: right;\n    }\n</style>\n<table border=\"1\" class=\"dataframe\">\n  <thead>\n    <tr style=\"text-align: right;\">\n      <th></th>\n      <th>Frecuencia_absoluta</th>\n      <th>Frecuencia_relativa</th>\n      <th>Frec_absoluta_acumulada</th>\n      <th>Frec_relativa_acumulada</th>\n    </tr>\n  </thead>\n  <tbody>\n    <tr>\n      <th>si</th>\n      <td>278</td>\n      <td>80.115</td>\n      <td>278</td>\n      <td>80.115</td>\n    </tr>\n    <tr>\n      <th>no</th>\n      <td>69</td>\n      <td>19.885</td>\n      <td>347</td>\n      <td>100.000</td>\n    </tr>\n  </tbody>\n</table>\n</div>"
     },
     "execution_count": 89,
     "metadata": {},
     "output_type": "execute_result"
    }
   ],
   "source": [
    "var_parqueadero = df['parqueadero']\n",
    "\n",
    "'''Frecuencia absoluta'''\n",
    "\n",
    "frec_parqueadero = get_frec_ab(var_parqueadero)\n",
    "\n",
    "'''Frecuencia relativa'''\n",
    "\n",
    "get_frec_rel(frec_parqueadero,var_parqueadero)\n",
    "\n",
    "'''Frecuencia absoluta acumulada'''\n",
    "get_acum(frec_parqueadero,1)\n",
    "\n",
    "'''Frecuencia relativa acumulada'''\n",
    "get_acum(frec_parqueadero,2)\n",
    "frec_parqueadero"
   ],
   "metadata": {
    "collapsed": false,
    "pycharm": {
     "name": "#%%\n"
    }
   }
  },
  {
   "cell_type": "code",
   "execution_count": 90,
   "outputs": [
    {
     "data": {
      "text/plain": "    Frecuencia_absoluta  Frecuencia_relativa  Frec_absoluta_acumulada  \\\nsi                  293               84.438                      293   \nno                   54               15.562                      347   \n\n    Frec_relativa_acumulada  \nsi                   84.438  \nno                  100.000  ",
      "text/html": "<div>\n<style scoped>\n    .dataframe tbody tr th:only-of-type {\n        vertical-align: middle;\n    }\n\n    .dataframe tbody tr th {\n        vertical-align: top;\n    }\n\n    .dataframe thead th {\n        text-align: right;\n    }\n</style>\n<table border=\"1\" class=\"dataframe\">\n  <thead>\n    <tr style=\"text-align: right;\">\n      <th></th>\n      <th>Frecuencia_absoluta</th>\n      <th>Frecuencia_relativa</th>\n      <th>Frec_absoluta_acumulada</th>\n      <th>Frec_relativa_acumulada</th>\n    </tr>\n  </thead>\n  <tbody>\n    <tr>\n      <th>si</th>\n      <td>293</td>\n      <td>84.438</td>\n      <td>293</td>\n      <td>84.438</td>\n    </tr>\n    <tr>\n      <th>no</th>\n      <td>54</td>\n      <td>15.562</td>\n      <td>347</td>\n      <td>100.000</td>\n    </tr>\n  </tbody>\n</table>\n</div>"
     },
     "execution_count": 90,
     "metadata": {},
     "output_type": "execute_result"
    }
   ],
   "source": [
    "var_terminado = df['terminado']\n",
    "\n",
    "'''Frecuencia absoluta'''\n",
    "\n",
    "frec_terminado = get_frec_ab(var_terminado)\n",
    "\n",
    "'''Frecuencia relativa'''\n",
    "\n",
    "get_frec_rel(frec_terminado,var_terminado)\n",
    "\n",
    "'''Frecuencia absoluta acumulada'''\n",
    "get_acum(frec_terminado,1)\n",
    "\n",
    "'''Frecuencia relativa acumulada'''\n",
    "get_acum(frec_terminado,2)\n",
    "frec_terminado"
   ],
   "metadata": {
    "collapsed": false,
    "pycharm": {
     "name": "#%%\n"
    }
   }
  },
  {
   "cell_type": "code",
   "execution_count": 91,
   "outputs": [
    {
     "ename": "KeyError",
     "evalue": "'nombre de la columna/variable de mi interes'",
     "output_type": "error",
     "traceback": [
      "\u001B[1;31m---------------------------------------------------------------------------\u001B[0m",
      "\u001B[1;31mKeyError\u001B[0m                                  Traceback (most recent call last)",
      "File \u001B[1;32mg:\\my drive\\universidad\\pye\\projects\\venv\\lib\\site-packages\\pandas\\core\\indexes\\base.py:3621\u001B[0m, in \u001B[0;36mIndex.get_loc\u001B[1;34m(self, key, method, tolerance)\u001B[0m\n\u001B[0;32m   3620\u001B[0m \u001B[38;5;28;01mtry\u001B[39;00m:\n\u001B[1;32m-> 3621\u001B[0m     \u001B[38;5;28;01mreturn\u001B[39;00m \u001B[38;5;28;43mself\u001B[39;49m\u001B[38;5;241;43m.\u001B[39;49m\u001B[43m_engine\u001B[49m\u001B[38;5;241;43m.\u001B[39;49m\u001B[43mget_loc\u001B[49m\u001B[43m(\u001B[49m\u001B[43mcasted_key\u001B[49m\u001B[43m)\u001B[49m\n\u001B[0;32m   3622\u001B[0m \u001B[38;5;28;01mexcept\u001B[39;00m \u001B[38;5;167;01mKeyError\u001B[39;00m \u001B[38;5;28;01mas\u001B[39;00m err:\n",
      "File \u001B[1;32mg:\\my drive\\universidad\\pye\\projects\\venv\\lib\\site-packages\\pandas\\_libs\\index.pyx:136\u001B[0m, in \u001B[0;36mpandas._libs.index.IndexEngine.get_loc\u001B[1;34m()\u001B[0m\n",
      "File \u001B[1;32mg:\\my drive\\universidad\\pye\\projects\\venv\\lib\\site-packages\\pandas\\_libs\\index.pyx:163\u001B[0m, in \u001B[0;36mpandas._libs.index.IndexEngine.get_loc\u001B[1;34m()\u001B[0m\n",
      "File \u001B[1;32mpandas\\_libs\\hashtable_class_helper.pxi:5198\u001B[0m, in \u001B[0;36mpandas._libs.hashtable.PyObjectHashTable.get_item\u001B[1;34m()\u001B[0m\n",
      "File \u001B[1;32mpandas\\_libs\\hashtable_class_helper.pxi:5206\u001B[0m, in \u001B[0;36mpandas._libs.hashtable.PyObjectHashTable.get_item\u001B[1;34m()\u001B[0m\n",
      "\u001B[1;31mKeyError\u001B[0m: 'nombre de la columna/variable de mi interes'",
      "\nThe above exception was the direct cause of the following exception:\n",
      "\u001B[1;31mKeyError\u001B[0m                                  Traceback (most recent call last)",
      "Input \u001B[1;32mIn [91]\u001B[0m, in \u001B[0;36m<cell line: 1>\u001B[1;34m()\u001B[0m\n\u001B[1;32m----> 1\u001B[0m var_columna \u001B[38;5;241m=\u001B[39m \u001B[43mdf\u001B[49m\u001B[43m[\u001B[49m\u001B[38;5;124;43m'\u001B[39;49m\u001B[38;5;124;43mnombre de la columna/variable de mi interes\u001B[39;49m\u001B[38;5;124;43m'\u001B[39;49m\u001B[43m]\u001B[49m\n",
      "File \u001B[1;32mg:\\my drive\\universidad\\pye\\projects\\venv\\lib\\site-packages\\pandas\\core\\frame.py:3505\u001B[0m, in \u001B[0;36mDataFrame.__getitem__\u001B[1;34m(self, key)\u001B[0m\n\u001B[0;32m   3503\u001B[0m \u001B[38;5;28;01mif\u001B[39;00m \u001B[38;5;28mself\u001B[39m\u001B[38;5;241m.\u001B[39mcolumns\u001B[38;5;241m.\u001B[39mnlevels \u001B[38;5;241m>\u001B[39m \u001B[38;5;241m1\u001B[39m:\n\u001B[0;32m   3504\u001B[0m     \u001B[38;5;28;01mreturn\u001B[39;00m \u001B[38;5;28mself\u001B[39m\u001B[38;5;241m.\u001B[39m_getitem_multilevel(key)\n\u001B[1;32m-> 3505\u001B[0m indexer \u001B[38;5;241m=\u001B[39m \u001B[38;5;28;43mself\u001B[39;49m\u001B[38;5;241;43m.\u001B[39;49m\u001B[43mcolumns\u001B[49m\u001B[38;5;241;43m.\u001B[39;49m\u001B[43mget_loc\u001B[49m\u001B[43m(\u001B[49m\u001B[43mkey\u001B[49m\u001B[43m)\u001B[49m\n\u001B[0;32m   3506\u001B[0m \u001B[38;5;28;01mif\u001B[39;00m is_integer(indexer):\n\u001B[0;32m   3507\u001B[0m     indexer \u001B[38;5;241m=\u001B[39m [indexer]\n",
      "File \u001B[1;32mg:\\my drive\\universidad\\pye\\projects\\venv\\lib\\site-packages\\pandas\\core\\indexes\\base.py:3623\u001B[0m, in \u001B[0;36mIndex.get_loc\u001B[1;34m(self, key, method, tolerance)\u001B[0m\n\u001B[0;32m   3621\u001B[0m     \u001B[38;5;28;01mreturn\u001B[39;00m \u001B[38;5;28mself\u001B[39m\u001B[38;5;241m.\u001B[39m_engine\u001B[38;5;241m.\u001B[39mget_loc(casted_key)\n\u001B[0;32m   3622\u001B[0m \u001B[38;5;28;01mexcept\u001B[39;00m \u001B[38;5;167;01mKeyError\u001B[39;00m \u001B[38;5;28;01mas\u001B[39;00m err:\n\u001B[1;32m-> 3623\u001B[0m     \u001B[38;5;28;01mraise\u001B[39;00m \u001B[38;5;167;01mKeyError\u001B[39;00m(key) \u001B[38;5;28;01mfrom\u001B[39;00m \u001B[38;5;21;01merr\u001B[39;00m\n\u001B[0;32m   3624\u001B[0m \u001B[38;5;28;01mexcept\u001B[39;00m \u001B[38;5;167;01mTypeError\u001B[39;00m:\n\u001B[0;32m   3625\u001B[0m     \u001B[38;5;66;03m# If we have a listlike key, _check_indexing_error will raise\u001B[39;00m\n\u001B[0;32m   3626\u001B[0m     \u001B[38;5;66;03m#  InvalidIndexError. Otherwise we fall through and re-raise\u001B[39;00m\n\u001B[0;32m   3627\u001B[0m     \u001B[38;5;66;03m#  the TypeError.\u001B[39;00m\n\u001B[0;32m   3628\u001B[0m     \u001B[38;5;28mself\u001B[39m\u001B[38;5;241m.\u001B[39m_check_indexing_error(key)\n",
      "\u001B[1;31mKeyError\u001B[0m: 'nombre de la columna/variable de mi interes'"
     ]
    }
   ],
   "source": [
    "# var_columna = df['nombre de la columna/variable de mi interes']\n",
    "#variables_categoricas_disponibles = ['ubicacion','balcon','parqueadero','terminado']"
   ],
   "metadata": {
    "collapsed": false,
    "pycharm": {
     "name": "#%%\n"
    }
   }
  }
 ],
 "metadata": {
  "kernelspec": {
   "display_name": "Python 3",
   "language": "python",
   "name": "python3"
  },
  "language_info": {
   "codemirror_mode": {
    "name": "ipython",
    "version": 2
   },
   "file_extension": ".py",
   "mimetype": "text/x-python",
   "name": "python",
   "nbconvert_exporter": "python",
   "pygments_lexer": "ipython2",
   "version": "2.7.6"
  }
 },
 "nbformat": 4,
 "nbformat_minor": 0
}