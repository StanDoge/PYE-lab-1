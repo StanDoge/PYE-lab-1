{
 "cells": [
  {
   "cell_type": "code",
   "execution_count": 1,
   "outputs": [],
   "source": [
    "import pandas as pd\n",
    "from scipy.stats import kurtosis\n",
    "import matplotlib.pyplot as plt\n",
    "import seaborn as sb\n",
    "sb.set(rc={'figure.figsize':(11.7,8.27)})"
   ],
   "metadata": {
    "collapsed": false,
    "pycharm": {
     "name": "#%%\n"
    }
   }
  },
  {
   "cell_type": "code",
   "execution_count": 2,
   "outputs": [],
   "source": [
    "df = pd.read_excel('./Grupo 01.xlsx')\n",
    "#TODO: cuantitativas cosntruir un grafico\n",
    "#TODO: grafico para cualitativas\n",
    "#TODO: medidas de tendencia central para precio segun el parqueadero\n",
    "#TODO: medias de tendencia central para mt2 segun si esta terminaod o no\n",
    "#TODO: box-plot para las ultimas dos tareas"
   ],
   "metadata": {
    "collapsed": false,
    "pycharm": {
     "name": "#%%\n"
    }
   }
  },
  {
   "cell_type": "markdown",
   "source": [
    "## Center's Measurement"
   ],
   "metadata": {
    "collapsed": false
   }
  },
  {
   "cell_type": "code",
   "execution_count": 3,
   "outputs": [
    {
     "data": {
      "text/plain": "    Media  Mediana                                               Moda\n0  317.04   245.00            0    220.0\nName: precio, dtype: float64\n1  120.01    96.00                0    60.0\nName: mt2, dtype: float64\n2    4.65     5.00                 0    6\nName: estrato, dtype: int64\n3    2.89     3.00                 0    3\nName: alcobas, dtype: int64\n4    2.29     2.00                   0    2\nName: banos, dtype: int64\n5    0.26     0.19      0    0.0\nName: administracion, dtype: float64\n6  185.33   133.69  0     28.08\n1     74.00\n2     95.00\n3    159.0...",
      "text/html": "<div>\n<style scoped>\n    .dataframe tbody tr th:only-of-type {\n        vertical-align: middle;\n    }\n\n    .dataframe tbody tr th {\n        vertical-align: top;\n    }\n\n    .dataframe thead th {\n        text-align: right;\n    }\n</style>\n<table border=\"1\" class=\"dataframe\">\n  <thead>\n    <tr style=\"text-align: right;\">\n      <th></th>\n      <th>Media</th>\n      <th>Mediana</th>\n      <th>Moda</th>\n    </tr>\n  </thead>\n  <tbody>\n    <tr>\n      <th>0</th>\n      <td>317.04</td>\n      <td>245.00</td>\n      <td>0    220.0\nName: precio, dtype: float64</td>\n    </tr>\n    <tr>\n      <th>1</th>\n      <td>120.01</td>\n      <td>96.00</td>\n      <td>0    60.0\nName: mt2, dtype: float64</td>\n    </tr>\n    <tr>\n      <th>2</th>\n      <td>4.65</td>\n      <td>5.00</td>\n      <td>0    6\nName: estrato, dtype: int64</td>\n    </tr>\n    <tr>\n      <th>3</th>\n      <td>2.89</td>\n      <td>3.00</td>\n      <td>0    3\nName: alcobas, dtype: int64</td>\n    </tr>\n    <tr>\n      <th>4</th>\n      <td>2.29</td>\n      <td>2.00</td>\n      <td>0    2\nName: banos, dtype: int64</td>\n    </tr>\n    <tr>\n      <th>5</th>\n      <td>0.26</td>\n      <td>0.19</td>\n      <td>0    0.0\nName: administracion, dtype: float64</td>\n    </tr>\n    <tr>\n      <th>6</th>\n      <td>185.33</td>\n      <td>133.69</td>\n      <td>0     28.08\n1     74.00\n2     95.00\n3    159.0...</td>\n    </tr>\n  </tbody>\n</table>\n</div>"
     },
     "execution_count": 3,
     "metadata": {},
     "output_type": "execute_result"
    }
   ],
   "source": [
    "variables = ['precio','mt2','estrato','alcobas','banos','administracion','avaluo']\n",
    "\n",
    "var_media = [round(df[i].mean(),2) for i in variables]\n",
    "var_mediana = [round(df[i].median(),2) for i in variables]\n",
    "var_mode = [round(df[i].mode(),2) for i in variables]\n",
    "\n",
    "df_variables = pd.DataFrame(var_media)\n",
    "df_variables.columns = ['Media']\n",
    "df_variables['Mediana'] = var_mediana\n",
    "df_variables['Moda'] = var_mode\n",
    "df_variables"
   ],
   "metadata": {
    "collapsed": false,
    "pycharm": {
     "name": "#%%\n"
    }
   }
  },
  {
   "cell_type": "markdown",
   "source": [
    "## Scattering's Measurement"
   ],
   "metadata": {
    "collapsed": false
   }
  },
  {
   "cell_type": "code",
   "execution_count": 4,
   "outputs": [],
   "source": [
    "var_std = [round(df[i].std(),2) for i in variables]\n",
    "# var_std\n",
    "var_min = [df[i].min() for i in variables]\n",
    "# var_min\n",
    "var_max = [df[i].max() for i in variables]\n",
    "# var_max\n",
    "var_q1 = [round(df[i].quantile(q=0.25),2) for i in variables]\n",
    "# var_q1\n",
    "var_q3 = [round(df[i].quantile(q=0.75),2) for i in variables]\n",
    "# var_q3\n",
    "var_var = [round(df[i].var(),2) for i in variables]\n",
    "# var_var\n",
    "var_asi = [round(df[i].skew(),2) for i in variables]\n",
    "# var_asi\n",
    "var_kur = [round(kurtosis(df[i], fisher=False),2) for i in variables]\n",
    "# var_kur\n",
    "var_range = [df[i].max() - df[i].min() for i in variables]\n",
    "# var_range"
   ],
   "metadata": {
    "collapsed": false,
    "pycharm": {
     "name": "#%%\n"
    }
   }
  },
  {
   "cell_type": "markdown",
   "source": [
    "### Cualitative variable types"
   ],
   "metadata": {
    "collapsed": false,
    "pycharm": {
     "name": "#%% md\n"
    }
   }
  },
  {
   "cell_type": "code",
   "execution_count": 5,
   "outputs": [],
   "source": [
    "def get_acum (dataframe,option):\n",
    "    \"\"\"Funcion que llena un arreglo <storaged> con los valores acumulados\n",
    "       de la suma de cada elemento dentro del <dataframe>\n",
    "    \"\"\"\n",
    "    acum = 0\n",
    "    storaged = []\n",
    "\n",
    "    if option == 1: #opcion para obtener la frecuncia absoluta\n",
    "       values = dataframe['Frecuencia_absoluta'].values\n",
    "\n",
    "       for i in values:\n",
    "            acum = acum + i\n",
    "            storaged.append(acum)\n",
    "\n",
    "       dataframe['Frec_absoluta_acumulada'] = storaged\n",
    "\n",
    "    elif option == 2: #opcion para obtener la frecuencia relativa\n",
    "        values = dataframe['Frecuencia_relativa'].values\n",
    "\n",
    "        for i in values:\n",
    "            acum = acum + i\n",
    "            storaged.append(acum)\n",
    "\n",
    "        dataframe['Frec_relativa_acumulada'] = storaged\n",
    "\n",
    "def get_frec_ab (values):\n",
    "    \"\"\"Funcion que retorna un dataframe.\n",
    "       Se obtiene la frec_ab y se conviente en dataframe.\n",
    "    \"\"\"\n",
    "    frec_ab = values.value_counts()\n",
    "    frec_df = pd.DataFrame(frec_ab)\n",
    "    frec_df.columns = ['Frecuencia_absoluta']\n",
    "    return frec_df\n",
    "\n",
    "def get_frec_rel (dataframe,source):\n",
    "    \"\"\"Funcion que actualiza el parametro <datagrame> anadiendo la columna\n",
    "       de frec_relativas.\n",
    "    \"\"\"\n",
    "    dataframe['Frecuencia_relativa'] = round(dataframe['Frecuencia_absoluta'] * 100 / len(source),3)\n"
   ],
   "metadata": {
    "collapsed": false,
    "pycharm": {
     "name": "#%%\n"
    }
   }
  },
  {
   "cell_type": "code",
   "execution_count": 6,
   "outputs": [],
   "source": [
    "var_ubicacion = df['ubicacion']\n",
    "\n",
    "'''Frecuencia absoluta'''\n",
    "\n",
    "frec_ubicacion = get_frec_ab(var_ubicacion)\n",
    "\n",
    "'''Frecuencia relativa'''\n",
    "\n",
    "get_frec_rel(frec_ubicacion,var_ubicacion)\n",
    "\n",
    "'''Frecuencia absoluta acumulada'''\n",
    "get_acum(frec_ubicacion,1)\n",
    "\n",
    "'''Frecuencia relativa acumulada'''\n",
    "\n",
    "get_acum(frec_ubicacion,2)"
   ],
   "metadata": {
    "collapsed": false,
    "pycharm": {
     "name": "#%%\n"
    }
   }
  },
  {
   "cell_type": "code",
   "execution_count": 7,
   "outputs": [],
   "source": [
    "var_balcon = df['balcon']\n",
    "\n",
    "\n",
    "'''Frecuencia absoluta'''\n",
    "\n",
    "frec_balcon = get_frec_ab(var_balcon)\n",
    "\n",
    "'''Frecuencia relativa'''\n",
    "\n",
    "get_frec_rel(frec_balcon,var_balcon)\n",
    "\n",
    "'''Frecuencia absoluta acumulada'''\n",
    "get_acum(frec_balcon,1)\n",
    "\n",
    "'''Frecuencia relativa acumulada'''\n",
    "get_acum(frec_balcon,2)\n"
   ],
   "metadata": {
    "collapsed": false,
    "pycharm": {
     "name": "#%%\n"
    }
   }
  },
  {
   "cell_type": "code",
   "execution_count": 8,
   "outputs": [],
   "source": [
    "var_parqueadero = df['parqueadero']\n",
    "\n",
    "'''Frecuencia absoluta'''\n",
    "\n",
    "frec_parqueadero = get_frec_ab(var_parqueadero)\n",
    "\n",
    "'''Frecuencia relativa'''\n",
    "\n",
    "get_frec_rel(frec_parqueadero,var_parqueadero)\n",
    "\n",
    "'''Frecuencia absoluta acumulada'''\n",
    "get_acum(frec_parqueadero,1)\n",
    "\n",
    "'''Frecuencia relativa acumulada'''\n",
    "get_acum(frec_parqueadero,2)"
   ],
   "metadata": {
    "collapsed": false,
    "pycharm": {
     "name": "#%%\n"
    }
   }
  },
  {
   "cell_type": "code",
   "execution_count": 9,
   "outputs": [],
   "source": [
    "var_terminado = df['terminado']\n",
    "\n",
    "'''Frecuencia absoluta'''\n",
    "\n",
    "frec_terminado = get_frec_ab(var_terminado)\n",
    "\n",
    "'''Frecuencia relativa'''\n",
    "\n",
    "get_frec_rel(frec_terminado,var_terminado)\n",
    "\n",
    "'''Frecuencia absoluta acumulada'''\n",
    "get_acum(frec_terminado,1)\n",
    "\n",
    "'''Frecuencia relativa acumulada'''\n",
    "get_acum(frec_terminado,2)"
   ],
   "metadata": {
    "collapsed": false,
    "pycharm": {
     "name": "#%%\n"
    }
   }
  },
  {
   "cell_type": "code",
   "execution_count": 10,
   "outputs": [],
   "source": [
    "# var_columna = df['nombre de la columna/variable de mi interes']\n",
    "#variables_categoricas_disponibles = ['ubicacion','balcon','parqueadero','terminado']"
   ],
   "metadata": {
    "collapsed": false,
    "pycharm": {
     "name": "#%%\n"
    }
   }
  },
  {
   "cell_type": "markdown",
   "source": [
    "## Price regarding of parqueadero"
   ],
   "metadata": {
    "collapsed": false,
    "pycharm": {
     "name": "#%% md\n"
    }
   }
  },
  {
   "cell_type": "code",
   "execution_count": 11,
   "outputs": [],
   "source": [
    "# sb.barplot(x='parqueadero',y='precio',data=df).set_title(\"Precios segun si hay parqueo o no\")\n",
    "# plt.axhline(df['precio'].mean(), color =\"r\", linestyle = '--', linewidth = 5)\n",
    "# plt.axhline(df['precio'].median(), color =\"g\", linestyle = '--', linewidth = 5)\n",
    "# plt.axhline(df['precio'].mode().values, color =\"y\", linestyle = 'dashdot', linewidth = 5)"
   ],
   "metadata": {
    "collapsed": false,
    "pycharm": {
     "name": "#%%\n"
    }
   }
  },
  {
   "cell_type": "code",
   "execution_count": 12,
   "outputs": [
    {
     "data": {
      "text/plain": "<AxesSubplot:xlabel='precio', ylabel='parqueadero'>"
     },
     "execution_count": 12,
     "metadata": {},
     "output_type": "execute_result"
    },
    {
     "data": {
      "text/plain": "<Figure size 842.4x595.44 with 1 Axes>",
      "image/png": "[encoded data removed]"
     },
     "metadata": {},
     "output_type": "display_data"
    }
   ],
   "source": [
    "# yes_median = df[(df['parqueadero'] == 'si')]['precio'].median()\n",
    "# yes_media = df[(df['parqueadero'] == 'si')]['precio'].media()\n",
    "# yes_mode = df[(df['parqueadero'] == 'si')]['precio'].mode()\n",
    "# no_median = df[(df['parqueadero'] == 'no')]['precio'].median()\n",
    "# no_media = df[(df['parqueadero'] == 'no')]['precio'].media()\n",
    "# no_mode = df[(df['parqueadero'] == 'no')]['precio'].mode()\n",
    "\n",
    "sb.boxenplot(x='precio',y='parqueadero',data=df)"
   ],
   "metadata": {
    "collapsed": false,
    "pycharm": {
     "name": "#%%\n"
    }
   }
  },
  {
   "cell_type": "markdown",
   "source": [
    "## Mt2 regarding of terminado"
   ],
   "metadata": {
    "collapsed": false
   }
  },
  {
   "cell_type": "code",
   "execution_count": 13,
   "outputs": [],
   "source": [
    "# sb.barplot(x='terminado',y='mt2',data=df).set_title(\"mt2 segun estado de activo inmueble\")\n",
    "# plt.axhline(df['mt2'].mean(), color =\"r\", linestyle = '--', linewidth = 5)\n",
    "# plt.axhline(df['mt2'].median(), color =\"g\", linestyle = '--', linewidth = 5)\n",
    "# plt.axhline(df['mt2'].mode().values, color =\"y\", linestyle = 'dashdot', linewidth = 5)"
   ],
   "metadata": {
    "collapsed": false,
    "pycharm": {
     "name": "#%%\n"
    }
   }
  },
  {
   "cell_type": "code",
   "execution_count": 14,
   "outputs": [
    {
     "data": {
      "text/plain": "<matplotlib.lines.Line2D at 0x179c3fae4f0>"
     },
     "execution_count": 14,
     "metadata": {},
     "output_type": "execute_result"
    },
    {
     "data": {
      "text/plain": "<Figure size 842.4x595.44 with 1 Axes>",
      "image/png": "[encoded data removed]"
     },
     "metadata": {},
     "output_type": "display_data"
    }
   ],
   "source": [
    "sb.boxenplot(x='terminado',y='mt2',data=df)\n",
    "plt.axhline(df['mt2'].mean(), color =\"r\", linestyle = '--', linewidth = 5)\n",
    "plt.axhline(df['mt2'].median(), color =\"g\", linestyle = '--', linewidth = 5)\n",
    "plt.axhline(df['mt2'].mode().values, color =\"y\", linestyle = 'dashdot', linewidth = 5)"
   ],
   "metadata": {
    "collapsed": false,
    "pycharm": {
     "name": "#%%\n"
    }
   }
  },
  {
   "cell_type": "code",
   "execution_count": 15,
   "outputs": [
    {
     "data": {
      "text/plain": "<matplotlib.lines.Line2D at 0x179c6403550>"
     },
     "execution_count": 15,
     "metadata": {},
     "output_type": "execute_result"
    },
    {
     "data": {
      "text/plain": "<Figure size 842.4x595.44 with 1 Axes>",
      "image/png": "[encoded data removed]"
     },
     "metadata": {},
     "output_type": "display_data"
    }
   ],
   "source": [
    "sb.boxenplot(x='parqueadero',y='precio',data=df)\n",
    "plt.axhline(df['precio'].mean(), color =\"r\", linestyle = '--', linewidth = 5)\n",
    "plt.axhline(df['precio'].median(), color =\"g\", linestyle = '--', linewidth = 5)\n",
    "plt.axhline(df['precio'].mode().values, color =\"y\", linestyle = 'dashdot', linewidth = 5)\n"
   ],
   "metadata": {
    "collapsed": false,
    "pycharm": {
     "name": "#%%\n"
    }
   }
  }
 ],
 "metadata": {
  "kernelspec": {
   "display_name": "Python 3",
   "language": "python",
   "name": "python3"
  },
  "language_info": {
   "codemirror_mode": {
    "name": "ipython",
    "version": 2
   },
   "file_extension": ".py",
   "mimetype": "text/x-python",
   "name": "python",
   "nbconvert_exporter": "python",
   "pygments_lexer": "ipython2",
   "version": "2.7.6"
  }
 },
 "nbformat": 4,
 "nbformat_minor": 0
}