{
 "cells": [
  {
   "cell_type": "code",
   "execution_count": 558,
   "outputs": [],
   "source": [
    "import pandas as pd\n",
    "from scipy import stats\n",
    "import seaborn as sb\n",
    "sb.set(style='whitegrid', palette=\"deep\", font_scale=1.1, rc={\"figure.figsize\": [11.7, 8.27]})"
   ],
   "metadata": {
    "collapsed": false,
    "pycharm": {
     "name": "#%%\n"
    }
   }
  },
  {
   "cell_type": "code",
   "execution_count": 559,
   "outputs": [
    {
     "data": {
      "text/plain": "     precio     mt2 ubicacion  estrato  alcobas  banos balcon parqueadero  \\\n0      79.0   43.16     norte        3        3      1     si          si   \n1     100.0   66.40     norte        3        2      2     no          no   \n2     135.0   89.80     norte        4        3      2     si          no   \n3     145.0   54.83     norte        3        2      2     si          si   \n4     160.0   93.00     norte        4        4      2     si          no   \n..      ...     ...       ...      ...      ...    ...    ...         ...   \n342   410.0  141.00  laureles        5        3      3     si          si   \n343   450.0  123.00  laureles        5        4      3     si          si   \n344   470.0  248.00  laureles        5        3      2     no          si   \n345   508.0  209.00  laureles        6        4      3     si          si   \n346   630.0  179.00  laureles        5        3      3     si          si   \n\n     administracion      avaluo terminado  \n0            0.0500   14.923002        no  \n1            0.0000   15.738427        no  \n2            0.0000   39.567000        si  \n3            0.1400   27.000000        si  \n4            0.0000   28.956220        si  \n..              ...         ...       ...  \n342          0.5300  190.000000        si  \n343          0.5170  190.000000        si  \n344          0.4809  345.376000        si  \n345          0.4500  258.850000        si  \n346          0.3400  324.114000        si  \n\n[347 rows x 11 columns]",
      "text/html": "<div>\n<style scoped>\n    .dataframe tbody tr th:only-of-type {\n        vertical-align: middle;\n    }\n\n    .dataframe tbody tr th {\n        vertical-align: top;\n    }\n\n    .dataframe thead th {\n        text-align: right;\n    }\n</style>\n<table border=\"1\" class=\"dataframe\">\n  <thead>\n    <tr style=\"text-align: right;\">\n      <th></th>\n      <th>precio</th>\n      <th>mt2</th>\n      <th>ubicacion</th>\n      <th>estrato</th>\n      <th>alcobas</th>\n      <th>banos</th>\n      <th>balcon</th>\n      <th>parqueadero</th>\n      <th>administracion</th>\n      <th>avaluo</th>\n      <th>terminado</th>\n    </tr>\n  </thead>\n  <tbody>\n    <tr>\n      <th>0</th>\n      <td>79.0</td>\n      <td>43.16</td>\n      <td>norte</td>\n      <td>3</td>\n      <td>3</td>\n      <td>1</td>\n      <td>si</td>\n      <td>si</td>\n      <td>0.0500</td>\n      <td>14.923002</td>\n      <td>no</td>\n    </tr>\n    <tr>\n      <th>1</th>\n      <td>100.0</td>\n      <td>66.40</td>\n      <td>norte</td>\n      <td>3</td>\n      <td>2</td>\n      <td>2</td>\n      <td>no</td>\n      <td>no</td>\n      <td>0.0000</td>\n      <td>15.738427</td>\n      <td>no</td>\n    </tr>\n    <tr>\n      <th>2</th>\n      <td>135.0</td>\n      <td>89.80</td>\n      <td>norte</td>\n      <td>4</td>\n      <td>3</td>\n      <td>2</td>\n      <td>si</td>\n      <td>no</td>\n      <td>0.0000</td>\n      <td>39.567000</td>\n      <td>si</td>\n    </tr>\n    <tr>\n      <th>3</th>\n      <td>145.0</td>\n      <td>54.83</td>\n      <td>norte</td>\n      <td>3</td>\n      <td>2</td>\n      <td>2</td>\n      <td>si</td>\n      <td>si</td>\n      <td>0.1400</td>\n      <td>27.000000</td>\n      <td>si</td>\n    </tr>\n    <tr>\n      <th>4</th>\n      <td>160.0</td>\n      <td>93.00</td>\n      <td>norte</td>\n      <td>4</td>\n      <td>4</td>\n      <td>2</td>\n      <td>si</td>\n      <td>no</td>\n      <td>0.0000</td>\n      <td>28.956220</td>\n      <td>si</td>\n    </tr>\n    <tr>\n      <th>...</th>\n      <td>...</td>\n      <td>...</td>\n      <td>...</td>\n      <td>...</td>\n      <td>...</td>\n      <td>...</td>\n      <td>...</td>\n      <td>...</td>\n      <td>...</td>\n      <td>...</td>\n      <td>...</td>\n    </tr>\n    <tr>\n      <th>342</th>\n      <td>410.0</td>\n      <td>141.00</td>\n      <td>laureles</td>\n      <td>5</td>\n      <td>3</td>\n      <td>3</td>\n      <td>si</td>\n      <td>si</td>\n      <td>0.5300</td>\n      <td>190.000000</td>\n      <td>si</td>\n    </tr>\n    <tr>\n      <th>343</th>\n      <td>450.0</td>\n      <td>123.00</td>\n      <td>laureles</td>\n      <td>5</td>\n      <td>4</td>\n      <td>3</td>\n      <td>si</td>\n      <td>si</td>\n      <td>0.5170</td>\n      <td>190.000000</td>\n      <td>si</td>\n    </tr>\n    <tr>\n      <th>344</th>\n      <td>470.0</td>\n      <td>248.00</td>\n      <td>laureles</td>\n      <td>5</td>\n      <td>3</td>\n      <td>2</td>\n      <td>no</td>\n      <td>si</td>\n      <td>0.4809</td>\n      <td>345.376000</td>\n      <td>si</td>\n    </tr>\n    <tr>\n      <th>345</th>\n      <td>508.0</td>\n      <td>209.00</td>\n      <td>laureles</td>\n      <td>6</td>\n      <td>4</td>\n      <td>3</td>\n      <td>si</td>\n      <td>si</td>\n      <td>0.4500</td>\n      <td>258.850000</td>\n      <td>si</td>\n    </tr>\n    <tr>\n      <th>346</th>\n      <td>630.0</td>\n      <td>179.00</td>\n      <td>laureles</td>\n      <td>5</td>\n      <td>3</td>\n      <td>3</td>\n      <td>si</td>\n      <td>si</td>\n      <td>0.3400</td>\n      <td>324.114000</td>\n      <td>si</td>\n    </tr>\n  </tbody>\n</table>\n<p>347 rows × 11 columns</p>\n</div>"
     },
     "execution_count": 559,
     "metadata": {},
     "output_type": "execute_result"
    }
   ],
   "source": [
    "df = pd.read_excel('./Grupo 01.xlsx')\n",
    "df"
   ],
   "metadata": {
    "collapsed": false,
    "pycharm": {
     "name": "#%%\n"
    }
   }
  },
  {
   "cell_type": "markdown",
   "source": [
    "## Center's Measurement"
   ],
   "metadata": {
    "collapsed": false
   }
  },
  {
   "cell_type": "code",
   "execution_count": 560,
   "outputs": [],
   "source": [
    "variables = ['precio','mt2','estrato','alcobas','banos','administracion','avaluo']\n",
    "\n",
    "var_media = [round(df[i].mean(),2) for i in variables]\n",
    "var_mediana = [round(df[i].median(),2) for i in variables]\n",
    "var_mode = [round(df[i].mode(),2) for i in variables]\n",
    "\n",
    "df_variables = pd.DataFrame(var_media)\n",
    "df_variables.columns = ['Media']\n",
    "df_variables['Mediana'] = var_mediana\n",
    "df_variables['Moda'] = var_mode"
   ],
   "metadata": {
    "collapsed": false,
    "pycharm": {
     "name": "#%%\n"
    }
   }
  },
  {
   "cell_type": "markdown",
   "source": [
    "### Charts"
   ],
   "metadata": {
    "collapsed": false
   }
  },
  {
   "cell_type": "code",
   "execution_count": 561,
   "outputs": [],
   "source": [
    "# sb.histplot(data=df,x='precio',hue='parqueadero').set_title(\"Rangos de precios\")\n",
    "# sb.histplot(data=df,x='mt2').set_title(\"Metros cuadrados\")\n",
    "# sb.catplot(data=df,x='estrato',y='alcobas',kind='bar',ci=None).set(title=\"Numero de alcobas por estrato\")\n",
    "# sb.catplot(data=df,x='alcobas',y='precio',kind='bar',ci=None).set(title=\"Precios segun el numero de alcobas\")\n",
    "# sb.barplot(x='banos',y='estrato',data=df,ci=None).set_title(\"Número de baños  según el estrato socioeconómico \")\n",
    "# sb.histplot(data=df,x='administracion').set_title(\"Rango de precios por servicio de administración \")\n",
    "# sb.scatterplot(x='avaluo',y='mt2',data=df,hue='estrato').set_title(\"Precio del avalúo del apartamento según sus metros cuadrados y estrato .\")"
   ],
   "metadata": {
    "collapsed": false,
    "pycharm": {
     "name": "#%%\n"
    }
   }
  },
  {
   "cell_type": "markdown",
   "source": [
    "## Scattering's Measurement"
   ],
   "metadata": {
    "collapsed": false
   }
  },
  {
   "cell_type": "code",
   "execution_count": 573,
   "outputs": [
    {
     "data": {
      "text/plain": "[10.04, 6.98, 1.67, 4.55, 3.83, 13.48, 15.96]"
     },
     "execution_count": 573,
     "metadata": {},
     "output_type": "execute_result"
    }
   ],
   "source": [
    "var_std = [round(df[i].std(),2) for i in variables]\n",
    "# var_std\n",
    "var_min = [df[i].min() for i in variables]\n",
    "# var_min\n",
    "var_max = [df[i].max() for i in variables]\n",
    "# var_max\n",
    "var_q1 = [round(df[i].quantile(q=0.25),2) for i in variables]\n",
    "# var_q1\n",
    "var_q3 = [round(df[i].quantile(q=0.75),2) for i in variables]\n",
    "# var_q3\n",
    "var_var = [round(df[i].var(),2) for i in variables]\n",
    "# var_var\n",
    "var_asi = [round(df[i].skew(),2) for i in variables]\n",
    "# var_asi\n",
    "var_kur = [round(stats.kurtosis(df[i], fisher=False),2) for i in variables]\n",
    "#var_kur\n",
    "var_range = [df[i].max() - df[i].min() for i in variables]\n",
    "# var_range"
   ],
   "metadata": {
    "collapsed": false,
    "pycharm": {
     "name": "#%%\n"
    }
   }
  },
  {
   "cell_type": "markdown",
   "source": [
    "### Cualitative variable types"
   ],
   "metadata": {
    "collapsed": false,
    "pycharm": {
     "name": "#%% md\n"
    }
   }
  },
  {
   "cell_type": "code",
   "execution_count": 563,
   "outputs": [],
   "source": [
    "def get_acum (dataframe,option):\n",
    "    \"\"\"Funcion que llena un arreglo <storaged> con los valores acumulados\n",
    "       de la suma de cada elemento dentro del <dataframe>\n",
    "    \"\"\"\n",
    "    acum = 0\n",
    "    storaged = []\n",
    "\n",
    "    if option == 1: #opcion para obtener la frecuncia absoluta\n",
    "       values = dataframe['Frecuencia_absoluta'].values\n",
    "\n",
    "       for i in values:\n",
    "            acum = acum + i\n",
    "            storaged.append(acum)\n",
    "\n",
    "       dataframe['Frec_absoluta_acumulada'] = storaged\n",
    "\n",
    "    elif option == 2: #opcion para obtener la frecuencia relativa\n",
    "        values = dataframe['Frecuencia_relativa'].values\n",
    "\n",
    "        for i in values:\n",
    "            acum = acum + i\n",
    "            storaged.append(acum)\n",
    "\n",
    "        dataframe['Frec_relativa_acumulada'] = storaged\n",
    "\n",
    "def get_frec_ab (values):\n",
    "    \"\"\"Funcion que retorna un dataframe.\n",
    "       Se obtiene la frec_ab y se conviente en dataframe.\n",
    "    \"\"\"\n",
    "    frec_ab = values.value_counts()\n",
    "    frec_df = pd.DataFrame(frec_ab)\n",
    "    frec_df.columns = ['Frecuencia_absoluta']\n",
    "    return frec_df\n",
    "\n",
    "def get_frec_rel (dataframe,source):\n",
    "    \"\"\"Funcion que actualiza el parametro <datagrame> anadiendo la columna\n",
    "       de frec_relativas.\n",
    "    \"\"\"\n",
    "    dataframe['Frecuencia_relativa'] = round(dataframe['Frecuencia_absoluta'] * 100 / len(source),3)\n"
   ],
   "metadata": {
    "collapsed": false,
    "pycharm": {
     "name": "#%%\n"
    }
   }
  },
  {
   "cell_type": "code",
   "execution_count": 564,
   "outputs": [],
   "source": [
    "var_ubicacion = df['ubicacion']\n",
    "\n",
    "'''Frecuencia absoluta'''\n",
    "\n",
    "frec_ubicacion = get_frec_ab(var_ubicacion)\n",
    "\n",
    "'''Frecuencia relativa'''\n",
    "\n",
    "get_frec_rel(frec_ubicacion,var_ubicacion)\n",
    "\n",
    "'''Frecuencia absoluta acumulada'''\n",
    "get_acum(frec_ubicacion,1)\n",
    "\n",
    "'''Frecuencia relativa acumulada'''\n",
    "\n",
    "get_acum(frec_ubicacion,2)"
   ],
   "metadata": {
    "collapsed": false,
    "pycharm": {
     "name": "#%%\n"
    }
   }
  },
  {
   "cell_type": "code",
   "execution_count": 565,
   "outputs": [],
   "source": [
    "# var_columna = df['nombre de la columna/variable de mi interes']\n",
    "#variables_categoricas_disponibles = ['ubicacion','balcon','parqueadero','terminado']"
   ],
   "metadata": {
    "collapsed": false,
    "pycharm": {
     "name": "#%%\n"
    }
   }
  },
  {
   "cell_type": "markdown",
   "source": [
    "### Charts"
   ],
   "metadata": {
    "collapsed": false
   }
  },
  {
   "cell_type": "code",
   "execution_count": 566,
   "outputs": [
    {
     "data": {
      "text/plain": "Text(0.5, 1.0, 'Ubicaciones con más apartamentos terminados')"
     },
     "execution_count": 566,
     "metadata": {},
     "output_type": "execute_result"
    },
    {
     "data": {
      "text/plain": "<Figure size 842.4x595.44 with 1 Axes>",
      "image/png": "[encoded data removed]"
     },
     "metadata": {},
     "output_type": "display_data"
    }
   ],
   "source": [
    "# sb.barplot(x='precio',y='ubicacion',data=df,ci=None).set_title(\"Precios de los departamentos según su ubicación \")\n",
    "# sb.barplot(x='balcon',y='precio',data=df,ci=None).set_title(\"Precios de apartamento según si tienen balcón o no.\")\n",
    "# sb.barplot(x='parqueadero',y='precio',data=df,ci=None).set_title(\"Precios de apartamento según si tiene lugar de parqueo\")\n",
    "sb.barplot(x='ubicacion',y='mt2',hue='terminado',data=df,ci=None).set_title(\"Ubicaciones con más apartamentos terminados\")"
   ],
   "metadata": {
    "collapsed": false,
    "pycharm": {
     "name": "#%%\n"
    }
   }
  },
  {
   "cell_type": "markdown",
   "source": [
    "## Price regarding of parqueadero"
   ],
   "metadata": {
    "collapsed": false,
    "pycharm": {
     "name": "#%% md\n"
    }
   }
  },
  {
   "cell_type": "code",
   "execution_count": 567,
   "outputs": [],
   "source": [
    "var_precio = df['precio']\n",
    "pp = pd.DataFrame()\n",
    "pp['media_$'] = var_precio\n",
    "pp['parqueadero'] = df['parqueadero']\n",
    "df_pp = pp.groupby(['parqueadero']).mean()\n",
    "pp_parqueadero = df_pp.index.values\n",
    "pp_media = df_pp.values\n",
    "pp_mediana = pp.groupby(['parqueadero']).median()\n",
    "pp_mediana = pp_mediana['media_$'].values\n",
    "df_pp['mediana_$'] = pp_mediana\n",
    "pp_moda = pp.groupby(['parqueadero']).agg(pd.Series.mode) #debido a la naturaleza multimodal es necesario usar el metodo <agg>\n",
    "pp_moda = pp_moda.values\n",
    "df_pp['moda_$'] = pp_moda"
   ],
   "metadata": {
    "collapsed": false,
    "pycharm": {
     "name": "#%%\n"
    }
   }
  },
  {
   "cell_type": "code",
   "execution_count": 568,
   "outputs": [
    {
     "data": {
      "text/plain": "Text(0.5, 1.0, 'Medidas de tendencia central del precio segun disponibilidad de parqueadero')"
     },
     "execution_count": 568,
     "metadata": {},
     "output_type": "execute_result"
    },
    {
     "data": {
      "text/plain": "<Figure size 842.4x595.44 with 1 Axes>",
      "image/png": "[encoded data removed]"
     },
     "metadata": {},
     "output_type": "display_data"
    }
   ],
   "source": [
    "sb.boxplot(data=df_pp,orient='h').set_title(\"Medidas de tendencia central del precio segun disponibilidad de parqueadero\")"
   ],
   "metadata": {
    "collapsed": false,
    "pycharm": {
     "name": "#%%\n"
    }
   }
  },
  {
   "cell_type": "code",
   "execution_count": 569,
   "outputs": [],
   "source": [
    "# yes_median = round(df[(df['parqueadero'] == 'si')]['precio'].median(),2)\n",
    "# yes_mean = round(df[(df['parqueadero'] == 'si')]['precio'].mean(),2)\n",
    "# yes_mode = round(df[(df['parqueadero'] == 'si')]['precio'].mode(),2)\n",
    "# no_median = round(df[(df['parqueadero'] == 'no')]['precio'].median(),2)\n",
    "# no_mean = round(df[(df['parqueadero'] == 'no')]['precio'].mean(),2)\n",
    "# no_mode = round(df[(df['parqueadero'] == 'no')]['precio'].mode(),2)\n",
    "#\n",
    "# df_yn = pd.DataFrame()\n",
    "# df_yn['si'] = [yes_mean,yes_median,yes_mode]\n",
    "# df_yn['no'] = [no_mean,no_median,no_mode]\n",
    "# df_yn\n"
   ],
   "metadata": {
    "collapsed": false,
    "pycharm": {
     "name": "#%%\n"
    }
   }
  },
  {
   "cell_type": "markdown",
   "source": [
    "## Mt2 regarding of terminado"
   ],
   "metadata": {
    "collapsed": false
   }
  },
  {
   "cell_type": "code",
   "execution_count": 570,
   "outputs": [],
   "source": [
    "var_mt2 = df['mt2']\n",
    "mt = pd.DataFrame()\n",
    "mt['media_$'] = var_mt2\n",
    "mt['terminado'] = df['terminado']\n",
    "df_mt = mt.groupby(['terminado']).mean()\n",
    "mt_mediana = mt.groupby(['terminado']).median()\n",
    "mt_mediana = mt_mediana['media_$'].values\n",
    "df_mt['mediana_$'] = mt_mediana\n",
    "mt_moda = mt.groupby(['terminado']).agg(pd.Series.mode)\n",
    "df_mt['moda_$'] = mt_moda\n",
    "mt_terminado = df_mt.index.values\n",
    "df_mt['terminado'] = mt_terminado"
   ],
   "metadata": {
    "collapsed": false,
    "pycharm": {
     "name": "#%%\n"
    }
   }
  },
  {
   "cell_type": "code",
   "execution_count": 571,
   "outputs": [
    {
     "data": {
      "text/plain": "Text(0.5, 1.0, 'Medidas de tendecia central de los mt2 segun estado de construccion')"
     },
     "execution_count": 571,
     "metadata": {},
     "output_type": "execute_result"
    },
    {
     "data": {
      "text/plain": "<Figure size 842.4x595.44 with 1 Axes>",
      "image/png": "[encoded data removed]"
     },
     "metadata": {},
     "output_type": "display_data"
    }
   ],
   "source": [
    "sb.boxplot(data=df_mt, orient='h').set_title(\"Medidas de tendecia central de los mt2 segun estado de construccion\")"
   ],
   "metadata": {
    "collapsed": false,
    "pycharm": {
     "name": "#%%\n"
    }
   }
  },
  {
   "cell_type": "code",
   "execution_count": 572,
   "outputs": [],
   "source": [
    "# sb.boxplot(x='parqueadero',y='precio',data=df)\n",
    "# plt.axhline(yes_mean, color =\"r\", linestyle = '--', linewidth = 5)\n",
    "# plt.axhline(yes_median, color =\"g\", linestyle = '--', linewidth = 5)\n",
    "# plt.axhline(yes_mode.values, color =\"y\", linestyle = 'dashdot', linewidth = 5)"
   ],
   "metadata": {
    "collapsed": false,
    "pycharm": {
     "name": "#%%\n"
    }
   }
  }
 ],
 "metadata": {
  "kernelspec": {
   "display_name": "Python 3",
   "language": "python",
   "name": "python3"
  },
  "language_info": {
   "codemirror_mode": {
    "name": "ipython",
    "version": 2
   },
   "file_extension": ".py",
   "mimetype": "text/x-python",
   "name": "python",
   "nbconvert_exporter": "python",
   "pygments_lexer": "ipython2",
   "version": "2.7.6"
  }
 },
 "nbformat": 4,
 "nbformat_minor": 0
}