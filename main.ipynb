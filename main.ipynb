{
 "cells": [
  {
   "cell_type": "code",
   "execution_count": 397,
   "outputs": [],
   "source": [
    "import pandas as pd\n",
    "from scipy.stats import kurtosis\n",
    "import matplotlib.pyplot as plt\n",
    "import seaborn as sb\n",
    "sb.set(rc={'figure.figsize':(11.7,8.27)})\n",
    "sb.set_theme(style=\"white\")\n"
   ],
   "metadata": {
    "collapsed": false,
    "pycharm": {
     "name": "#%%\n"
    }
   }
  },
  {
   "cell_type": "code",
   "execution_count": 398,
   "outputs": [],
   "source": [
    "df = pd.read_excel('./Grupo 01.xlsx')"
   ],
   "metadata": {
    "collapsed": false,
    "pycharm": {
     "name": "#%%\n"
    }
   }
  },
  {
   "cell_type": "markdown",
   "source": [
    "## Center's Measurement"
   ],
   "metadata": {
    "collapsed": false
   }
  },
  {
   "cell_type": "code",
   "execution_count": 399,
   "outputs": [],
   "source": [
    "variables = ['precio','mt2','estrato','alcobas','banos','administracion','avaluo']\n",
    "\n",
    "var_media = [round(df[i].mean(),2) for i in variables]\n",
    "var_mediana = [round(df[i].median(),2) for i in variables]\n",
    "var_mode = [round(df[i].mode(),2) for i in variables]\n",
    "\n",
    "df_variables = pd.DataFrame(var_media)\n",
    "df_variables.columns = ['Media']\n",
    "df_variables['Mediana'] = var_mediana\n",
    "df_variables['Moda'] = var_mode"
   ],
   "metadata": {
    "collapsed": false,
    "pycharm": {
     "name": "#%%\n"
    }
   }
  },
  {
   "cell_type": "markdown",
   "source": [
    "## Scattering's Measurement"
   ],
   "metadata": {
    "collapsed": false
   }
  },
  {
   "cell_type": "code",
   "execution_count": 400,
   "outputs": [],
   "source": [
    "var_std = [round(df[i].std(),2) for i in variables]\n",
    "# var_std\n",
    "var_min = [df[i].min() for i in variables]\n",
    "# var_min\n",
    "var_max = [df[i].max() for i in variables]\n",
    "# var_max\n",
    "var_q1 = [round(df[i].quantile(q=0.25),2) for i in variables]\n",
    "# var_q1\n",
    "var_q3 = [round(df[i].quantile(q=0.75),2) for i in variables]\n",
    "# var_q3\n",
    "var_var = [round(df[i].var(),2) for i in variables]\n",
    "# var_var\n",
    "var_asi = [round(df[i].skew(),2) for i in variables]\n",
    "# var_asi\n",
    "var_kur = [round(kurtosis(df[i], fisher=False),2) for i in variables]\n",
    "# var_kur\n",
    "var_range = [df[i].max() - df[i].min() for i in variables]\n",
    "# var_range"
   ],
   "metadata": {
    "collapsed": false,
    "pycharm": {
     "name": "#%%\n"
    }
   }
  },
  {
   "cell_type": "markdown",
   "source": [
    "### Cualitative variable types"
   ],
   "metadata": {
    "collapsed": false,
    "pycharm": {
     "name": "#%% md\n"
    }
   }
  },
  {
   "cell_type": "code",
   "execution_count": 401,
   "outputs": [],
   "source": [
    "def get_acum (dataframe,option):\n",
    "    \"\"\"Funcion que llena un arreglo <storaged> con los valores acumulados\n",
    "       de la suma de cada elemento dentro del <dataframe>\n",
    "    \"\"\"\n",
    "    acum = 0\n",
    "    storaged = []\n",
    "\n",
    "    if option == 1: #opcion para obtener la frecuncia absoluta\n",
    "       values = dataframe['Frecuencia_absoluta'].values\n",
    "\n",
    "       for i in values:\n",
    "            acum = acum + i\n",
    "            storaged.append(acum)\n",
    "\n",
    "       dataframe['Frec_absoluta_acumulada'] = storaged\n",
    "\n",
    "    elif option == 2: #opcion para obtener la frecuencia relativa\n",
    "        values = dataframe['Frecuencia_relativa'].values\n",
    "\n",
    "        for i in values:\n",
    "            acum = acum + i\n",
    "            storaged.append(acum)\n",
    "\n",
    "        dataframe['Frec_relativa_acumulada'] = storaged\n",
    "\n",
    "def get_frec_ab (values):\n",
    "    \"\"\"Funcion que retorna un dataframe.\n",
    "       Se obtiene la frec_ab y se conviente en dataframe.\n",
    "    \"\"\"\n",
    "    frec_ab = values.value_counts()\n",
    "    frec_df = pd.DataFrame(frec_ab)\n",
    "    frec_df.columns = ['Frecuencia_absoluta']\n",
    "    return frec_df\n",
    "\n",
    "def get_frec_rel (dataframe,source):\n",
    "    \"\"\"Funcion que actualiza el parametro <datagrame> anadiendo la columna\n",
    "       de frec_relativas.\n",
    "    \"\"\"\n",
    "    dataframe['Frecuencia_relativa'] = round(dataframe['Frecuencia_absoluta'] * 100 / len(source),3)\n"
   ],
   "metadata": {
    "collapsed": false,
    "pycharm": {
     "name": "#%%\n"
    }
   }
  },
  {
   "cell_type": "code",
   "execution_count": 402,
   "outputs": [],
   "source": [
    "var_ubicacion = df['ubicacion']\n",
    "\n",
    "'''Frecuencia absoluta'''\n",
    "\n",
    "frec_ubicacion = get_frec_ab(var_ubicacion)\n",
    "\n",
    "'''Frecuencia relativa'''\n",
    "\n",
    "get_frec_rel(frec_ubicacion,var_ubicacion)\n",
    "\n",
    "'''Frecuencia absoluta acumulada'''\n",
    "get_acum(frec_ubicacion,1)\n",
    "\n",
    "'''Frecuencia relativa acumulada'''\n",
    "\n",
    "get_acum(frec_ubicacion,2)"
   ],
   "metadata": {
    "collapsed": false,
    "pycharm": {
     "name": "#%%\n"
    }
   }
  },
  {
   "cell_type": "code",
   "execution_count": 403,
   "outputs": [],
   "source": [
    "# var_columna = df['nombre de la columna/variable de mi interes']\n",
    "#variables_categoricas_disponibles = ['ubicacion','balcon','parqueadero','terminado']"
   ],
   "metadata": {
    "collapsed": false,
    "pycharm": {
     "name": "#%%\n"
    }
   }
  },
  {
   "cell_type": "markdown",
   "source": [
    "## Price regarding of parqueadero"
   ],
   "metadata": {
    "collapsed": false,
    "pycharm": {
     "name": "#%% md\n"
    }
   }
  },
  {
   "cell_type": "code",
   "execution_count": 404,
   "outputs": [],
   "source": [
    "var_precio = df['precio']\n",
    "pp = pd.DataFrame()\n",
    "pp['media_$'] = var_precio\n",
    "pp['parqueadero'] = df['parqueadero']\n",
    "df_pp = pp.groupby(['parqueadero']).mean()\n",
    "pp_parqueadero = df_pp.index.values\n",
    "pp_media = df_pp.values\n",
    "pp_mediana = pp.groupby(['parqueadero']).median()\n",
    "pp_mediana = pp_mediana['media_$'].values\n",
    "df_pp['mediana_$'] = pp_mediana\n",
    "pp_moda = pp.groupby(['parqueadero']).agg(pd.Series.mode) #debido a la naturaleza multimodal es necesario usar el metodo <agg>\n",
    "pp_moda = pp_moda.values\n",
    "df_pp['moda_$'] = pp_moda"
   ],
   "metadata": {
    "collapsed": false,
    "pycharm": {
     "name": "#%%\n"
    }
   }
  },
  {
   "cell_type": "code",
   "execution_count": 405,
   "outputs": [
    {
     "data": {
      "text/plain": "Text(0.5, 1.0, 'Medidas de tendencia central del precio segun disponibilidad de parqueadero')"
     },
     "execution_count": 405,
     "metadata": {},
     "output_type": "execute_result"
    },
    {
     "data": {
      "text/plain": "<Figure size 842.4x595.44 with 1 Axes>",
      "image/png": "[encoded data removed]"
     },
     "metadata": {},
     "output_type": "display_data"
    }
   ],
   "source": [
    "sb.boxplot(data=df_pp,orient='h').set_title(\"Medidas de tendencia central del precio segun disponibilidad de parqueadero\")"
   ],
   "metadata": {
    "collapsed": false,
    "pycharm": {
     "name": "#%%\n"
    }
   }
  },
  {
   "cell_type": "code",
   "execution_count": 406,
   "outputs": [],
   "source": [
    "# yes_median = round(df[(df['parqueadero'] == 'si')]['precio'].median(),2)\n",
    "# yes_mean = round(df[(df['parqueadero'] == 'si')]['precio'].mean(),2)\n",
    "# yes_mode = round(df[(df['parqueadero'] == 'si')]['precio'].mode(),2)\n",
    "# no_median = round(df[(df['parqueadero'] == 'no')]['precio'].median(),2)\n",
    "# no_mean = round(df[(df['parqueadero'] == 'no')]['precio'].mean(),2)\n",
    "# no_mode = round(df[(df['parqueadero'] == 'no')]['precio'].mode(),2)\n",
    "#\n",
    "# df_yn = pd.DataFrame()\n",
    "# df_yn['si'] = [yes_mean,yes_median,yes_mode]\n",
    "# df_yn['no'] = [no_mean,no_median,no_mode]\n",
    "# df_yn\n"
   ],
   "metadata": {
    "collapsed": false,
    "pycharm": {
     "name": "#%%\n"
    }
   }
  },
  {
   "cell_type": "markdown",
   "source": [
    "## Mt2 regarding of terminado"
   ],
   "metadata": {
    "collapsed": false
   }
  },
  {
   "cell_type": "code",
   "execution_count": 407,
   "outputs": [],
   "source": [
    "var_mt2 = df['mt2']\n",
    "mt = pd.DataFrame()\n",
    "mt['media_$'] = var_mt2\n",
    "mt['terminado'] = df['terminado']\n",
    "df_mt = mt.groupby(['terminado']).mean()\n",
    "mt_mediana = mt.groupby(['terminado']).median()\n",
    "mt_mediana = mt_mediana['media_$'].values\n",
    "df_mt['mediana_$'] = mt_mediana\n",
    "mt_moda = mt.groupby(['terminado']).agg(pd.Series.mode)\n",
    "df_mt['moda_$'] = mt_moda\n",
    "mt_terminado = df_mt.index.values\n",
    "df_mt['terminado'] = mt_terminado"
   ],
   "metadata": {
    "collapsed": false,
    "pycharm": {
     "name": "#%%\n"
    }
   }
  },
  {
   "cell_type": "code",
   "execution_count": 408,
   "outputs": [
    {
     "data": {
      "text/plain": "Text(0.5, 1.0, 'Medidas de tendecia central de los mt2 segun estado de construccion')"
     },
     "execution_count": 408,
     "metadata": {},
     "output_type": "execute_result"
    },
    {
     "data": {
      "text/plain": "<Figure size 842.4x595.44 with 1 Axes>",
      "image/png": "[encoded data removed]"
     },
     "metadata": {},
     "output_type": "display_data"
    }
   ],
   "source": [
    "sb.boxplot(data=df_mt, orient='h').set_title(\"Medidas de tendecia central de los mt2 segun estado de construccion\")"
   ],
   "metadata": {
    "collapsed": false,
    "pycharm": {
     "name": "#%%\n"
    }
   }
  },
  {
   "cell_type": "code",
   "execution_count": 409,
   "outputs": [],
   "source": [
    "# sb.boxplot(x='parqueadero',y='precio',data=df)\n",
    "# plt.axhline(yes_mean, color =\"r\", linestyle = '--', linewidth = 5)\n",
    "# plt.axhline(yes_median, color =\"g\", linestyle = '--', linewidth = 5)\n",
    "# plt.axhline(yes_mode.values, color =\"y\", linestyle = 'dashdot', linewidth = 5)"
   ],
   "metadata": {
    "collapsed": false,
    "pycharm": {
     "name": "#%%\n"
    }
   }
  }
 ],
 "metadata": {
  "kernelspec": {
   "display_name": "Python 3",
   "language": "python",
   "name": "python3"
  },
  "language_info": {
   "codemirror_mode": {
    "name": "ipython",
    "version": 2
   },
   "file_extension": ".py",
   "mimetype": "text/x-python",
   "name": "python",
   "nbconvert_exporter": "python",
   "pygments_lexer": "ipython2",
   "version": "2.7.6"
  }
 },
 "nbformat": 4,
 "nbformat_minor": 0
}