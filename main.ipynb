{
 "cells": [
  {
   "cell_type": "code",
   "execution_count": 1,
   "outputs": [],
   "source": [
    "import pandas as pd\n",
    "from scipy.stats import kurtosis\n",
    "import matplotlib.pyplot\n",
    "import numpy as np\n",
    "import seaborn as sb"
   ],
   "metadata": {
    "collapsed": false,
    "pycharm": {
     "name": "#%%\n"
    }
   }
  },
  {
   "cell_type": "code",
   "execution_count": 2,
   "outputs": [
    {
     "data": {
      "text/plain": "     precio     mt2 ubicacion  estrato  alcobas  banos balcon parqueadero  \\\n0      79.0   43.16     norte        3        3      1     si          si   \n1     100.0   66.40     norte        3        2      2     no          no   \n2     135.0   89.80     norte        4        3      2     si          no   \n3     145.0   54.83     norte        3        2      2     si          si   \n4     160.0   93.00     norte        4        4      2     si          no   \n..      ...     ...       ...      ...      ...    ...    ...         ...   \n342   410.0  141.00  laureles        5        3      3     si          si   \n343   450.0  123.00  laureles        5        4      3     si          si   \n344   470.0  248.00  laureles        5        3      2     no          si   \n345   508.0  209.00  laureles        6        4      3     si          si   \n346   630.0  179.00  laureles        5        3      3     si          si   \n\n     administracion      avaluo terminado  \n0            0.0500   14.923002        no  \n1            0.0000   15.738427        no  \n2            0.0000   39.567000        si  \n3            0.1400   27.000000        si  \n4            0.0000   28.956220        si  \n..              ...         ...       ...  \n342          0.5300  190.000000        si  \n343          0.5170  190.000000        si  \n344          0.4809  345.376000        si  \n345          0.4500  258.850000        si  \n346          0.3400  324.114000        si  \n\n[347 rows x 11 columns]",
      "text/html": "<div>\n<style scoped>\n    .dataframe tbody tr th:only-of-type {\n        vertical-align: middle;\n    }\n\n    .dataframe tbody tr th {\n        vertical-align: top;\n    }\n\n    .dataframe thead th {\n        text-align: right;\n    }\n</style>\n<table border=\"1\" class=\"dataframe\">\n  <thead>\n    <tr style=\"text-align: right;\">\n      <th></th>\n      <th>precio</th>\n      <th>mt2</th>\n      <th>ubicacion</th>\n      <th>estrato</th>\n      <th>alcobas</th>\n      <th>banos</th>\n      <th>balcon</th>\n      <th>parqueadero</th>\n      <th>administracion</th>\n      <th>avaluo</th>\n      <th>terminado</th>\n    </tr>\n  </thead>\n  <tbody>\n    <tr>\n      <th>0</th>\n      <td>79.0</td>\n      <td>43.16</td>\n      <td>norte</td>\n      <td>3</td>\n      <td>3</td>\n      <td>1</td>\n      <td>si</td>\n      <td>si</td>\n      <td>0.0500</td>\n      <td>14.923002</td>\n      <td>no</td>\n    </tr>\n    <tr>\n      <th>1</th>\n      <td>100.0</td>\n      <td>66.40</td>\n      <td>norte</td>\n      <td>3</td>\n      <td>2</td>\n      <td>2</td>\n      <td>no</td>\n      <td>no</td>\n      <td>0.0000</td>\n      <td>15.738427</td>\n      <td>no</td>\n    </tr>\n    <tr>\n      <th>2</th>\n      <td>135.0</td>\n      <td>89.80</td>\n      <td>norte</td>\n      <td>4</td>\n      <td>3</td>\n      <td>2</td>\n      <td>si</td>\n      <td>no</td>\n      <td>0.0000</td>\n      <td>39.567000</td>\n      <td>si</td>\n    </tr>\n    <tr>\n      <th>3</th>\n      <td>145.0</td>\n      <td>54.83</td>\n      <td>norte</td>\n      <td>3</td>\n      <td>2</td>\n      <td>2</td>\n      <td>si</td>\n      <td>si</td>\n      <td>0.1400</td>\n      <td>27.000000</td>\n      <td>si</td>\n    </tr>\n    <tr>\n      <th>4</th>\n      <td>160.0</td>\n      <td>93.00</td>\n      <td>norte</td>\n      <td>4</td>\n      <td>4</td>\n      <td>2</td>\n      <td>si</td>\n      <td>no</td>\n      <td>0.0000</td>\n      <td>28.956220</td>\n      <td>si</td>\n    </tr>\n    <tr>\n      <th>...</th>\n      <td>...</td>\n      <td>...</td>\n      <td>...</td>\n      <td>...</td>\n      <td>...</td>\n      <td>...</td>\n      <td>...</td>\n      <td>...</td>\n      <td>...</td>\n      <td>...</td>\n      <td>...</td>\n    </tr>\n    <tr>\n      <th>342</th>\n      <td>410.0</td>\n      <td>141.00</td>\n      <td>laureles</td>\n      <td>5</td>\n      <td>3</td>\n      <td>3</td>\n      <td>si</td>\n      <td>si</td>\n      <td>0.5300</td>\n      <td>190.000000</td>\n      <td>si</td>\n    </tr>\n    <tr>\n      <th>343</th>\n      <td>450.0</td>\n      <td>123.00</td>\n      <td>laureles</td>\n      <td>5</td>\n      <td>4</td>\n      <td>3</td>\n      <td>si</td>\n      <td>si</td>\n      <td>0.5170</td>\n      <td>190.000000</td>\n      <td>si</td>\n    </tr>\n    <tr>\n      <th>344</th>\n      <td>470.0</td>\n      <td>248.00</td>\n      <td>laureles</td>\n      <td>5</td>\n      <td>3</td>\n      <td>2</td>\n      <td>no</td>\n      <td>si</td>\n      <td>0.4809</td>\n      <td>345.376000</td>\n      <td>si</td>\n    </tr>\n    <tr>\n      <th>345</th>\n      <td>508.0</td>\n      <td>209.00</td>\n      <td>laureles</td>\n      <td>6</td>\n      <td>4</td>\n      <td>3</td>\n      <td>si</td>\n      <td>si</td>\n      <td>0.4500</td>\n      <td>258.850000</td>\n      <td>si</td>\n    </tr>\n    <tr>\n      <th>346</th>\n      <td>630.0</td>\n      <td>179.00</td>\n      <td>laureles</td>\n      <td>5</td>\n      <td>3</td>\n      <td>3</td>\n      <td>si</td>\n      <td>si</td>\n      <td>0.3400</td>\n      <td>324.114000</td>\n      <td>si</td>\n    </tr>\n  </tbody>\n</table>\n<p>347 rows × 11 columns</p>\n</div>"
     },
     "execution_count": 2,
     "metadata": {},
     "output_type": "execute_result"
    }
   ],
   "source": [
    "df = pd.read_excel('./Grupo 01.xlsx')\n",
    "#TODO: medidas de tendencia central\n",
    "#TODO: medidas de variacion\n",
    "#TODO: cuantitativas cosntruir un grafico\n",
    "#TODO: tabla de frecuencia para las cualitativas\n",
    "#TODO: grafico para cualitativas\n",
    "#TODO: medidas de tendencia central para precio segun el parqueadero\n",
    "#TODO: medias de tendencia central para mt2 segun si esta terminaod o no\n",
    "#TODO: box-plot para las ultimas dos tareas\n",
    "df"
   ],
   "metadata": {
    "collapsed": false,
    "pycharm": {
     "name": "#%%\n"
    }
   }
  },
  {
   "cell_type": "code",
   "execution_count": 3,
   "outputs": [
    {
     "data": {
      "text/plain": "count     347.000000\nmean      317.038447\nstd       247.869099\nmin        25.000000\n25%       160.000000\n50%       245.000000\n75%       380.000000\nmax      1700.000000\nName: precio, dtype: float64"
     },
     "execution_count": 3,
     "metadata": {},
     "output_type": "execute_result"
    }
   ],
   "source": [
    "var_precio = df['precio']\n",
    "\n",
    "'''Medidas de tendencia central'''\n",
    "precio_mean = var_precio.mean() #317.03\n",
    "precio_median = var_precio.median() #245\n",
    "precio_mode = var_precio.mode() #220\n",
    "\n",
    "'''Medidas de dispersion'''\n",
    "precio_std = var_precio.std(ddof = 0) #247.51, valor poblacional no muestral\n",
    "precio_varianza = var_precio.var(ddof = 0) #61262.03, valor poblacional no muestral\n",
    "precio_asimetria = var_precio.skew() #2.39\n",
    "precio_curtosis = kurtosis(var_precio, fisher= False) #10.04\n",
    "precio_range = (var_precio.max() - var_precio.min()) #1675\n",
    "var_precio.describe()  # min = 25 ; max = 1700 ; 25% = 160 ; 50% = 245 ; 75% = 380 ; count=347"
   ],
   "metadata": {
    "collapsed": false,
    "pycharm": {
     "name": "#%%var_precio = df['precio']\n"
    }
   }
  },
  {
   "cell_type": "code",
   "execution_count": 15,
   "outputs": [
    {
     "data": {
      "text/plain": "0    60.0\nName: mt2, dtype: float64"
     },
     "execution_count": 15,
     "metadata": {},
     "output_type": "execute_result"
    }
   ],
   "source": [
    "var_mt2 = df['mt2']\n",
    "\n",
    "'''Medidas de tendencia central'''\n",
    "mt2_mean = var_mt2.mean() #120.01\n",
    "mt2_median = var_mt2.median() #96\n",
    "mt2_mode = var_mt2.mode() #60\n",
    "\n",
    "'''Medidas de dispersion'''\n",
    "mt2_std = var_mt2.std(ddof = 0) #73.89, valor poblacional no muestral\n",
    "mt2_varianza = var_mt2.var(ddof = 0) #5459.73 ,valor poblacional no muestral\n",
    "mt2_simetria = var_mt2.skew() #1.88\n",
    "mt2_curtosis = kurtosis(var_mt2, fisher= False) #6.97\n",
    "mt2_rango = (var_mt2.max() - var_mt2.min()) #474\n",
    "var_mt2.describe()  # min = 26 ; max = 500 ; 25% = 72 ; 50% = 96 ; 75% = 140 ; count = 347;"
   ],
   "metadata": {
    "collapsed": false,
    "pycharm": {
     "name": "#%%\n"
    }
   }
  },
  {
   "cell_type": "code",
   "execution_count": 25,
   "outputs": [
    {
     "data": {
      "text/plain": "0    6\nName: estrato, dtype: int64"
     },
     "execution_count": 25,
     "metadata": {},
     "output_type": "execute_result"
    }
   ],
   "source": [
    "var_estrato = df['estrato']\n",
    "\n",
    "'''Medidas de tendencia central'''\n",
    "estrato_mean = var_estrato.mean() #4.64\n",
    "estrato_median = var_estrato.median() #5\n",
    "estrato_mode = var_estrato.mode() #6\n",
    "\n",
    "'''Medidas de dispersion'''\n",
    "estrato_std = var_estrato.std(ddof = 0) #1.19, valor poblacional no muestral. Muestral : ddof = 1\n",
    "estrato_varianza = var_estrato.var(ddof = 0) #1.421 ,valor poblacional no muestral. Muestral : ddof = 1\n",
    "estrato_asimetria = var_estrato.skew() #-0.247\n",
    "estrato_curtosis = kurtosis(var_estrato, fisher= False) #1.674\n",
    "estrato_rango = (var_estrato.max() - var_estrato.min()) #4\n",
    "var_estrato.describe()  # min = 2 ; max = 6; 25% = 4 ; 50% = 5 ; 75% = 6 ; count = 347;"
   ],
   "metadata": {
    "collapsed": false,
    "pycharm": {
     "name": "#%%\n"
    }
   }
  },
  {
   "cell_type": "code",
   "execution_count": null,
   "outputs": [],
   "source": [
    "var_alcobas = df['alcobas']\n",
    "\n",
    "'''Medidas de tendencia central'''\n",
    "alcobas_mean = var_alcobas.mean() #4.64\n",
    "alcobas_median = var_alcobas.median() #5\n",
    "alcobas_mode = var_alcobas.mode() #6\n",
    "\n",
    "'''Medidas de dispersion'''\n",
    "alcobas_std = var_alcobas.std(ddof = 0) #1.19, valor poblacional no muestral. Muestral : ddof = 1\n",
    "alcobas_varianza = var_alcobas.var(ddof = 0) #1.421 ,valor poblacional no muestral. Muestral : ddof = 1\n",
    "alcobas_asimetria = var_alcobas.skew() #-0.247\n",
    "alcobas_curtosis = kurtosis(var_alcobas, fisher= False) #1.674\n",
    "estrato_rango = (var_estrato.max() - var_estrato.min()) #4\n",
    "var_estrato.describe()  # min = 2 ; max = 6; 25% = 4 ; 50% = 5 ; 75% = 6 ; count = 347;"
   ],
   "metadata": {
    "collapsed": false,
    "pycharm": {
     "name": "#%%\n"
    }
   }
  }
 ],
 "metadata": {
  "kernelspec": {
   "display_name": "Python 3",
   "language": "python",
   "name": "python3"
  },
  "language_info": {
   "codemirror_mode": {
    "name": "ipython",
    "version": 2
   },
   "file_extension": ".py",
   "mimetype": "text/x-python",
   "name": "python",
   "nbconvert_exporter": "python",
   "pygments_lexer": "ipython2",
   "version": "2.7.6"
  }
 },
 "nbformat": 4,
 "nbformat_minor": 0
}