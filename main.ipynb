{
 "cells": [
  {
   "cell_type": "code",
   "execution_count": 145,
   "outputs": [],
   "source": [
    "import pandas as pd\n",
    "from scipy.stats import kurtosis\n",
    "import matplotlib.pyplot as plt\n",
    "import seaborn as sb\n",
    "sb.set_theme(style=\"whitegrid\")\n",
    "sb.set(rc={'figure.figsize':(11.7,8.27)})"
   ],
   "metadata": {
    "collapsed": false,
    "pycharm": {
     "name": "#%%\n"
    }
   }
  },
  {
   "cell_type": "code",
   "execution_count": 146,
   "outputs": [],
   "source": [
    "df = pd.read_excel('./Grupo 01.xlsx')\n",
    "#TODO: cuantitativas cosntruir un grafico\n",
    "#TODO: grafico para cualitativas\n",
    "#TODO: medidas de tendencia central para precio segun el parqueadero\n",
    "#TODO: medias de tendencia central para mt2 segun si esta terminaod o no\n",
    "#TODO: box-plot para las ultimas dos tareas"
   ],
   "metadata": {
    "collapsed": false,
    "pycharm": {
     "name": "#%%\n"
    }
   }
  },
  {
   "cell_type": "markdown",
   "source": [
    "## Center's Measurement"
   ],
   "metadata": {
    "collapsed": false
   }
  },
  {
   "cell_type": "code",
   "execution_count": 173,
   "outputs": [
    {
     "ename": "TypeError",
     "evalue": "list indices must be integers or slices, not range",
     "output_type": "error",
     "traceback": [
      "\u001B[1;31m---------------------------------------------------------------------------\u001B[0m",
      "\u001B[1;31mTypeError\u001B[0m                                 Traceback (most recent call last)",
      "Input \u001B[1;32mIn [173]\u001B[0m, in \u001B[0;36m<cell line: 10>\u001B[1;34m()\u001B[0m\n\u001B[0;32m      8\u001B[0m df_variables\u001B[38;5;241m.\u001B[39mcolumns \u001B[38;5;241m=\u001B[39m [\u001B[38;5;124m'\u001B[39m\u001B[38;5;124mMedia\u001B[39m\u001B[38;5;124m'\u001B[39m]\n\u001B[0;32m      9\u001B[0m df_variables[\u001B[38;5;124m'\u001B[39m\u001B[38;5;124mMediana\u001B[39m\u001B[38;5;124m'\u001B[39m] \u001B[38;5;241m=\u001B[39m var_mediana\n\u001B[1;32m---> 10\u001B[0m df_variables[\u001B[38;5;124m'\u001B[39m\u001B[38;5;124mModa\u001B[39m\u001B[38;5;124m'\u001B[39m] \u001B[38;5;241m=\u001B[39m \u001B[43mvar_mode\u001B[49m\u001B[43m[\u001B[49m\u001B[38;5;28;43mrange\u001B[39;49m\u001B[43m(\u001B[49m\u001B[38;5;241;43m0\u001B[39;49m\u001B[43m,\u001B[49m\u001B[38;5;241;43m7\u001B[39;49m\u001B[43m)\u001B[49m\u001B[43m]\u001B[49m\n\u001B[0;32m     11\u001B[0m df_variables\n",
      "\u001B[1;31mTypeError\u001B[0m: list indices must be integers or slices, not range"
     ]
    }
   ],
   "source": [
    "variables = ['precio','mt2','estrato','alcobas','banos','administracion','avaluo']\n",
    "\n",
    "var_media = [round(df[i].mean(),2) for i in variables]\n",
    "var_mediana = [round(df[i].median(),2) for i in variables]\n",
    "var_mode = [round(df[i].mode(),2) for i in variables]\n",
    "\n",
    "df_variables = pd.DataFrame(var_media)\n",
    "df_variables.columns = ['Media']\n",
    "df_variables['Mediana'] = var_mediana\n",
    "df_variables['Moda'] = var_mode\n",
    "df_variables"
   ],
   "metadata": {
    "collapsed": false,
    "pycharm": {
     "name": "#%%\n"
    }
   }
  },
  {
   "cell_type": "markdown",
   "source": [
    "## Scattering's Measurement"
   ],
   "metadata": {
    "collapsed": false
   }
  },
  {
   "cell_type": "code",
   "execution_count": 148,
   "outputs": [],
   "source": [
    "var_std = [round(df[i].std(),2) for i in variables]\n",
    "# var_std\n",
    "var_min = [df[i].min() for i in variables]\n",
    "# var_min\n",
    "var_max = [df[i].max() for i in variables]\n",
    "# var_max\n",
    "var_q1 = [round(df[i].quantile(q=0.25),2) for i in variables]\n",
    "# var_q1\n",
    "var_q3 = [round(df[i].quantile(q=0.75),2) for i in variables]\n",
    "# var_q3\n",
    "var_var = [round(df[i].var(),2) for i in variables]\n",
    "# var_var\n",
    "var_asi = [round(df[i].skew(),2) for i in variables]\n",
    "# var_asi\n",
    "var_kur = [round(kurtosis(df[i], fisher=False),2) for i in variables]\n",
    "# var_kur\n",
    "var_range = [df[i].max() - df[i].min() for i in variables]\n",
    "# var_range"
   ],
   "metadata": {
    "collapsed": false,
    "pycharm": {
     "name": "#%%\n"
    }
   }
  },
  {
   "cell_type": "markdown",
   "source": [
    "### Cualitative variable types"
   ],
   "metadata": {
    "collapsed": false,
    "pycharm": {
     "name": "#%% md\n"
    }
   }
  },
  {
   "cell_type": "code",
   "execution_count": 149,
   "outputs": [],
   "source": [
    "def get_acum (dataframe,option):\n",
    "    \"\"\"Funcion que llena un arreglo <storaged> con los valores acumulados\n",
    "       de la suma de cada elemento dentro del <dataframe>\n",
    "    \"\"\"\n",
    "    acum = 0\n",
    "    storaged = []\n",
    "\n",
    "    if option == 1: #opcion para obtener la frecuncia absoluta\n",
    "       values = dataframe['Frecuencia_absoluta'].values\n",
    "\n",
    "       for i in values:\n",
    "            acum = acum + i\n",
    "            storaged.append(acum)\n",
    "\n",
    "       dataframe['Frec_absoluta_acumulada'] = storaged\n",
    "\n",
    "    elif option == 2: #opcion para obtener la frecuencia relativa\n",
    "        values = dataframe['Frecuencia_relativa'].values\n",
    "\n",
    "        for i in values:\n",
    "            acum = acum + i\n",
    "            storaged.append(acum)\n",
    "\n",
    "        dataframe['Frec_relativa_acumulada'] = storaged\n",
    "\n",
    "def get_frec_ab (values):\n",
    "    \"\"\"Funcion que retorna un dataframe.\n",
    "       Se obtiene la frec_ab y se conviente en dataframe.\n",
    "    \"\"\"\n",
    "    frec_ab = values.value_counts()\n",
    "    frec_df = pd.DataFrame(frec_ab)\n",
    "    frec_df.columns = ['Frecuencia_absoluta']\n",
    "    return frec_df\n",
    "\n",
    "def get_frec_rel (dataframe,source):\n",
    "    \"\"\"Funcion que actualiza el parametro <datagrame> anadiendo la columna\n",
    "       de frec_relativas.\n",
    "    \"\"\"\n",
    "    dataframe['Frecuencia_relativa'] = round(dataframe['Frecuencia_absoluta'] * 100 / len(source),3)\n"
   ],
   "metadata": {
    "collapsed": false,
    "pycharm": {
     "name": "#%%\n"
    }
   }
  },
  {
   "cell_type": "code",
   "execution_count": 150,
   "outputs": [],
   "source": [
    "var_ubicacion = df['ubicacion']\n",
    "\n",
    "'''Frecuencia absoluta'''\n",
    "\n",
    "frec_ubicacion = get_frec_ab(var_ubicacion)\n",
    "\n",
    "'''Frecuencia relativa'''\n",
    "\n",
    "get_frec_rel(frec_ubicacion,var_ubicacion)\n",
    "\n",
    "'''Frecuencia absoluta acumulada'''\n",
    "get_acum(frec_ubicacion,1)\n",
    "\n",
    "'''Frecuencia relativa acumulada'''\n",
    "\n",
    "get_acum(frec_ubicacion,2)"
   ],
   "metadata": {
    "collapsed": false,
    "pycharm": {
     "name": "#%%\n"
    }
   }
  },
  {
   "cell_type": "code",
   "execution_count": 151,
   "outputs": [],
   "source": [
    "var_balcon = df['balcon']\n",
    "\n",
    "\n",
    "'''Frecuencia absoluta'''\n",
    "\n",
    "frec_balcon = get_frec_ab(var_balcon)\n",
    "\n",
    "'''Frecuencia relativa'''\n",
    "\n",
    "get_frec_rel(frec_balcon,var_balcon)\n",
    "\n",
    "'''Frecuencia absoluta acumulada'''\n",
    "get_acum(frec_balcon,1)\n",
    "\n",
    "'''Frecuencia relativa acumulada'''\n",
    "get_acum(frec_balcon,2)\n"
   ],
   "metadata": {
    "collapsed": false,
    "pycharm": {
     "name": "#%%\n"
    }
   }
  },
  {
   "cell_type": "code",
   "execution_count": 152,
   "outputs": [],
   "source": [
    "var_parqueadero = df['parqueadero']\n",
    "\n",
    "'''Frecuencia absoluta'''\n",
    "\n",
    "frec_parqueadero = get_frec_ab(var_parqueadero)\n",
    "\n",
    "'''Frecuencia relativa'''\n",
    "\n",
    "get_frec_rel(frec_parqueadero,var_parqueadero)\n",
    "\n",
    "'''Frecuencia absoluta acumulada'''\n",
    "get_acum(frec_parqueadero,1)\n",
    "\n",
    "'''Frecuencia relativa acumulada'''\n",
    "get_acum(frec_parqueadero,2)"
   ],
   "metadata": {
    "collapsed": false,
    "pycharm": {
     "name": "#%%\n"
    }
   }
  },
  {
   "cell_type": "code",
   "execution_count": 153,
   "outputs": [],
   "source": [
    "var_terminado = df['terminado']\n",
    "\n",
    "'''Frecuencia absoluta'''\n",
    "\n",
    "frec_terminado = get_frec_ab(var_terminado)\n",
    "\n",
    "'''Frecuencia relativa'''\n",
    "\n",
    "get_frec_rel(frec_terminado,var_terminado)\n",
    "\n",
    "'''Frecuencia absoluta acumulada'''\n",
    "get_acum(frec_terminado,1)\n",
    "\n",
    "'''Frecuencia relativa acumulada'''\n",
    "get_acum(frec_terminado,2)"
   ],
   "metadata": {
    "collapsed": false,
    "pycharm": {
     "name": "#%%\n"
    }
   }
  },
  {
   "cell_type": "code",
   "execution_count": 154,
   "outputs": [],
   "source": [
    "# var_columna = df['nombre de la columna/variable de mi interes']\n",
    "#variables_categoricas_disponibles = ['ubicacion','balcon','parqueadero','terminado']"
   ],
   "metadata": {
    "collapsed": false,
    "pycharm": {
     "name": "#%%\n"
    }
   }
  },
  {
   "cell_type": "markdown",
   "source": [
    "## Price regarding of parqueadero"
   ],
   "metadata": {
    "collapsed": false,
    "pycharm": {
     "name": "#%% md\n"
    }
   }
  },
  {
   "cell_type": "code",
   "execution_count": 155,
   "outputs": [],
   "source": [
    "# sb.barplot(x='parqueadero',y='precio',data=df).set_title(\"Precios segun si hay parqueo o no\")\n",
    "# plt.axhline(df['precio'].mean(), color =\"r\", linestyle = '--', linewidth = 5)\n",
    "# plt.axhline(df['precio'].median(), color =\"g\", linestyle = '--', linewidth = 5)\n",
    "# plt.axhline(df['precio'].mode().values, color =\"y\", linestyle = 'dashdot', linewidth = 5)"
   ],
   "metadata": {
    "collapsed": false,
    "pycharm": {
     "name": "#%%\n"
    }
   }
  },
  {
   "cell_type": "code",
   "execution_count": 156,
   "outputs": [],
   "source": [
    "# yes_median = round(df[(df['parqueadero'] == 'si')]['precio'].median(),2)\n",
    "# yes_mean = round(df[(df['parqueadero'] == 'si')]['precio'].mean(),2)\n",
    "# yes_mode = round(df[(df['parqueadero'] == 'si')]['precio'].mode(),2)\n",
    "# no_median = round(df[(df['parqueadero'] == 'no')]['precio'].median(),2)\n",
    "# no_mean = round(df[(df['parqueadero'] == 'no')]['precio'].mean(),2)\n",
    "# no_mode = round(df[(df['parqueadero'] == 'no')]['precio'].mode(),2)\n",
    "#\n",
    "# df_yn = pd.DataFrame()\n",
    "# df_yn['si'] = [yes_mean,yes_median,yes_mode]\n",
    "# df_yn['no'] = [no_mean,no_median,no_mode]\n",
    "# df_yn\n"
   ],
   "metadata": {
    "collapsed": false,
    "pycharm": {
     "name": "#%%\n"
    }
   }
  },
  {
   "cell_type": "code",
   "execution_count": 244,
   "outputs": [
    {
     "data": {
      "text/plain": "                media_$  mediana_$          moda_$\nparqueadero                                       \nno           137.169565      130.0           130.0\nsi           361.682162      285.0  [220.0, 260.0]",
      "text/html": "<div>\n<style scoped>\n    .dataframe tbody tr th:only-of-type {\n        vertical-align: middle;\n    }\n\n    .dataframe tbody tr th {\n        vertical-align: top;\n    }\n\n    .dataframe thead th {\n        text-align: right;\n    }\n</style>\n<table border=\"1\" class=\"dataframe\">\n  <thead>\n    <tr style=\"text-align: right;\">\n      <th></th>\n      <th>media_$</th>\n      <th>mediana_$</th>\n      <th>moda_$</th>\n    </tr>\n    <tr>\n      <th>parqueadero</th>\n      <th></th>\n      <th></th>\n      <th></th>\n    </tr>\n  </thead>\n  <tbody>\n    <tr>\n      <th>no</th>\n      <td>137.169565</td>\n      <td>130.0</td>\n      <td>130.0</td>\n    </tr>\n    <tr>\n      <th>si</th>\n      <td>361.682162</td>\n      <td>285.0</td>\n      <td>[220.0, 260.0]</td>\n    </tr>\n  </tbody>\n</table>\n</div>"
     },
     "execution_count": 244,
     "metadata": {},
     "output_type": "execute_result"
    }
   ],
   "source": [
    "var_precio = df['precio']\n",
    "df_pp = pd.DataFrame()\n",
    "df_pp['media_$'] = var_precio\n",
    "df_pp['parqueadero'] = var_parqueadero\n",
    "arto = df_pp.groupby(['parqueadero']).mean()\n",
    "parqueadero = arto.index.values\n",
    "media = arto.values\n",
    "mediana = df_pp.groupby(['parqueadero']).median()\n",
    "mediana = mediana['media_$'].values\n",
    "arto['mediana_$'] = mediana\n",
    "mm = df_pp.groupby(['parqueadero']).agg(pd.Series.mode)\n",
    "mm = mm.values\n",
    "arto['moda_$'] = mm\n",
    "\n",
    "# measurements = []\n",
    "#\n",
    "# def put_inside (arr):\n",
    "#     for i in range(0,2):\n",
    "#         measurements.append(arr[i])\n",
    "#\n",
    "# put_inside(media.tolist())\n",
    "# put_inside(mediana.tolist())\n",
    "# put_inside(mm.tolist())\n",
    "#\n",
    "# new_df = pd.DataFrame()\n",
    "# new_df['parking'] = parqueadero\n",
    "# new_df['s'] = measurements\n",
    "arto"
   ],
   "metadata": {
    "collapsed": false,
    "pycharm": {
     "name": "#%%\n"
    }
   }
  },
  {
   "cell_type": "markdown",
   "source": [
    "## Mt2 regarding of terminado"
   ],
   "metadata": {
    "collapsed": false
   }
  },
  {
   "cell_type": "code",
   "execution_count": 197,
   "outputs": [
    {
     "data": {
      "text/plain": "              media_$  mediana_$  moda_$ terminado\nterminado                                         \nno          93.038333       78.5    62.0        no\nsi         124.983413      100.0    60.0        si",
      "text/html": "<div>\n<style scoped>\n    .dataframe tbody tr th:only-of-type {\n        vertical-align: middle;\n    }\n\n    .dataframe tbody tr th {\n        vertical-align: top;\n    }\n\n    .dataframe thead th {\n        text-align: right;\n    }\n</style>\n<table border=\"1\" class=\"dataframe\">\n  <thead>\n    <tr style=\"text-align: right;\">\n      <th></th>\n      <th>media_$</th>\n      <th>mediana_$</th>\n      <th>moda_$</th>\n      <th>terminado</th>\n    </tr>\n    <tr>\n      <th>terminado</th>\n      <th></th>\n      <th></th>\n      <th></th>\n      <th></th>\n    </tr>\n  </thead>\n  <tbody>\n    <tr>\n      <th>no</th>\n      <td>93.038333</td>\n      <td>78.5</td>\n      <td>62.0</td>\n      <td>no</td>\n    </tr>\n    <tr>\n      <th>si</th>\n      <td>124.983413</td>\n      <td>100.0</td>\n      <td>60.0</td>\n      <td>si</td>\n    </tr>\n  </tbody>\n</table>\n</div>"
     },
     "execution_count": 197,
     "metadata": {},
     "output_type": "execute_result"
    }
   ],
   "source": [
    "var_mt2 = df['mt2']\n",
    "mt = pd.DataFrame()\n",
    "mt['media_$'] = var_mt2\n",
    "mt['terminado'] = var_terminado\n",
    "df_mt = mt.groupby(['terminado']).mean()\n",
    "mediana = mt.groupby(['terminado']).median()\n",
    "mediana = mediana['media_$'].values\n",
    "df_mt['mediana_$'] = mediana\n",
    "moda = mt.groupby(['terminado']).agg(pd.Series.mode)\n",
    "df_mt['moda_$'] = moda\n",
    "terminado = df_mt.index.values\n",
    "df_mt['terminado'] = terminado\n",
    "df_mt"
   ],
   "metadata": {
    "collapsed": false,
    "pycharm": {
     "name": "#%%\n"
    }
   }
  },
  {
   "cell_type": "code",
   "execution_count": 187,
   "outputs": [
    {
     "data": {
      "text/plain": "361.6821618705036"
     },
     "execution_count": 187,
     "metadata": {},
     "output_type": "execute_result"
    }
   ],
   "source": [
    "# sb.boxplot(x='parqueadero',y='precio',data=df)\n",
    "# plt.axhline(yes_mean, color =\"r\", linestyle = '--', linewidth = 5)\n",
    "# plt.axhline(yes_median, color =\"g\", linestyle = '--', linewidth = 5)\n",
    "# plt.axhline(yes_mode.values, color =\"y\", linestyle = 'dashdot', linewidth = 5)"
   ],
   "metadata": {
    "collapsed": false,
    "pycharm": {
     "name": "#%%\n"
    }
   }
  },
  {
   "cell_type": "code",
   "execution_count": 159,
   "outputs": [],
   "source": [
    "# sb.barplot(x='terminado',y='mt2',data=df).set_title(\"mt2 segun estado de activo inmueble\")\n",
    "# plt.axhline(df['mt2'].mean(), color =\"r\", linestyle = '--', linewidth = 5)\n",
    "# plt.axhline(df['mt2'].median(), color =\"g\", linestyle = '--', linewidth = 5)\n",
    "# plt.axhline(df['mt2'].mode().values, color =\"y\", linestyle = 'dashdot', linewidth = 5)"
   ],
   "metadata": {
    "collapsed": false,
    "pycharm": {
     "name": "#%%\n"
    }
   }
  },
  {
   "cell_type": "code",
   "execution_count": 256,
   "outputs": [
    {
     "data": {
      "text/plain": "<AxesSubplot:>"
     },
     "execution_count": 256,
     "metadata": {},
     "output_type": "execute_result"
    },
    {
     "data": {
      "text/plain": "<Figure size 842.4x595.44 with 1 Axes>",
      "image/png": "[encoded data removed]"
     },
     "metadata": {},
     "output_type": "display_data"
    }
   ],
   "source": [
    "# sb.boxplot(x='terminado',y=df['precio'],data=df_mt)\n",
    "# plt.axhline(moda.any(), color =\"r\", linestyle = '--', linewidth = 5)\n",
    "# plt.axhline(mediana.any(), color =\"g\", linestyle = '--', linewidth = 5)\n",
    "sb.boxplot(data=df_mt,orient='h')"
   ],
   "metadata": {
    "collapsed": false,
    "pycharm": {
     "name": "#%%\n"
    }
   }
  },
  {
   "cell_type": "code",
   "execution_count": 161,
   "outputs": [],
   "source": [
    "# sb.boxenplot(x='parqueadero',y='precio',data=df)\n",
    "# plt.axhline(df['precio'].mean(), color =\"r\", linestyle = '--', linewidth = 5)\n",
    "# plt.axhline(df['precio'].median(), color =\"g\", linestyle = '--', linewidth = 5)\n",
    "# plt.axhline(df['precio'].mode().values, color =\"y\", linestyle = 'dashdot', linewidth = 5)\n"
   ],
   "metadata": {
    "collapsed": false,
    "pycharm": {
     "name": "#%%\n"
    }
   }
  }
 ],
 "metadata": {
  "kernelspec": {
   "display_name": "Python 3",
   "language": "python",
   "name": "python3"
  },
  "language_info": {
   "codemirror_mode": {
    "name": "ipython",
    "version": 2
   },
   "file_extension": ".py",
   "mimetype": "text/x-python",
   "name": "python",
   "nbconvert_exporter": "python",
   "pygments_lexer": "ipython2",
   "version": "2.7.6"
  }
 },
 "nbformat": 4,
 "nbformat_minor": 0
}